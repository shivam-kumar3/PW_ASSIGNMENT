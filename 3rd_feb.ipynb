{
 "cells": [
  {
   "cell_type": "code",
   "execution_count": 2,
   "id": "d95ac1be-b567-474c-9e3e-c6b7ee7af20d",
   "metadata": {},
   "outputs": [],
   "source": [
    "'''Q.1> Which keyword is used to create a function? Create a function to return a list of \n",
    "        odd numbers in the range of 1 to 25.\n",
    "   Ans> The keyword used to create a function in Python is \"def\".\n",
    "        Here's the code to create a function that returns a list of odd numbers in the range of 1 to 25'''\n",
    "def odd_numbers():\n",
    "    odd_list = []\n",
    "    for i in range(1, 26):\n",
    "        if i % 2 != 0:\n",
    "            odd_list.append(i)\n",
    "    return odd_list"
   ]
  },
  {
   "cell_type": "code",
   "execution_count": 3,
   "id": "6039be5e-e788-47d6-84c4-21d79e7d1381",
   "metadata": {},
   "outputs": [],
   "source": [
    "'''Q.2> Why *args and **kwargs is used in some functions? Create a function each for *args and **kwargs \n",
    "        to demonstrate their use.\n",
    "   Ans> *args and **kwargs are used in functions to allow them to accept a varying number of arguments.\n",
    "\n",
    "        *args is used to send a non-keyworded variable length argument list to the function.\n",
    "        It allows you to pass a variable number of arguments to a function, which will be received as a tuple.\n",
    "\n",
    "        **kwargs is used to pass keyworded variable length of arguments to a function,\n",
    "        which will be received as a dictionary.\n",
    "\n",
    "        Here's an example of how you can use *args and **kwargs in a function:'''\n",
    "def print_args(*args):\n",
    "    print(\"Arguments passed as *args:\", args)\n",
    "    \n",
    "def print_kwargs(**kwargs):\n",
    "    print(\"Arguments passed as **kwargs:\", kwargs)"
   ]
  },
  {
   "cell_type": "code",
   "execution_count": 4,
   "id": "24c62e5e-4476-435c-bccf-be592ceedf4b",
   "metadata": {},
   "outputs": [
    {
     "name": "stdout",
     "output_type": "stream",
     "text": [
      "The first 5 numbers:\n",
      "2\n",
      "4\n",
      "6\n",
      "8\n",
      "10\n"
     ]
    }
   ],
   "source": [
    "''' Q.3> What is an iterator in python? Name the method used to initialise the iterator object and the method \n",
    "         used for iteration. Use these methods to print the first five elements of the given list \n",
    "         [2, 4, 6, 8, 10, 12, 14, 16, 18, 20].\n",
    "    Ans>  An iterator in Python is an object that implements the iterator protocol,\n",
    "          which consists of two methods: __iter__() and __next__(). \n",
    "          The __iter__() method is used to initialize the iterator object, \n",
    "          and the __next__() method is used for iteration.\n",
    "\n",
    "          Here's an example of how you can use the __iter__() and __next__() methods to\n",
    "          print the first five elements of the given list [2, 4, 6, 8, 10, 12, 14, 16, 18, 20] '''\n",
    "numbers = [2, 4, 6, 8, 10, 12, 14, 16, 18, 20]\n",
    "\n",
    "class TopNumbers:\n",
    "    def __init__(self, limit):\n",
    "        self.limit = limit\n",
    "        self.counter = 0\n",
    "\n",
    "    def __iter__(self):\n",
    "        return self\n",
    "\n",
    "    def __next__(self):\n",
    "        if self.counter < self.limit:\n",
    "            number = numbers[self.counter]\n",
    "            self.counter += 1\n",
    "            return number\n",
    "        else:\n",
    "            raise StopIteration\n",
    "\n",
    "print(\"The first 5 numbers:\")\n",
    "for number in TopNumbers(5):\n",
    "    print(number)"
   ]
  },
  {
   "cell_type": "code",
   "execution_count": 5,
   "id": "61c34be6-a991-4e6f-a55d-379498cd1684",
   "metadata": {},
   "outputs": [
    {
     "name": "stdout",
     "output_type": "stream",
     "text": [
      "Fibonacci sequence:\n",
      "0\n",
      "1\n",
      "1\n",
      "2\n",
      "3\n",
      "5\n",
      "8\n",
      "13\n"
     ]
    }
   ],
   "source": [
    "''' Q.4>  What is a generator function in python? Why yield keyword is used? \n",
    "          Give an example of a generator function.\n",
    "    Ans> A generator function in Python is a function that returns a generator iterator.\n",
    "         The yield keyword is used to return a value from a generator function and pause the \n",
    "         function's execution. When the generator function is called again, it resumes execution\n",
    "         from where it left off, using the saved state from the last call to yield.'''\n",
    "def fibonacci_sequence(limit):\n",
    "    a, b = 0, 1\n",
    "    while a < limit:\n",
    "        yield a\n",
    "        a, b = b, a + b\n",
    "\n",
    "fib = fibonacci_sequence(20)\n",
    "\n",
    "print(\"Fibonacci sequence:\")\n",
    "for number in fib:\n",
    "    print(number)       "
   ]
  },
  {
   "cell_type": "code",
   "execution_count": 6,
   "id": "e343ddd1-0c91-4f50-8680-a142978e114b",
   "metadata": {},
   "outputs": [
    {
     "name": "stdout",
     "output_type": "stream",
     "text": [
      "The first 20 prime numbers:\n",
      "2\n",
      "3\n",
      "5\n",
      "7\n",
      "11\n",
      "13\n",
      "17\n",
      "19\n",
      "23\n",
      "29\n",
      "31\n",
      "37\n",
      "41\n",
      "43\n",
      "47\n",
      "53\n",
      "59\n",
      "61\n",
      "67\n",
      "71\n"
     ]
    }
   ],
   "source": [
    "'''Q.5> Create a generator function for prime numbers less than 1000.\n",
    "        Use the next() method to print the first 20 prime numbers'''\n",
    "def prime_numbers():\n",
    "    yield 2\n",
    "    primes = [2]\n",
    "    candidate = 3\n",
    "    while candidate < 1000:\n",
    "        is_prime = True\n",
    "        for prime in primes:\n",
    "            if candidate % prime == 0:\n",
    "                is_prime = False\n",
    "                break\n",
    "        if is_prime:\n",
    "            primes.append(candidate)\n",
    "            yield candidate\n",
    "        candidate += 2\n",
    "\n",
    "primes = prime_numbers()\n",
    "\n",
    "print(\"The first 20 prime numbers:\")\n",
    "for i in range(20):\n",
    "    print(next(primes))"
   ]
  },
  {
   "cell_type": "code",
   "execution_count": 7,
   "id": "dc30841a-b1ee-4052-9573-fbf781afc20e",
   "metadata": {},
   "outputs": [
    {
     "name": "stdout",
     "output_type": "stream",
     "text": [
      "0\n",
      "1\n",
      "1\n",
      "2\n",
      "3\n",
      "5\n",
      "8\n",
      "13\n",
      "21\n",
      "34\n"
     ]
    }
   ],
   "source": [
    "#Q.6> Write a python program to print the first 10 Fibonacci numbers using a while looP\n",
    "a, b = 0, 1\n",
    "count = 0\n",
    "\n",
    "while count < 10:\n",
    "    print(a)\n",
    "    a, b = b, a + b\n",
    "    count += 1"
   ]
  },
  {
   "cell_type": "code",
   "execution_count": 8,
   "id": "0b5257bb-63b4-4344-a51f-43d43b3ce466",
   "metadata": {},
   "outputs": [
    {
     "name": "stdout",
     "output_type": "stream",
     "text": [
      "['p', 'w', 's', 'k', 'i', 'l', 'l', 's']\n"
     ]
    }
   ],
   "source": [
    "''' Q.7> Write a List Comprehension to iterate through the given string: ‘pwskills’.\n",
    "         Expected output: ['p', 'w', 's', 'k', 'i', 'l', 'l', 's'] '''\n",
    "string = 'pwskills'\n",
    "characters = [char for char in string]\n",
    "print(characters)"
   ]
  },
  {
   "cell_type": "code",
   "execution_count": 9,
   "id": "042fd52b-490c-46e5-b34b-38e769883b34",
   "metadata": {},
   "outputs": [
    {
     "name": "stdin",
     "output_type": "stream",
     "text": [
      "Enter a number:  25\n"
     ]
    },
    {
     "name": "stdout",
     "output_type": "stream",
     "text": [
      "25 is not a palindrome.\n"
     ]
    }
   ],
   "source": [
    "#Q.8>  Write a python program to check whether a given number is Palindrome or not using a while loop.\n",
    "def is_palindrome(num):\n",
    "    original = num\n",
    "    reverse = 0\n",
    "    while num > 0:\n",
    "        digit = num % 10\n",
    "        reverse = reverse * 10 + digit\n",
    "        num = num // 10\n",
    "    return original == reverse\n",
    "\n",
    "number = int(input(\"Enter a number: \"))\n",
    "if is_palindrome(number):\n",
    "    print(f\"{number} is a palindrome.\")\n",
    "else:\n",
    "    print(f\"{number} is not a palindrome.\")"
   ]
  },
  {
   "cell_type": "code",
   "execution_count": null,
   "id": "538c4bf0-32dd-41cd-85e1-bdf2388f5701",
   "metadata": {},
   "outputs": [],
   "source": []
  }
 ],
 "metadata": {
  "kernelspec": {
   "display_name": "Python 3 (ipykernel)",
   "language": "python",
   "name": "python3"
  },
  "language_info": {
   "codemirror_mode": {
    "name": "ipython",
    "version": 3
   },
   "file_extension": ".py",
   "mimetype": "text/x-python",
   "name": "python",
   "nbconvert_exporter": "python",
   "pygments_lexer": "ipython3",
   "version": "3.10.8"
  }
 },
 "nbformat": 4,
 "nbformat_minor": 5
}
