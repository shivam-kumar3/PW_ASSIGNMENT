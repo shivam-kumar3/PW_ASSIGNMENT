{
 "cells": [
  {
   "cell_type": "code",
   "execution_count": null,
   "id": "727deca0-4431-44af-9639-bd0f5911250f",
   "metadata": {},
   "outputs": [],
   "source": [
    "Q1. Explain GET and POST methods.\n",
    "GET method used to retrieve information from a web server.\n",
    "\n",
    "ans-POST method commonly used to send information to web server. POST is more secure than GET. GET show information on link"
   ]
  },
  {
   "cell_type": "code",
   "execution_count": null,
   "id": "053278df-9e75-4c68-8b98-d277b04b6b13",
   "metadata": {},
   "outputs": [],
   "source": [
    "Q2. Why is request used in Flask?\n",
    "ans- request is a HTTP request, send by client to Flask application to access server. It is GET, POST, DELETE .etc"
   ]
  },
  {
   "cell_type": "code",
   "execution_count": null,
   "id": "35d0b688-b8a3-44d9-8987-d36026846c3c",
   "metadata": {},
   "outputs": [],
   "source": [
    "Q3. Why is redirect() used in Flask?\n",
    "ans-redirect() used to redirect client to a specific URL. It is commenly used on web application to redirect client to a page."
   ]
  },
  {
   "cell_type": "code",
   "execution_count": null,
   "id": "0a3bf904-a2cc-4eba-80ea-7775a8622175",
   "metadata": {},
   "outputs": [],
   "source": [
    "Q4. What are templates in Flask? Why is the render_template() function used?\n",
    "ans-Templates is a separate folder which is used to save static and dynamic content, like HTML, CSS, JS files .etc\n",
    "\n",
    "render_template() It is used to link the template with a specific route or URL. When client goes to specific URL then render any specific file."
   ]
  },
  {
   "cell_type": "code",
   "execution_count": null,
   "id": "1ef2dbc8-188b-4a19-a718-a67eb19dd635",
   "metadata": {},
   "outputs": [],
   "source": []
  },
  {
   "cell_type": "code",
   "execution_count": null,
   "id": "decab877-3c1e-419d-a486-4c354e315ab0",
   "metadata": {},
   "outputs": [],
   "source": []
  },
  {
   "cell_type": "code",
   "execution_count": null,
   "id": "b6a03805-9f75-4405-89c4-1ae8cea32fc2",
   "metadata": {},
   "outputs": [],
   "source": []
  },
  {
   "cell_type": "code",
   "execution_count": null,
   "id": "b044e0ba-bad4-4c3e-9684-b3b05413a9b4",
   "metadata": {},
   "outputs": [],
   "source": []
  },
  {
   "cell_type": "code",
   "execution_count": null,
   "id": "45678d7c-a8e5-4bd4-adb3-82b37a971ba7",
   "metadata": {},
   "outputs": [],
   "source": []
  },
  {
   "cell_type": "code",
   "execution_count": null,
   "id": "b0b6da00-8540-4218-ad7d-a51d333ce727",
   "metadata": {},
   "outputs": [],
   "source": []
  }
 ],
 "metadata": {
  "kernelspec": {
   "display_name": "Python 3 (ipykernel)",
   "language": "python",
   "name": "python3"
  },
  "language_info": {
   "codemirror_mode": {
    "name": "ipython",
    "version": 3
   },
   "file_extension": ".py",
   "mimetype": "text/x-python",
   "name": "python",
   "nbconvert_exporter": "python",
   "pygments_lexer": "ipython3",
   "version": "3.10.8"
  }
 },
 "nbformat": 4,
 "nbformat_minor": 5
}
