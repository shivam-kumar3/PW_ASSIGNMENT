{
 "cells": [
  {
   "cell_type": "raw",
   "id": "3862ccfb-4234-4002-b888-8ffff8d5beb7",
   "metadata": {},
   "source": [
    "Q1. Explain GET and POST methods.\n",
    "GET method used to retrieve information from a web server.\n",
    "\n",
    "POST method commonly used to send information to web server. POST is more secure than GET. GET show information on link"
   ]
  },
  {
   "cell_type": "raw",
   "id": "fce46a5c-4ca5-43ed-b0b1-b17481fb2c87",
   "metadata": {},
   "source": [
    "Q2. Why is request used in Flask?\n",
    "request is a HTTP request, send by client to Flask application to access server. It is GET, POST, DELETE .etc"
   ]
  },
  {
   "cell_type": "raw",
   "id": "28bc3f46-7856-4bbc-8682-35f1fccc7058",
   "metadata": {},
   "source": [
    "Q3. Why is redirect() used in Flask?\n",
    "redirect() used to redirect client to a specific URL. It is commenly used on web application to redirect client to a page."
   ]
  },
  {
   "cell_type": "raw",
   "id": "28430c06-7aa5-4b32-a1e1-c9b2553db9f1",
   "metadata": {},
   "source": [
    "Q4. What are templates in Flask? Why is the render_template() function used?\n",
    "Templates is a separate folder which is used to save static and dynamic content, like HTML, CSS, JS files .etc\n",
    "\n",
    "render_template() It is used to link the template with a specific route or URL. When client goes to specific URL then render any specific file."
   ]
  },
  {
   "cell_type": "code",
   "execution_count": null,
   "id": "1ef2dbc8-188b-4a19-a718-a67eb19dd635",
   "metadata": {},
   "outputs": [],
   "source": []
  },
  {
   "cell_type": "code",
   "execution_count": null,
   "id": "decab877-3c1e-419d-a486-4c354e315ab0",
   "metadata": {},
   "outputs": [],
   "source": []
  },
  {
   "cell_type": "code",
   "execution_count": null,
   "id": "b6a03805-9f75-4405-89c4-1ae8cea32fc2",
   "metadata": {},
   "outputs": [],
   "source": []
  },
  {
   "cell_type": "code",
   "execution_count": null,
   "id": "b044e0ba-bad4-4c3e-9684-b3b05413a9b4",
   "metadata": {},
   "outputs": [],
   "source": []
  },
  {
   "cell_type": "code",
   "execution_count": null,
   "id": "45678d7c-a8e5-4bd4-adb3-82b37a971ba7",
   "metadata": {},
   "outputs": [],
   "source": []
  },
  {
   "cell_type": "code",
   "execution_count": null,
   "id": "b0b6da00-8540-4218-ad7d-a51d333ce727",
   "metadata": {},
   "outputs": [],
   "source": []
  }
 ],
 "metadata": {
  "kernelspec": {
   "display_name": "Python 3 (ipykernel)",
   "language": "python",
   "name": "python3"
  },
  "language_info": {
   "codemirror_mode": {
    "name": "ipython",
    "version": 3
   },
   "file_extension": ".py",
   "mimetype": "text/x-python",
   "name": "python",
   "nbconvert_exporter": "python",
   "pygments_lexer": "ipython3",
   "version": "3.10.8"
  }
 },
 "nbformat": 4,
 "nbformat_minor": 5
}
