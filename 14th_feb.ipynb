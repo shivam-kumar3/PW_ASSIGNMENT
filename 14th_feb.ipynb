{
 "cells": [
  {
   "cell_type": "raw",
   "id": "fffeba89-8cb6-4231-b9a1-015fc22a2df9",
   "metadata": {},
   "source": [
    "Q1. What is multithreading in python? Why is it used? Name the module used to handle threads in python.\n",
    "Ans :\n",
    "\n",
    "Thread is called task, So multithreading is a process to work on multiple task at a time.\n",
    "It is used to save the time and work do first, suppose If you want to upload 10 videos on database and there is not need a sequence for uploading then use multithreading to upload video."
   ]
  },
  {
   "cell_type": "code",
   "execution_count": 1,
   "id": "94960af6-88af-485c-a082-f1bf6776fed5",
   "metadata": {},
   "outputs": [],
   "source": [
    "import threading        # threading module"
   ]
  },
  {
   "cell_type": "raw",
   "id": "1c560eae-5fbc-4cac-b88d-38e4c399fa6c",
   "metadata": {},
   "source": [
    "Q2. Why threading module used? Write the use of the following functions:\n",
    "activeCount()\n",
    "currentThread()\n",
    "enumerate()\n",
    "Ans :\n",
    "threading is a module used to do multiple task on same time. threading creates number of thread to execute task.\n",
    "\n",
    "threading.activeCount() : Return the number of Thread objects currently working.\n",
    "threading.currentThread() : Return current thread ID and his name, you can get name by using threading.current_thread().getName()\n",
    "threading.enumerate() : The enumerate() function returns a list of all currently active Thread objects."
   ]
  },
  {
   "cell_type": "code",
   "execution_count": 7,
   "id": "a7b39b97-9417-46ec-9981-6a3e04dbd966",
   "metadata": {},
   "outputs": [
    {
     "name": "stdout",
     "output_type": "stream",
     "text": [
      "Thread is running\n",
      "Thread is running\n",
      "Hi\n"
     ]
    },
    {
     "name": "stderr",
     "output_type": "stream",
     "text": [
      "/tmp/ipykernel_821/1970884747.py:9: DeprecationWarning: activeCount() is deprecated, use active_count() instead\n",
      "  threading.activeCount()\n"
     ]
    },
    {
     "data": {
      "text/plain": [
       "8"
      ]
     },
     "execution_count": 7,
     "metadata": {},
     "output_type": "execute_result"
    }
   ],
   "source": [
    "from threading import Thread\n",
    "def runThr():\n",
    "    print('Thread is running')\n",
    "t = Thread(target=runThr)\n",
    "t1 = Thread(target=runThr)\n",
    "t.start()\n",
    "t1.start()\n",
    "print('Hi')\n",
    "threading.activeCount()"
   ]
  },
  {
   "cell_type": "code",
   "execution_count": 11,
   "id": "8b84d20d-8295-49f5-a24d-f37688798a94",
   "metadata": {},
   "outputs": [
    {
     "name": "stdout",
     "output_type": "stream",
     "text": [
      "Thread is running\n",
      "<Thread(Thread-23 (runThr), started 140148406744640)>\n",
      "Thread is running\n",
      "<Thread(Thread-24 (runThr), started 140148406744640)>\n",
      "Hi\n"
     ]
    },
    {
     "name": "stderr",
     "output_type": "stream",
     "text": [
      "/tmp/ipykernel_821/1279871153.py:4: DeprecationWarning: currentThread() is deprecated, use current_thread() instead\n",
      "  print(threading.currentThread())\n",
      "/tmp/ipykernel_821/1279871153.py:12: DeprecationWarning: currentThread() is deprecated, use current_thread() instead\n",
      "  threading.currentThread()\n"
     ]
    },
    {
     "data": {
      "text/plain": [
       "<_MainThread(MainThread, started 140149245544256)>"
      ]
     },
     "execution_count": 11,
     "metadata": {},
     "output_type": "execute_result"
    }
   ],
   "source": [
    "from threading import Thread\n",
    "def runThr():\n",
    "    print('Thread is running')\n",
    "    print(threading.currentThread())\n",
    "    \n",
    "    \n",
    "t = Thread(target=runThr)\n",
    "t1 = Thread(target=runThr)\n",
    "t.start()\n",
    "t1.start()\n",
    "print('Hi')\n",
    "threading.currentThread()"
   ]
  },
  {
   "cell_type": "code",
   "execution_count": 12,
   "id": "d12e8fd5-5053-4379-8b40-40c84c48387a",
   "metadata": {},
   "outputs": [
    {
     "name": "stdout",
     "output_type": "stream",
     "text": [
      "<_MainThread(MainThread, started 140149245544256)> \n",
      "\n",
      "<Thread(IOPub, started daemon 140149175014976)> \n",
      "\n",
      "<Heartbeat(Heartbeat, started daemon 140149166622272)> \n",
      "\n",
      "<Thread(Thread-3 (_watch_pipe_fd), started daemon 140148935222848)> \n",
      "\n",
      "<Thread(Thread-4 (_watch_pipe_fd), started daemon 140148926830144)> \n",
      "\n",
      "<ControlThread(Control, started daemon 140148918437440)> \n",
      "\n",
      "<HistorySavingThread(IPythonHistorySavingThread, started 140148910044736)> \n",
      "\n",
      "<ParentPollerUnix(Thread-2, started daemon 140148901652032)> \n",
      "\n"
     ]
    }
   ],
   "source": [
    "result = threading.enumerate()\n",
    "for i in result:\n",
    "    print(i,'\\n')\n",
    "    "
   ]
  },
  {
   "cell_type": "raw",
   "id": "d8b2f7cc-e751-4d60-876f-37ee5bf52cce",
   "metadata": {},
   "source": [
    "Q3. Explain the following functions:\n",
    "run()\n",
    "start()\n",
    "join()\n",
    "isAlive()\n",
    "Ans :\n",
    "\n",
    "run() : Every thread will run this method when thread is started. We can override this method and write our own code as body of the method. A thread will terminate automatically when it comes out of the run() Method.\n",
    "start() : This function used to start a thread when thread is created.\n",
    "join() : This function used to hold next thread untill complete current theread execution.\n",
    "isAlive() : This function replace with is_alive() function, It is used to check whether a thread is currently running or not."
   ]
  },
  {
   "cell_type": "raw",
   "id": "4e34136d-8b3e-4bb8-8a4c-f40544ae4da8",
   "metadata": {},
   "source": [
    "Q4. Write a python program to create two threads. Thread one must print the list of squares and thread two must print the list of cubes."
   ]
  },
  {
   "cell_type": "code",
   "execution_count": 14,
   "id": "ba66c8e2-7e73-4676-80a5-5f364f1154d8",
   "metadata": {},
   "outputs": [],
   "source": [
    "List = [2,3,4,5,5,6,7,4]"
   ]
  },
  {
   "cell_type": "code",
   "execution_count": 15,
   "id": "0d8c5f07-a337-44dd-9564-7a0265e27e31",
   "metadata": {},
   "outputs": [
    {
     "name": "stdout",
     "output_type": "stream",
     "text": [
      "[4, 9, 16, 25, 25, 36, 49, 16]\n"
     ]
    }
   ],
   "source": [
    "import threading\n",
    "square = []\n",
    "def test(a):\n",
    "    square.append(a**2)\n",
    "\n",
    "first_thread = [threading.Thread(target=test , args=(i,) )for i in List]\n",
    "for t in first_thread : \n",
    "    t.start()\n",
    "print(square)"
   ]
  },
  {
   "cell_type": "code",
   "execution_count": 16,
   "id": "9f3796b0-ef06-47c3-b8bf-d0390ec7f6eb",
   "metadata": {},
   "outputs": [
    {
     "name": "stdout",
     "output_type": "stream",
     "text": [
      "[8, 27, 64, 125, 125, 216, 343, 64]\n"
     ]
    }
   ],
   "source": [
    "import threading\n",
    "cube = []\n",
    "def test(a):\n",
    "    cube.append(a**3)\n",
    "\n",
    "second_thread = [threading.Thread(target=test , args=(i,) )for i in List]\n",
    "for t in second_thread : \n",
    "    t.start()\n",
    "print(cube)"
   ]
  },
  {
   "cell_type": "raw",
   "id": "4e23ccf3-1b3d-4033-84d0-3bfd5d90caec",
   "metadata": {},
   "source": [
    "Q5. State advantages and disadvantages of multithreading."
   ]
  },
  {
   "cell_type": "raw",
   "id": "64e09ed9-a453-4af0-953b-f4406cc813be",
   "metadata": {},
   "source": [
    "Advantages\t\n",
    "Improved performance\t\n",
    "Reduced idle time or processing time\t\n",
    "Concurrent execution\t\n",
    "Responsiveness\t\n",
    "\n",
    "Disadvantages\n",
    "Increased complexity\n",
    "Global Interpreter Lock\n",
    "Increased memory usage\n",
    "Thread safety issues"
   ]
  },
  {
   "cell_type": "raw",
   "id": "ed917fb3-84b1-4bf1-9f73-f1dcdab013c8",
   "metadata": {},
   "source": [
    "Q6. Explain deadlocks and race conditions.\n",
    "deadlocks : A deadlock is a situation where two or more threads are blocked and unable to proceed because both are waiting for a resource that the other thread is holding.\n",
    "race conditions : A race condition can occur when two or more threads access a shared variable without proper coordination"
   ]
  },
  {
   "cell_type": "code",
   "execution_count": null,
   "id": "867dc81e-dd08-4ce6-a78f-abe77034e748",
   "metadata": {},
   "outputs": [],
   "source": []
  }
 ],
 "metadata": {
  "kernelspec": {
   "display_name": "Python 3 (ipykernel)",
   "language": "python",
   "name": "python3"
  },
  "language_info": {
   "codemirror_mode": {
    "name": "ipython",
    "version": 3
   },
   "file_extension": ".py",
   "mimetype": "text/x-python",
   "name": "python",
   "nbconvert_exporter": "python",
   "pygments_lexer": "ipython3",
   "version": "3.10.8"
  }
 },
 "nbformat": 4,
 "nbformat_minor": 5
}
