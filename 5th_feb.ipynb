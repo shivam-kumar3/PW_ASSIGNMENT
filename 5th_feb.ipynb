{
 "cells": [
  {
   "cell_type": "code",
   "execution_count": 2,
   "id": "2a8f10da-5ae2-42e6-ace3-42bc92e15b03",
   "metadata": {},
   "outputs": [],
   "source": [
    "\n",
    "# Q1. Explain Class and Object with respect to Object-Oriented Programming. Give a suitable example."
   ]
  },
  {
   "cell_type": "code",
   "execution_count": 3,
   "id": "dd40329f-59b1-4b80-a4e2-a14e92d87fcb",
   "metadata": {},
   "outputs": [
    {
     "data": {
      "text/plain": [
       "300000"
      ]
     },
     "execution_count": 3,
     "metadata": {},
     "output_type": "execute_result"
    }
   ],
   "source": [
    "# Class: A class is considered as a blueprint of objects\n",
    "# Object: An object is called an instance of a class. \\\n",
    "class bike():         # this is class and class name\n",
    "    name=\"shift\"\n",
    "    price=300000\n",
    "obj=bike()            # create a object\n",
    "obj.name              # call class variable\n",
    "obj.price"
   ]
  },
  {
   "cell_type": "code",
   "execution_count": 4,
   "id": "1826e1c7-83be-4b53-b6f7-c32e6fc0e7b6",
   "metadata": {},
   "outputs": [],
   "source": [
    "# Q2. Name the four pillars of OOPs."
   ]
  },
  {
   "cell_type": "code",
   "execution_count": 5,
   "id": "f0c7fe2c-0e57-446f-8604-9d7a53291d0e",
   "metadata": {},
   "outputs": [],
   "source": [
    "# These four pillars are Inheritance, Polymorphism, Encapsulation and Abstraction"
   ]
  },
  {
   "cell_type": "code",
   "execution_count": 6,
   "id": "dc8b415b-2c82-45e6-ac0f-356d23032b2b",
   "metadata": {},
   "outputs": [],
   "source": [
    "# Q3. Explain why the init() function is used. Give a suitable example.\n"
   ]
  },
  {
   "cell_type": "code",
   "execution_count": 8,
   "id": "137052c0-4933-492d-b11c-769bb5fbe0e8",
   "metadata": {},
   "outputs": [
    {
     "data": {
      "text/plain": [
       "'shivam'"
      ]
     },
     "execution_count": 8,
     "metadata": {},
     "output_type": "execute_result"
    }
   ],
   "source": [
    "'''the __init__() function to assign values to object properties,\n",
    "or other operations that are necessary to do when the object is being created'''\n",
    "class test:\n",
    "    def __init__(self,phone_no,name,erp):\n",
    "        self.phone_no=phone_no\n",
    "        self.name=name\n",
    "        self.erp=erp\n",
    "obj1=test(990000000,'shivam',102)\n",
    "obj1.phone_no\n",
    "obj1.name"
   ]
  },
  {
   "cell_type": "code",
   "execution_count": 9,
   "id": "7c4e7b99-29ba-40cc-9d85-afcb458650f8",
   "metadata": {},
   "outputs": [],
   "source": [
    "# Q4. Why self is used in OOPs"
   ]
  },
  {
   "cell_type": "code",
   "execution_count": 10,
   "id": "bf3bc16d-6ca2-4fe9-bb1a-532e26d6107e",
   "metadata": {},
   "outputs": [],
   "source": [
    "# ANS - The self variable is used to represent the instance of the class which is often used in object-oriented programming.\n",
    "# It works as a reference to the object.\n"
   ]
  },
  {
   "cell_type": "code",
   "execution_count": 11,
   "id": "8942e4c6-6992-4f41-8c1c-08a51c61f23f",
   "metadata": {},
   "outputs": [],
   "source": [
    "# Q5. What is inheritance? Give an example for each type of inheritance.\n"
   ]
  },
  {
   "cell_type": "code",
   "execution_count": 12,
   "id": "5874d8f4-5959-4eb7-ab80-6e83c0a0214c",
   "metadata": {},
   "outputs": [],
   "source": [
    "# ANS -inheritance is a mechanism of acquiring the features and behaviors of a class by another class.\n",
    "# type of inheritance:\n",
    "#\tSingle Inheritance.\n",
    "#\tMultiple Inheritance.\n",
    "#\tMultilevel Inheritance.\n",
    "#\tHierarchical Inheritance.\n",
    "#\tHybrid Inheritance."
   ]
  },
  {
   "cell_type": "code",
   "execution_count": null,
   "id": "a43ee444-8c95-4f8e-94fc-63c84b25a731",
   "metadata": {},
   "outputs": [],
   "source": []
  }
 ],
 "metadata": {
  "kernelspec": {
   "display_name": "Python 3 (ipykernel)",
   "language": "python",
   "name": "python3"
  },
  "language_info": {
   "codemirror_mode": {
    "name": "ipython",
    "version": 3
   },
   "file_extension": ".py",
   "mimetype": "text/x-python",
   "name": "python",
   "nbconvert_exporter": "python",
   "pygments_lexer": "ipython3",
   "version": "3.10.8"
  }
 },
 "nbformat": 4,
 "nbformat_minor": 5
}
