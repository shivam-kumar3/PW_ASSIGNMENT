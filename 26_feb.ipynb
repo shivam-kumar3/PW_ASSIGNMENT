{
 "cells": [
  {
   "cell_type": "code",
   "execution_count": 1,
   "id": "20196ed8-befe-4d45-8712-bcdf982ec04a",
   "metadata": {},
   "outputs": [],
   "source": [
    "import numpy as np     \n",
    "list_ = [ '1' , '2', '3', '4', '5']     \n",
    "array_list = np.array(object = list_)    "
   ]
  },
  {
   "cell_type": "markdown",
   "id": "413cadcf-e690-4ce1-9b63-8843efb3c6ab",
   "metadata": {},
   "source": [
    "Q1. Is there any difference in the data type of variables list_ and array_list? If there is then write a code to print the data types of both the variables."
   ]
  },
  {
   "cell_type": "code",
   "execution_count": 2,
   "id": "3ef93fa3-5961-4acb-bc35-f7a3f19c23b0",
   "metadata": {},
   "outputs": [
    {
     "data": {
      "text/plain": [
       "list"
      ]
     },
     "execution_count": 2,
     "metadata": {},
     "output_type": "execute_result"
    }
   ],
   "source": [
    "type(list_)\n"
   ]
  },
  {
   "cell_type": "code",
   "execution_count": 3,
   "id": "79faba99-dc6c-4ac9-ba93-4354e2e6bdac",
   "metadata": {},
   "outputs": [
    {
     "data": {
      "text/plain": [
       "<function ndarray.astype>"
      ]
     },
     "execution_count": 3,
     "metadata": {},
     "output_type": "execute_result"
    }
   ],
   "source": [
    "array_list.astype\n"
   ]
  },
  {
   "cell_type": "markdown",
   "id": "b5d02d23-9f0f-400c-8bf4-3d74b6bbd75c",
   "metadata": {},
   "source": [
    "Q2. Write a code to print the data type of each and every element of both the variables list_ and arra_list.\n"
   ]
  },
  {
   "cell_type": "code",
   "execution_count": 4,
   "id": "c411436e-4481-4d5f-9e7d-1bae46d720a6",
   "metadata": {},
   "outputs": [
    {
     "name": "stdout",
     "output_type": "stream",
     "text": [
      "<class 'str'>\n",
      "<class 'str'>\n",
      "<class 'str'>\n",
      "<class 'str'>\n",
      "<class 'str'>\n"
     ]
    }
   ],
   "source": [
    "for i in list_:\n",
    "    print(type(i))"
   ]
  },
  {
   "cell_type": "code",
   "execution_count": 5,
   "id": "9c8004d7-2bf2-43a4-b2c8-3362776445f4",
   "metadata": {},
   "outputs": [
    {
     "name": "stdout",
     "output_type": "stream",
     "text": [
      "<class 'numpy.str_'>\n",
      "<class 'numpy.str_'>\n",
      "<class 'numpy.str_'>\n",
      "<class 'numpy.str_'>\n",
      "<class 'numpy.str_'>\n"
     ]
    }
   ],
   "source": [
    "for i in array_list:\n",
    "    print(type(i))"
   ]
  },
  {
   "cell_type": "markdown",
   "id": "1ac0ebfd-3c6a-4eaa-a43d-1591d605d3bc",
   "metadata": {},
   "source": [
    "Q3. Considering the following changes in the variable, array_list:\n"
   ]
  },
  {
   "cell_type": "code",
   "execution_count": 7,
   "id": "89f66e8e-cadf-452b-892d-d3c900310c25",
   "metadata": {},
   "outputs": [],
   "source": [
    "array_list = np.array(object = list_, dtype = int)\n"
   ]
  },
  {
   "cell_type": "markdown",
   "id": "33538eab-5cd4-4d40-afad-86413ad996d2",
   "metadata": {},
   "source": [
    "Will there be any difference in the data type of the elements present in both the variables, list_ and arra_list? If so then print the data types of each and every element present in both the variables, list__ and arra_list. Consider the below code to answer further questions:\n",
    "\n"
   ]
  },
  {
   "cell_type": "code",
   "execution_count": 8,
   "id": "c20ecaeb-8201-4c58-a5f5-70a525bd3527",
   "metadata": {},
   "outputs": [
    {
     "name": "stdout",
     "output_type": "stream",
     "text": [
      "List elements type : <class 'int'>\n",
      "List elements type : <class 'int'>\n",
      "List elements type : <class 'int'>\n",
      "List elements type : <class 'int'>\n",
      "List elements type : <class 'int'>\n",
      "List elements type : <class 'int'>\n",
      "---------------------###--------------------\n",
      "Array element type : int64\n",
      "Array element type : int64\n",
      "Array element type : int64\n",
      "Array element type : int64\n",
      "Array element type : int64\n",
      "Array element type : int64\n"
     ]
    }
   ],
   "source": [
    "import numpy as np                    \n",
    "num_list = [ [ 1, 2, 3], [4, 5, 6]]        \n",
    "num_array = np.array(object = num_list)  \n",
    "for i in num_list:\n",
    "    if type(i)== list:\n",
    "        for j in i:print(f'List elements type : {type(j)}')\n",
    "    else:print(f'List elements type : {type(i)}')\n",
    "print(\"---------------------###--------------------\")\n",
    "\n",
    "num_array1 = num_array.flatten()\n",
    "for i in num_array1:\n",
    "    print(f'Array element type : {i.dtype}')\n",
    "#     print(type(i))"
   ]
  },
  {
   "cell_type": "markdown",
   "id": "e527b3d3-1eba-4419-a181-c16bccbc8332",
   "metadata": {},
   "source": [
    "Q4. Write a code to find the following characteristics of variable, num_array:\n",
    "\n",
    "(i) shape"
   ]
  },
  {
   "cell_type": "code",
   "execution_count": 9,
   "id": "3678c77c-0ffb-443a-8fa8-89e2c19f9e9e",
   "metadata": {},
   "outputs": [
    {
     "data": {
      "text/plain": [
       "array([[1, 2, 3],\n",
       "       [4, 5, 6]])"
      ]
     },
     "metadata": {},
     "output_type": "display_data"
    },
    {
     "data": {
      "text/plain": [
       "(2, 3)"
      ]
     },
     "execution_count": 9,
     "metadata": {},
     "output_type": "execute_result"
    }
   ],
   "source": [
    "display(num_array)\n",
    "num_array.shape  "
   ]
  },
  {
   "cell_type": "markdown",
   "id": "0caca9c4-9891-4d21-8765-f19db4677697",
   "metadata": {},
   "source": [
    "(ii) size\n"
   ]
  },
  {
   "cell_type": "code",
   "execution_count": 10,
   "id": "da0f37eb-76f0-4d04-89e0-5511b5f137a9",
   "metadata": {},
   "outputs": [
    {
     "data": {
      "text/plain": [
       "array([[1, 2, 3],\n",
       "       [4, 5, 6]])"
      ]
     },
     "metadata": {},
     "output_type": "display_data"
    },
    {
     "data": {
      "text/plain": [
       "6"
      ]
     },
     "execution_count": 10,
     "metadata": {},
     "output_type": "execute_result"
    }
   ],
   "source": [
    "display(num_array)\n",
    "num_array.size    "
   ]
  },
  {
   "cell_type": "markdown",
   "id": "79611b9b-e31f-48fb-b7b4-fd8a384e97cc",
   "metadata": {},
   "source": [
    "Q5. Write a code to create numpy array of 3*3 matrix containing zeros only, using a numpy array creation function.\n",
    "\n",
    "[Hint: The size of the array will be 9 and the shape will be (3,3).]"
   ]
  },
  {
   "cell_type": "markdown",
   "id": "0b9783e0-cd53-42f3-8431-370151f79fac",
   "metadata": {},
   "source": [
    "Q6. Create an identity matrix of shape (5,5) using numpy functions?\n",
    "\n",
    "[Hint: An identity matrix is a matrix containing 1 diagonally and other elements will be 0.]"
   ]
  },
  {
   "cell_type": "code",
   "execution_count": 12,
   "id": "1fb0e2c5-ed16-4ab5-a628-6aa3c262e78b",
   "metadata": {},
   "outputs": [
    {
     "data": {
      "text/plain": [
       "array([[1., 0., 0., 0., 0.],\n",
       "       [0., 1., 0., 0., 0.],\n",
       "       [0., 0., 1., 0., 0.],\n",
       "       [0., 0., 0., 1., 0.],\n",
       "       [0., 0., 0., 0., 1.]])"
      ]
     },
     "execution_count": 12,
     "metadata": {},
     "output_type": "execute_result"
    }
   ],
   "source": [
    "five_ele = np.ones(5)\n",
    "arr1 = np.diag(five_ele)\n",
    "arr1"
   ]
  },
  {
   "cell_type": "code",
   "execution_count": 13,
   "id": "f8e6adc0-703c-4d12-a6f1-9b178ce46c36",
   "metadata": {},
   "outputs": [
    {
     "data": {
      "text/plain": [
       "(5, 5)"
      ]
     },
     "execution_count": 13,
     "metadata": {},
     "output_type": "execute_result"
    }
   ],
   "source": [
    "arr1.shape\n"
   ]
  }
 ],
 "metadata": {
  "kernelspec": {
   "display_name": "Python 3 (ipykernel)",
   "language": "python",
   "name": "python3"
  },
  "language_info": {
   "codemirror_mode": {
    "name": "ipython",
    "version": 3
   },
   "file_extension": ".py",
   "mimetype": "text/x-python",
   "name": "python",
   "nbconvert_exporter": "python",
   "pygments_lexer": "ipython3",
   "version": "3.10.8"
  }
 },
 "nbformat": 4,
 "nbformat_minor": 5
}
