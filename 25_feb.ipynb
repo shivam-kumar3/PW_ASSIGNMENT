{
 "cells": [
  {
   "cell_type": "code",
   "execution_count": 1,
   "id": "8c6521dc-a74d-4c54-9130-a2c5eeaae246",
   "metadata": {},
   "outputs": [
    {
     "data": {
      "text/html": [
       "<div>\n",
       "<style scoped>\n",
       "    .dataframe tbody tr th:only-of-type {\n",
       "        vertical-align: middle;\n",
       "    }\n",
       "\n",
       "    .dataframe tbody tr th {\n",
       "        vertical-align: top;\n",
       "    }\n",
       "\n",
       "    .dataframe thead th {\n",
       "        text-align: right;\n",
       "    }\n",
       "</style>\n",
       "<table border=\"1\" class=\"dataframe\">\n",
       "  <thead>\n",
       "    <tr style=\"text-align: right;\">\n",
       "      <th></th>\n",
       "      <th>course_name</th>\n",
       "      <th>duration</th>\n",
       "    </tr>\n",
       "  </thead>\n",
       "  <tbody>\n",
       "    <tr>\n",
       "      <th>0</th>\n",
       "      <td>Data Science</td>\n",
       "      <td>2</td>\n",
       "    </tr>\n",
       "    <tr>\n",
       "      <th>1</th>\n",
       "      <td>Machine Learning</td>\n",
       "      <td>3</td>\n",
       "    </tr>\n",
       "    <tr>\n",
       "      <th>2</th>\n",
       "      <td>Big Data</td>\n",
       "      <td>6</td>\n",
       "    </tr>\n",
       "    <tr>\n",
       "      <th>3</th>\n",
       "      <td>Data Engineer</td>\n",
       "      <td>4</td>\n",
       "    </tr>\n",
       "  </tbody>\n",
       "</table>\n",
       "</div>"
      ],
      "text/plain": [
       "        course_name  duration\n",
       "0      Data Science         2\n",
       "1  Machine Learning         3\n",
       "2          Big Data         6\n",
       "3     Data Engineer         4"
      ]
     },
     "execution_count": 1,
     "metadata": {},
     "output_type": "execute_result"
    }
   ],
   "source": [
    "import pandas as pd\n",
    "course_name = ['Data Science', 'Machine Learning', 'Big Data', 'Data Engineer'] \n",
    "duration = [2,3,6,4]\n",
    "df = pd.DataFrame(data = {'course_name': course_name, 'duration': duration})\n",
    "df"
   ]
  },
  {
   "cell_type": "markdown",
   "id": "b62f9dae-0f0d-489b-b297-20a92f3161a9",
   "metadata": {},
   "source": [
    "Q1. Write a code to print the data present in the second row of the dataframe, df."
   ]
  },
  {
   "cell_type": "code",
   "execution_count": 2,
   "id": "35035cd6-c2ae-4ee5-94e5-014626f734b7",
   "metadata": {},
   "outputs": [
    {
     "data": {
      "text/plain": [
       "course_name    Machine Learning\n",
       "duration                      3\n",
       "Name: 1, dtype: object"
      ]
     },
     "execution_count": 2,
     "metadata": {},
     "output_type": "execute_result"
    }
   ],
   "source": [
    "df.loc[1]"
   ]
  },
  {
   "cell_type": "markdown",
   "id": "eec9b6ad-7140-4016-8479-50ed86d7a438",
   "metadata": {},
   "source": [
    "Q2. What is the difference between the functions loc and iloc in pandas.DataFrame?\n",
    "loc() and iloc() both are used in slicing data from the Pandas DataFrame. They help in the convenient selection of data from the DataFrame in Python. They are used in filtering the data according to some conditions.\n",
    "\n",
    "Note : a label refers to a specific name or identifier that is associated with a row or column in a DataFrame or Series.\n",
    "\n",
    "loc is used to select rows and columns in dataframe based on their labels,"
   ]
  },
  {
   "cell_type": "code",
   "execution_count": 4,
   "id": "76279c1b-889d-41cb-9e56-baad340f78c7",
   "metadata": {},
   "outputs": [
    {
     "data": {
      "text/plain": [
       "1    3\n",
       "2    6\n",
       "3    4\n",
       "Name: duration, dtype: int64"
      ]
     },
     "execution_count": 4,
     "metadata": {},
     "output_type": "execute_result"
    }
   ],
   "source": [
    "df.loc[1:3,'duration']                         # access row by using column name and row indexing\n"
   ]
  },
  {
   "cell_type": "markdown",
   "id": "473852e2-c6d3-41b9-9f70-60979ffe2407",
   "metadata": {},
   "source": [
    "iloc is used to select rows and columns based on their integer position."
   ]
  },
  {
   "cell_type": "code",
   "execution_count": 5,
   "id": "9462f81a-2450-495a-afb3-fb88ab819c20",
   "metadata": {},
   "outputs": [
    {
     "data": {
      "text/plain": [
       "1    Machine Learning\n",
       "2            Big Data\n",
       "Name: course_name, dtype: object"
      ]
     },
     "execution_count": 5,
     "metadata": {},
     "output_type": "execute_result"
    }
   ],
   "source": [
    "df.iloc[1:3,0]  "
   ]
  },
  {
   "cell_type": "markdown",
   "id": "3ce61cb0-687d-48e5-aeba-340611352385",
   "metadata": {},
   "source": [
    "Q3. Reindex the given dataframe using a variable, reindex = [3,0,1,2] and store it in the variable, new_df then find the output for both new_df.loc[2] and new_df.iloc[2].\n",
    "\n",
    "Did you observe any difference in both the outputs? If so then explain it.\n",
    "\n",
    "Consider the below code to answer further questions:"
   ]
  },
  {
   "cell_type": "code",
   "execution_count": 7,
   "id": "06e51e41-330b-4197-b48a-3067a05d4342",
   "metadata": {},
   "outputs": [
    {
     "data": {
      "text/html": [
       "<div>\n",
       "<style scoped>\n",
       "    .dataframe tbody tr th:only-of-type {\n",
       "        vertical-align: middle;\n",
       "    }\n",
       "\n",
       "    .dataframe tbody tr th {\n",
       "        vertical-align: top;\n",
       "    }\n",
       "\n",
       "    .dataframe thead th {\n",
       "        text-align: right;\n",
       "    }\n",
       "</style>\n",
       "<table border=\"1\" class=\"dataframe\">\n",
       "  <thead>\n",
       "    <tr style=\"text-align: right;\">\n",
       "      <th></th>\n",
       "      <th>column_1</th>\n",
       "      <th>column_2</th>\n",
       "      <th>column_3</th>\n",
       "      <th>column_4</th>\n",
       "      <th>column_5</th>\n",
       "      <th>column_6</th>\n",
       "    </tr>\n",
       "  </thead>\n",
       "  <tbody>\n",
       "    <tr>\n",
       "      <th>1</th>\n",
       "      <td>0.904018</td>\n",
       "      <td>0.891312</td>\n",
       "      <td>0.958959</td>\n",
       "      <td>0.729576</td>\n",
       "      <td>0.014704</td>\n",
       "      <td>0.941794</td>\n",
       "    </tr>\n",
       "    <tr>\n",
       "      <th>2</th>\n",
       "      <td>0.848184</td>\n",
       "      <td>0.900427</td>\n",
       "      <td>0.853097</td>\n",
       "      <td>0.654090</td>\n",
       "      <td>0.253928</td>\n",
       "      <td>0.957081</td>\n",
       "    </tr>\n",
       "    <tr>\n",
       "      <th>3</th>\n",
       "      <td>0.982870</td>\n",
       "      <td>0.811146</td>\n",
       "      <td>0.266919</td>\n",
       "      <td>0.194233</td>\n",
       "      <td>0.334393</td>\n",
       "      <td>0.323148</td>\n",
       "    </tr>\n",
       "    <tr>\n",
       "      <th>4</th>\n",
       "      <td>0.728515</td>\n",
       "      <td>0.886626</td>\n",
       "      <td>0.472129</td>\n",
       "      <td>0.501737</td>\n",
       "      <td>0.926265</td>\n",
       "      <td>0.155643</td>\n",
       "    </tr>\n",
       "    <tr>\n",
       "      <th>5</th>\n",
       "      <td>0.975988</td>\n",
       "      <td>0.303839</td>\n",
       "      <td>0.692232</td>\n",
       "      <td>0.270670</td>\n",
       "      <td>0.216383</td>\n",
       "      <td>0.548575</td>\n",
       "    </tr>\n",
       "    <tr>\n",
       "      <th>6</th>\n",
       "      <td>0.077985</td>\n",
       "      <td>0.300063</td>\n",
       "      <td>0.903018</td>\n",
       "      <td>0.289813</td>\n",
       "      <td>0.730372</td>\n",
       "      <td>0.539685</td>\n",
       "    </tr>\n",
       "  </tbody>\n",
       "</table>\n",
       "</div>"
      ],
      "text/plain": [
       "   column_1  column_2  column_3  column_4  column_5  column_6\n",
       "1  0.904018  0.891312  0.958959  0.729576  0.014704  0.941794\n",
       "2  0.848184  0.900427  0.853097  0.654090  0.253928  0.957081\n",
       "3  0.982870  0.811146  0.266919  0.194233  0.334393  0.323148\n",
       "4  0.728515  0.886626  0.472129  0.501737  0.926265  0.155643\n",
       "5  0.975988  0.303839  0.692232  0.270670  0.216383  0.548575\n",
       "6  0.077985  0.300063  0.903018  0.289813  0.730372  0.539685"
      ]
     },
     "execution_count": 7,
     "metadata": {},
     "output_type": "execute_result"
    }
   ],
   "source": [
    "import pandas as pd\n",
    "import numpy as np\n",
    "columns = ['column_1', 'column_2', 'column_3', 'column_4', 'column_5', 'column_6'] \n",
    "indices = [1,2,3,4,5,6]\n",
    "# Creating a dataframe:\n",
    "df1 = pd.DataFrame(np.random.rand(6,6), columns = columns, index = indices)\n",
    "df1"
   ]
  },
  {
   "cell_type": "code",
   "execution_count": 8,
   "id": "ee3e1250-d487-41f4-a718-a40e31de75be",
   "metadata": {},
   "outputs": [],
   "source": [
    "new_df = df1.reindex([3,0,1,2])\n"
   ]
  },
  {
   "cell_type": "code",
   "execution_count": 9,
   "id": "908b0342-f010-412c-85de-676b6c42bebf",
   "metadata": {},
   "outputs": [
    {
     "data": {
      "text/plain": [
       "column_1    0.848184\n",
       "column_2    0.900427\n",
       "column_3    0.853097\n",
       "column_4    0.654090\n",
       "column_5    0.253928\n",
       "column_6    0.957081\n",
       "Name: 2, dtype: float64"
      ]
     },
     "execution_count": 9,
     "metadata": {},
     "output_type": "execute_result"
    }
   ],
   "source": [
    "new_df.loc[2]"
   ]
  },
  {
   "cell_type": "code",
   "execution_count": 10,
   "id": "f0431ffd-d155-4069-93e2-ccfd0c2ea8cc",
   "metadata": {},
   "outputs": [
    {
     "data": {
      "text/plain": [
       "column_1    0.904018\n",
       "column_2    0.891312\n",
       "column_3    0.958959\n",
       "column_4    0.729576\n",
       "column_5    0.014704\n",
       "column_6    0.941794\n",
       "Name: 1, dtype: float64"
      ]
     },
     "execution_count": 10,
     "metadata": {},
     "output_type": "execute_result"
    }
   ],
   "source": [
    "new_df.iloc[2]"
   ]
  },
  {
   "cell_type": "markdown",
   "id": "a23b8dbf-be15-46c1-8ad5-d8d956fbe762",
   "metadata": {},
   "source": [
    "Q4. Write a code to find the following statistical measurements for the above dataframe dfl:\n",
    "(i) mean of each and every column present in the dataframe."
   ]
  },
  {
   "cell_type": "code",
   "execution_count": 11,
   "id": "56f6b3c4-d415-4b89-8af7-cab72d84f05a",
   "metadata": {},
   "outputs": [
    {
     "data": {
      "text/plain": [
       "column_1    0.752927\n",
       "column_2    0.682236\n",
       "column_3    0.691059\n",
       "column_4    0.440020\n",
       "column_5    0.412674\n",
       "column_6    0.577654\n",
       "dtype: float64"
      ]
     },
     "execution_count": 11,
     "metadata": {},
     "output_type": "execute_result"
    }
   ],
   "source": [
    "df1.mean()\n"
   ]
  },
  {
   "cell_type": "markdown",
   "id": "6ff4348f-a16a-4447-a095-02f4fcca21e9",
   "metadata": {},
   "source": [
    "(ii) standard deviation of column, 'column_2'"
   ]
  },
  {
   "cell_type": "code",
   "execution_count": 12,
   "id": "a9fa67b2-9c12-4583-860c-f437287472f2",
   "metadata": {},
   "outputs": [
    {
     "data": {
      "text/plain": [
       "<bound method NDFrame._add_numeric_operations.<locals>.std of 1    0.891312\n",
       "2    0.900427\n",
       "3    0.811146\n",
       "4    0.886626\n",
       "5    0.303839\n",
       "6    0.300063\n",
       "Name: column_2, dtype: float64>"
      ]
     },
     "execution_count": 12,
     "metadata": {},
     "output_type": "execute_result"
    }
   ],
   "source": [
    "df1['column_2'].std         \n"
   ]
  },
  {
   "cell_type": "markdown",
   "id": "f3fd7d66-c6e8-49a9-9598-12ab2f27ed13",
   "metadata": {},
   "source": [
    "Q5. Replace the data present in the second row of column, 'column_2' by a string variable then find the mean of column, column_2.\n",
    "If you are getting errors in executing it then explain why.\n",
    "\n",
    "\n",
    "[Hint: To replace the data use dfl.loc[] and equate this to string data of your choice.]"
   ]
  },
  {
   "cell_type": "code",
   "execution_count": 13,
   "id": "0eaae268-3298-4f05-a769-56fe3f5b69dd",
   "metadata": {},
   "outputs": [
    {
     "data": {
      "text/html": [
       "<div>\n",
       "<style scoped>\n",
       "    .dataframe tbody tr th:only-of-type {\n",
       "        vertical-align: middle;\n",
       "    }\n",
       "\n",
       "    .dataframe tbody tr th {\n",
       "        vertical-align: top;\n",
       "    }\n",
       "\n",
       "    .dataframe thead th {\n",
       "        text-align: right;\n",
       "    }\n",
       "</style>\n",
       "<table border=\"1\" class=\"dataframe\">\n",
       "  <thead>\n",
       "    <tr style=\"text-align: right;\">\n",
       "      <th></th>\n",
       "      <th>column_1</th>\n",
       "      <th>column_2</th>\n",
       "      <th>column_3</th>\n",
       "      <th>column_4</th>\n",
       "      <th>column_5</th>\n",
       "      <th>column_6</th>\n",
       "    </tr>\n",
       "  </thead>\n",
       "  <tbody>\n",
       "    <tr>\n",
       "      <th>1</th>\n",
       "      <td>0.904018</td>\n",
       "      <td>0.891312</td>\n",
       "      <td>0.958959</td>\n",
       "      <td>0.729576</td>\n",
       "      <td>0.014704</td>\n",
       "      <td>0.941794</td>\n",
       "    </tr>\n",
       "    <tr>\n",
       "      <th>2</th>\n",
       "      <td>0.848184</td>\n",
       "      <td>0.900427</td>\n",
       "      <td>0.853097</td>\n",
       "      <td>0.654090</td>\n",
       "      <td>0.253928</td>\n",
       "      <td>0.957081</td>\n",
       "    </tr>\n",
       "    <tr>\n",
       "      <th>3</th>\n",
       "      <td>0.982870</td>\n",
       "      <td>0.811146</td>\n",
       "      <td>0.266919</td>\n",
       "      <td>0.194233</td>\n",
       "      <td>0.334393</td>\n",
       "      <td>0.323148</td>\n",
       "    </tr>\n",
       "    <tr>\n",
       "      <th>4</th>\n",
       "      <td>0.728515</td>\n",
       "      <td>0.886626</td>\n",
       "      <td>0.472129</td>\n",
       "      <td>0.501737</td>\n",
       "      <td>0.926265</td>\n",
       "      <td>0.155643</td>\n",
       "    </tr>\n",
       "    <tr>\n",
       "      <th>5</th>\n",
       "      <td>0.975988</td>\n",
       "      <td>0.303839</td>\n",
       "      <td>0.692232</td>\n",
       "      <td>0.270670</td>\n",
       "      <td>0.216383</td>\n",
       "      <td>0.548575</td>\n",
       "    </tr>\n",
       "    <tr>\n",
       "      <th>6</th>\n",
       "      <td>0.077985</td>\n",
       "      <td>0.300063</td>\n",
       "      <td>0.903018</td>\n",
       "      <td>0.289813</td>\n",
       "      <td>0.730372</td>\n",
       "      <td>0.539685</td>\n",
       "    </tr>\n",
       "  </tbody>\n",
       "</table>\n",
       "</div>"
      ],
      "text/plain": [
       "   column_1  column_2  column_3  column_4  column_5  column_6\n",
       "1  0.904018  0.891312  0.958959  0.729576  0.014704  0.941794\n",
       "2  0.848184  0.900427  0.853097  0.654090  0.253928  0.957081\n",
       "3  0.982870  0.811146  0.266919  0.194233  0.334393  0.323148\n",
       "4  0.728515  0.886626  0.472129  0.501737  0.926265  0.155643\n",
       "5  0.975988  0.303839  0.692232  0.270670  0.216383  0.548575\n",
       "6  0.077985  0.300063  0.903018  0.289813  0.730372  0.539685"
      ]
     },
     "execution_count": 13,
     "metadata": {},
     "output_type": "execute_result"
    }
   ],
   "source": [
    "df1"
   ]
  },
  {
   "cell_type": "code",
   "execution_count": 14,
   "id": "95f5b8c2-8d0d-46cf-b564-3dda25e03157",
   "metadata": {},
   "outputs": [],
   "source": [
    "df1.loc[2,'column_2'] = 'shivam'\n"
   ]
  },
  {
   "cell_type": "code",
   "execution_count": 15,
   "id": "f291d43a-5445-4332-92da-c3a26519bb70",
   "metadata": {},
   "outputs": [
    {
     "name": "stdout",
     "output_type": "stream",
     "text": [
      "This is :  unsupported operand type(s) for +: 'float' and 'str'\n"
     ]
    }
   ],
   "source": [
    "try:\n",
    "    df1['column_2'].mean()\n",
    "except TypeError as e:\n",
    "    print(f'This is : ',e)"
   ]
  },
  {
   "cell_type": "markdown",
   "id": "2ea90ef6-fece-4595-8814-96c177fcd48b",
   "metadata": {},
   "source": [
    "We got TypeError due to use string on place of float or int"
   ]
  },
  {
   "cell_type": "markdown",
   "id": "13aa6a00-f07f-42a9-a4a2-a466563f55b3",
   "metadata": {},
   "source": [
    "Q6. What do you understand about the windows function in pandas and list the types of windows functions?\n",
    "windows function work inside a rolling() function as a parameter, rolling means roll it self. If you provide windows = 1 no any changing will be happend."
   ]
  },
  {
   "cell_type": "code",
   "execution_count": 17,
   "id": "b5f56802-afcc-431c-bcdc-a40bf6488fff",
   "metadata": {},
   "outputs": [
    {
     "data": {
      "text/html": [
       "<div>\n",
       "<style scoped>\n",
       "    .dataframe tbody tr th:only-of-type {\n",
       "        vertical-align: middle;\n",
       "    }\n",
       "\n",
       "    .dataframe tbody tr th {\n",
       "        vertical-align: top;\n",
       "    }\n",
       "\n",
       "    .dataframe thead th {\n",
       "        text-align: right;\n",
       "    }\n",
       "</style>\n",
       "<table border=\"1\" class=\"dataframe\">\n",
       "  <thead>\n",
       "    <tr style=\"text-align: right;\">\n",
       "      <th></th>\n",
       "      <th>column_1</th>\n",
       "      <th>column_2</th>\n",
       "      <th>column_3</th>\n",
       "      <th>column_4</th>\n",
       "      <th>column_5</th>\n",
       "      <th>column_6</th>\n",
       "    </tr>\n",
       "  </thead>\n",
       "  <tbody>\n",
       "    <tr>\n",
       "      <th>1</th>\n",
       "      <td>0.904018</td>\n",
       "      <td>0.891312</td>\n",
       "      <td>0.958959</td>\n",
       "      <td>0.729576</td>\n",
       "      <td>0.014704</td>\n",
       "      <td>0.941794</td>\n",
       "    </tr>\n",
       "    <tr>\n",
       "      <th>2</th>\n",
       "      <td>0.848184</td>\n",
       "      <td>shivam</td>\n",
       "      <td>0.853097</td>\n",
       "      <td>0.654090</td>\n",
       "      <td>0.253928</td>\n",
       "      <td>0.957081</td>\n",
       "    </tr>\n",
       "    <tr>\n",
       "      <th>3</th>\n",
       "      <td>0.982870</td>\n",
       "      <td>0.811146</td>\n",
       "      <td>0.266919</td>\n",
       "      <td>0.194233</td>\n",
       "      <td>0.334393</td>\n",
       "      <td>0.323148</td>\n",
       "    </tr>\n",
       "    <tr>\n",
       "      <th>4</th>\n",
       "      <td>0.728515</td>\n",
       "      <td>0.886626</td>\n",
       "      <td>0.472129</td>\n",
       "      <td>0.501737</td>\n",
       "      <td>0.926265</td>\n",
       "      <td>0.155643</td>\n",
       "    </tr>\n",
       "    <tr>\n",
       "      <th>5</th>\n",
       "      <td>0.975988</td>\n",
       "      <td>0.303839</td>\n",
       "      <td>0.692232</td>\n",
       "      <td>0.270670</td>\n",
       "      <td>0.216383</td>\n",
       "      <td>0.548575</td>\n",
       "    </tr>\n",
       "    <tr>\n",
       "      <th>6</th>\n",
       "      <td>0.077985</td>\n",
       "      <td>0.300063</td>\n",
       "      <td>0.903018</td>\n",
       "      <td>0.289813</td>\n",
       "      <td>0.730372</td>\n",
       "      <td>0.539685</td>\n",
       "    </tr>\n",
       "  </tbody>\n",
       "</table>\n",
       "</div>"
      ],
      "text/plain": [
       "   column_1  column_2  column_3  column_4  column_5  column_6\n",
       "1  0.904018  0.891312  0.958959  0.729576  0.014704  0.941794\n",
       "2  0.848184    shivam  0.853097  0.654090  0.253928  0.957081\n",
       "3  0.982870  0.811146  0.266919  0.194233  0.334393  0.323148\n",
       "4  0.728515  0.886626  0.472129  0.501737  0.926265  0.155643\n",
       "5  0.975988  0.303839  0.692232  0.270670  0.216383  0.548575\n",
       "6  0.077985  0.300063  0.903018  0.289813  0.730372  0.539685"
      ]
     },
     "execution_count": 17,
     "metadata": {},
     "output_type": "execute_result"
    }
   ],
   "source": [
    "df1"
   ]
  },
  {
   "cell_type": "code",
   "execution_count": 18,
   "id": "8181c7a4-f8f6-444a-a029-30f21dba9949",
   "metadata": {},
   "outputs": [
    {
     "name": "stderr",
     "output_type": "stream",
     "text": [
      "/tmp/ipykernel_817/2661563458.py:1: FutureWarning: Dropping of nuisance columns in rolling operations is deprecated; in a future version this will raise TypeError. Select only valid columns before calling the operation. Dropped columns were Index(['column_2'], dtype='object')\n",
      "  df1.rolling(window=3).mean()\n"
     ]
    },
    {
     "data": {
      "text/html": [
       "<div>\n",
       "<style scoped>\n",
       "    .dataframe tbody tr th:only-of-type {\n",
       "        vertical-align: middle;\n",
       "    }\n",
       "\n",
       "    .dataframe tbody tr th {\n",
       "        vertical-align: top;\n",
       "    }\n",
       "\n",
       "    .dataframe thead th {\n",
       "        text-align: right;\n",
       "    }\n",
       "</style>\n",
       "<table border=\"1\" class=\"dataframe\">\n",
       "  <thead>\n",
       "    <tr style=\"text-align: right;\">\n",
       "      <th></th>\n",
       "      <th>column_1</th>\n",
       "      <th>column_3</th>\n",
       "      <th>column_4</th>\n",
       "      <th>column_5</th>\n",
       "      <th>column_6</th>\n",
       "    </tr>\n",
       "  </thead>\n",
       "  <tbody>\n",
       "    <tr>\n",
       "      <th>1</th>\n",
       "      <td>NaN</td>\n",
       "      <td>NaN</td>\n",
       "      <td>NaN</td>\n",
       "      <td>NaN</td>\n",
       "      <td>NaN</td>\n",
       "    </tr>\n",
       "    <tr>\n",
       "      <th>2</th>\n",
       "      <td>NaN</td>\n",
       "      <td>NaN</td>\n",
       "      <td>NaN</td>\n",
       "      <td>NaN</td>\n",
       "      <td>NaN</td>\n",
       "    </tr>\n",
       "    <tr>\n",
       "      <th>3</th>\n",
       "      <td>0.911691</td>\n",
       "      <td>0.692992</td>\n",
       "      <td>0.525966</td>\n",
       "      <td>0.201008</td>\n",
       "      <td>0.740674</td>\n",
       "    </tr>\n",
       "    <tr>\n",
       "      <th>4</th>\n",
       "      <td>0.853189</td>\n",
       "      <td>0.530715</td>\n",
       "      <td>0.450020</td>\n",
       "      <td>0.504862</td>\n",
       "      <td>0.478624</td>\n",
       "    </tr>\n",
       "    <tr>\n",
       "      <th>5</th>\n",
       "      <td>0.895791</td>\n",
       "      <td>0.477093</td>\n",
       "      <td>0.322213</td>\n",
       "      <td>0.492347</td>\n",
       "      <td>0.342455</td>\n",
       "    </tr>\n",
       "    <tr>\n",
       "      <th>6</th>\n",
       "      <td>0.594163</td>\n",
       "      <td>0.689126</td>\n",
       "      <td>0.354073</td>\n",
       "      <td>0.624340</td>\n",
       "      <td>0.414634</td>\n",
       "    </tr>\n",
       "  </tbody>\n",
       "</table>\n",
       "</div>"
      ],
      "text/plain": [
       "   column_1  column_3  column_4  column_5  column_6\n",
       "1       NaN       NaN       NaN       NaN       NaN\n",
       "2       NaN       NaN       NaN       NaN       NaN\n",
       "3  0.911691  0.692992  0.525966  0.201008  0.740674\n",
       "4  0.853189  0.530715  0.450020  0.504862  0.478624\n",
       "5  0.895791  0.477093  0.322213  0.492347  0.342455\n",
       "6  0.594163  0.689126  0.354073  0.624340  0.414634"
      ]
     },
     "execution_count": 18,
     "metadata": {},
     "output_type": "execute_result"
    }
   ],
   "source": [
    "df1.rolling(window=3).mean()"
   ]
  },
  {
   "cell_type": "markdown",
   "id": "7f551e1e-0fcf-469a-8ef9-c0f465b4aa25",
   "metadata": {},
   "source": [
    "Q7. Write a code to print only the current month and year at the time of answering this question. \n",
    "\n",
    "[Hint: Use pandas.datetime function]\n"
   ]
  },
  {
   "cell_type": "code",
   "execution_count": 19,
   "id": "479f10d5-2503-40cc-b467-f5ceb6fb0686",
   "metadata": {},
   "outputs": [
    {
     "data": {
      "text/plain": [
       "Timestamp('2023-03-13 05:48:26.804795')"
      ]
     },
     "execution_count": 19,
     "metadata": {},
     "output_type": "execute_result"
    }
   ],
   "source": [
    "pd.to_datetime('today')\n"
   ]
  },
  {
   "cell_type": "markdown",
   "id": "b1c70177-f411-4a67-b825-ed4fb5a7865f",
   "metadata": {},
   "source": [
    "Q8. Write a Python program that takes in two dates as input (in the format YYYY-MM-DD) and calculates the difference between them in days, hours, and minutes using Pandas time delta. The program should prompt the user to enter the dates and display the result.\n"
   ]
  },
  {
   "cell_type": "code",
   "execution_count": 21,
   "id": "d0cbbb0d-008e-4dfb-a583-188b34f9d885",
   "metadata": {},
   "outputs": [
    {
     "name": "stdin",
     "output_type": "stream",
     "text": [
      "Enter a date in format of YYYY-MM-DD :  1995-07-03\n",
      "Enter a date in format of YYYY-MM-DD :  2023-03-13\n"
     ]
    },
    {
     "data": {
      "text/html": [
       "<div>\n",
       "<style scoped>\n",
       "    .dataframe tbody tr th:only-of-type {\n",
       "        vertical-align: middle;\n",
       "    }\n",
       "\n",
       "    .dataframe tbody tr th {\n",
       "        vertical-align: top;\n",
       "    }\n",
       "\n",
       "    .dataframe thead th {\n",
       "        text-align: right;\n",
       "    }\n",
       "</style>\n",
       "<table border=\"1\" class=\"dataframe\">\n",
       "  <thead>\n",
       "    <tr style=\"text-align: right;\">\n",
       "      <th></th>\n",
       "      <th>F Date</th>\n",
       "      <th>S Date</th>\n",
       "      <th>Different</th>\n",
       "    </tr>\n",
       "  </thead>\n",
       "  <tbody>\n",
       "    <tr>\n",
       "      <th>0</th>\n",
       "      <td>1995-07-03</td>\n",
       "      <td>2023-03-13</td>\n",
       "      <td>-10115 days</td>\n",
       "    </tr>\n",
       "  </tbody>\n",
       "</table>\n",
       "</div>"
      ],
      "text/plain": [
       "      F Date     S Date   Different\n",
       "0 1995-07-03 2023-03-13 -10115 days"
      ]
     },
     "execution_count": 21,
     "metadata": {},
     "output_type": "execute_result"
    }
   ],
   "source": [
    "first_date = input(\"Enter a date in format of YYYY-MM-DD : \")\n",
    "second_date = input(\"Enter a date in format of YYYY-MM-DD : \")\n",
    "\n",
    "date_1 = pd.DataFrame({'F Date':[pd.to_datetime(first_date)],\n",
    "                      'S Date':[pd.to_datetime(second_date)],\n",
    "                      'Different':[pd.to_datetime(first_date)-pd.to_datetime(second_date)]})\n",
    "date_1"
   ]
  },
  {
   "cell_type": "markdown",
   "id": "4176ea4a-f8db-4087-b005-c6caf897668d",
   "metadata": {},
   "source": [
    "Q9. Write a Python program that reads a CSV file containing categorical data and converts a specified column to a categorical data type. The program should prompt the user to enter the file path, column name, and category order, and then display the sorted data.\n"
   ]
  },
  {
   "cell_type": "code",
   "execution_count": 22,
   "id": "504a2aee-cf90-45c3-8ac6-9f8a56a82b9d",
   "metadata": {},
   "outputs": [],
   "source": [
    "import csv\n",
    "import pandas as pd\n",
    "import numpy as np\n"
   ]
  },
  {
   "cell_type": "code",
   "execution_count": null,
   "id": "637d1964-3f90-45c2-9b0d-266902e61df7",
   "metadata": {},
   "outputs": [],
   "source": [
    "# file_path = \"E:\\\\dummy_data\\\\taxonomy.csv\"\n",
    "file_path = input(\"Enter file location with file name : \")\n",
    "\n",
    "column_name = input(\"Enter file categorical column name : \")\n",
    "# column_name = \"parent_name\"\n",
    "\n",
    "category_order = bool(input(\"Enter column order True or False : \"))\n",
    "# category_order = True\n",
    "\n",
    "df = pd.read_csv(file_path, encoding='utf-8')\n",
    "print(f\"Your file datas are : \\n {df}\")"
   ]
  },
  {
   "cell_type": "code",
   "execution_count": null,
   "id": "180988a7-ced6-41aa-887e-b2fe11f9eb5a",
   "metadata": {},
   "outputs": [],
   "source": [
    "pd.Categorical(df[column_name],ordered=category_order)"
   ]
  },
  {
   "cell_type": "code",
   "execution_count": null,
   "id": "88aa506e-6751-423e-9415-499810511c31",
   "metadata": {},
   "outputs": [],
   "source": []
  }
 ],
 "metadata": {
  "kernelspec": {
   "display_name": "Python 3 (ipykernel)",
   "language": "python",
   "name": "python3"
  },
  "language_info": {
   "codemirror_mode": {
    "name": "ipython",
    "version": 3
   },
   "file_extension": ".py",
   "mimetype": "text/x-python",
   "name": "python",
   "nbconvert_exporter": "python",
   "pygments_lexer": "ipython3",
   "version": "3.10.8"
  }
 },
 "nbformat": 4,
 "nbformat_minor": 5
}
