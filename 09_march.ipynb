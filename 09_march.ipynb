{
 "cells": [
  {
   "cell_type": "markdown",
   "id": "f6e116d7-79bd-4a61-91e0-dc442fb54c40",
   "metadata": {},
   "source": [
    "Q1: What are the Probability Mass Function (PMF) and Probability Density Function (PDF)? Explain with\n",
    "an example."
   ]
  },
  {
   "cell_type": "markdown",
   "id": "0849d427-aa7b-4e4f-98c4-9a8ea4ec9c72",
   "metadata": {},
   "source": [
    "The Probability Mass Function (PMF) and Probability Density Function (PDF) are both mathematical concepts that describe the probability distribution of a random variable.\n",
    "\n",
    "A PMF is used to describe the probability distribution of a discrete random variable, meaning a variable that can only take on a countable number of values. It assigns probabilities to each possible value that the random variable can take.\n",
    "\n",
    "For example, consider rolling a fair six-sided die. The PMF of the random variable X, which represents the number rolled, is:\n",
    "\n",
    "PMF(X=x) = 1/6 for x = 1, 2, 3, 4, 5, 6.\n",
    "\n",
    "This means that the probability of rolling a 1, 2, 3, 4, 5, or 6 is equally likely, with each outcome having a probability of 1/6."
   ]
  },
  {
   "cell_type": "markdown",
   "id": "f320c9f3-2e7f-4c6b-9961-8ee1d41ab18d",
   "metadata": {},
   "source": [
    "Q2: What is Cumulative Density Function (CDF)? Explain with an example. Why CDF is used?"
   ]
  },
  {
   "cell_type": "markdown",
   "id": "fc58d02b-6a58-4c2f-bb95-8ef6c015ffba",
   "metadata": {},
   "source": [
    "ANS- The Cumulative Density Function (CDF) is a mathematical concept used to describe the probability distribution of a random variable, both discrete and continuous. The CDF gives the probability that the random variable takes a value less than or equal to a certain value.\n",
    "\n",
    "For a discrete random variable X, the CDF is defined as:\n",
    "\n",
    "F(x) = P(X ≤ x) = Σ P(X = k), for k ≤ x\n",
    "\n",
    "where P(X=k) is the probability of the random variable X taking on the value k.\n",
    "\n",
    "For a continuous random variable Y, the CDF is defined as:\n",
    "\n",
    "F(y) = P(Y ≤ y) = ∫ f(t) dt, for t ≤ y\n",
    "\n",
    "where f(t) is the probability density function (PDF) of the random variable Y.\n",
    "\n",
    "An example of a CDF is the cumulative distribution function of the standard normal distribution, denoted by Φ(x). The standard normal distribution has a mean of 0 and a standard deviation of 1. The CDF of the standard normal distribution is given by:\n",
    "\n",
    "Φ(x) = P(Z ≤ x) = ∫_{-∞}^{x} (1 / sqrt(2π)) * e^(-t^2/2) dt\n",
    "\n",
    "where Z is a standard normal random variable. This function gives the probability of observing a value less than or equal to x in the standard normal distribution.\n",
    "\n",
    "The CDF is used for a variety of purposes, such as calculating probabilities and quantiles. For example, the probability of observing a value between two points a and b for a continuous random variable Y is given by:\n",
    "\n",
    "P(a ≤ Y ≤ b) = F(b) - F(a)\n",
    "\n",
    "Additionally, the CDF can be used to calculate the percentiles of a random variable. For instance, the pth percentile of a random variable Y is the value y such that P(Y ≤ y) = p/100.\n",
    "\n",
    "Overall, the CDF is a useful tool for describing and analyzing the probability distribution of a random variable."
   ]
  },
  {
   "cell_type": "markdown",
   "id": "eb9e3628-ea4f-40d5-bc28-7c609b904e6a",
   "metadata": {},
   "source": []
  },
  {
   "cell_type": "markdown",
   "id": "f70e1742-22de-44f7-ae80-dc3abe76e3ca",
   "metadata": {},
   "source": [
    "Q3: What are some examples of situations where the normal distribution might be used as a model?\n",
    "Explain how the parameters of the normal distribution relate to the shape of the distribution."
   ]
  },
  {
   "cell_type": "markdown",
   "id": "93dad921-4df1-4d2c-a6af-341ca34fbd00",
   "metadata": {},
   "source": [
    "ANS - The normal distribution is a probability distribution that is commonly used to model a wide variety of real-world phenomena. Here are some examples of situations where the normal distribution might be used as a model:\n",
    "\n",
    "Heights of adult humans\n",
    "Weights of items produced by a manufacturing process\n",
    "Test scores of a large group of students\n",
    "Errors in measurements or observations\n",
    "Natural variations in climate data\n",
    "The normal distribution is characterized by two parameters: the mean (μ) and the standard deviation (σ). The mean determines the location of the peak of the distribution, while the standard deviation determines the spread of the distribution.\n",
    "\n",
    "If μ is large, then the peak of the distribution will be shifted to the right. If μ is small, then the peak of the distribution will be shifted to the left. The larger the value of σ, the wider the distribution will be, meaning that the data will be more spread out. Conversely, the smaller the value of σ, the narrower the distribution will be, meaning that the data will be more tightly clustered around the mean.\n",
    "\n",
    "The normal distribution has a bell-shaped curve that is symmetrical around the mean. The curve reaches its peak at the mean, and then tapers off on either side. Approximately 68% of the data falls within one standard deviation of the mean, approximately 95% falls within two standard deviations of the mean, and approximately 99.7% falls within three standard deviations of the mean.\n",
    "\n",
    "Overall, the normal distribution is a useful model for many real-world phenomena because it is relatively simple and can accurately describe a wide range of data."
   ]
  },
  {
   "cell_type": "markdown",
   "id": "81135b1e-1d00-4fad-8469-5fe47bf8749d",
   "metadata": {},
   "source": []
  },
  {
   "cell_type": "markdown",
   "id": "2921fecf-034c-4786-9914-6d26bcf486b2",
   "metadata": {},
   "source": []
  },
  {
   "cell_type": "markdown",
   "id": "450bb130-6792-4cc3-a2f0-bcbb1646458d",
   "metadata": {},
   "source": [
    "Q4: Explain the importance of Normal Distribution. Give a few real-life examples of Normal\n",
    "Distribution."
   ]
  },
  {
   "cell_type": "markdown",
   "id": "f014564b-ab64-466d-b422-0657b5bd91e1",
   "metadata": {},
   "source": [
    "ANS - The normal distribution is an extremely important concept in statistics and data analysis. There are several reasons for this:\n",
    "\n",
    "The normal distribution is a widely applicable model: The normal distribution can be used to model a wide variety of real-world phenomena. Many variables, such as height, weight, and IQ, are approximately normally distributed.\n",
    "\n",
    "Central Limit Theorem: The central limit theorem states that the sum or average of a large number of independent and identically distributed random variables is approximately normally distributed, regardless of the underlying distribution of the individual variables. This theorem is essential in statistical inference, as it allows us to make inferences about population parameters based on sample statistics.\n",
    "\n",
    "Easy to work with: The normal distribution is a simple and well-understood mathematical concept that can be easily manipulated and analyzed using basic algebra.\n",
    "\n",
    "Here are some real-life examples of normal distribution:\n",
    "\n",
    "Heights of adult humans: The distribution of adult human heights is approximately normally distributed, with a mean of around 5'7\" and a standard deviation of around 2-3 inches.\n",
    "\n",
    "Test scores of a large group of students: The distribution of test scores for a large group of students is often approximately normally distributed, with a mean score around the class average and a standard deviation that reflects the variability of the scores.\n",
    "\n",
    "Error in measurement: The distribution of errors in measurement or observation is often approximately normally distributed, with a mean of zero and a standard deviation that reflects the precision of the measurement.\n",
    "\n",
    "Annual rainfall: The distribution of annual rainfall in a region can often be modeled using a normal distribution, with a mean that reflects the average amount of rainfall and a standard deviation that reflects the variability of the rainfall from year to year.\n",
    "\n",
    "Daily stock returns: The daily returns of a stock or a portfolio of stocks can often be modeled using a normal distribution, with a mean that reflects the expected return and a standard deviation that reflects the volatility of the stock or portfolio.\n",
    "\n",
    "Overall, the normal distribution is a powerful and flexible tool that is widely used in data analysis and statistical inference."
   ]
  },
  {
   "cell_type": "markdown",
   "id": "a5e3f24a-75cb-4303-bfa8-dad2b8105091",
   "metadata": {},
   "source": []
  },
  {
   "cell_type": "markdown",
   "id": "2904ac57-1a0b-45e4-8be4-7da5c386a7da",
   "metadata": {},
   "source": []
  },
  {
   "cell_type": "markdown",
   "id": "01042864-95c6-4d8a-870f-5215456be88d",
   "metadata": {},
   "source": [
    "Q5: What is Bernaulli Distribution? Give an Example. What is the difference between Bernoulli\n",
    "Distribution and Binomial Distribution?"
   ]
  },
  {
   "cell_type": "markdown",
   "id": "0a1973e6-0ce7-490c-b25a-9917154d22a2",
   "metadata": {},
   "source": [
    "ANS - The Bernoulli distribution is a discrete probability distribution that describes the outcome of a single binary (yes/no) experiment, where there are only two possible outcomes: success or failure. The Bernoulli distribution is named after Jacob Bernoulli, a Swiss mathematician who introduced the concept in the 17th century.\n",
    "\n",
    "The Bernoulli distribution is defined by a single parameter, p, which represents the probability of success. The probability of failure is then simply 1-p. The probability mass function (PMF) of the Bernoulli distribution is given by:\n",
    "\n",
    "P(X = x) = p^x * (1-p)^(1-x), for x = 0,1\n",
    "\n",
    "where X is a random variable that takes on the values 0 (failure) or 1 (success).\n",
    "\n",
    "An example of the Bernoulli distribution is flipping a coin. If we define success as getting heads and failure as getting tails, then the probability of success is p=0.5 and the probability of failure is 1-p=0.5. The Bernoulli distribution can be used to calculate the probability of getting heads or tails on a single flip of the coin.\n",
    "\n",
    "The main difference between the Bernoulli distribution and the binomial distribution is that the Bernoulli distribution describes the outcome of a single experiment, while the binomial distribution describes the outcome of a series of independent and identically distributed Bernoulli experiments.\n",
    "\n",
    "The binomial distribution is a discrete probability distribution that describes the number of successes in a fixed number of independent Bernoulli experiments, where each experiment has the same probability of success, denoted by p. The binomial distribution is characterized by two parameters, n and p, where n is the number of experiments and p is the probability of success in each experiment.\n",
    "\n",
    "The probability mass function (PMF) of the binomial distribution is given by:\n",
    "\n",
    "P(X = k) = (n choose k) * p^k * (1-p)^(n-k), for k = 0,1,2,...,n\n",
    "\n",
    "where X is a random variable that represents the number of successes in the n Bernoulli experiments, and (n choose k) is the binomial coefficient that counts the number of ways to choose k successes out of n experiments.\n",
    "\n",
    "An example of the binomial distribution is the number of heads obtained in a fixed number of coin flips. If we flip a coin n times, the number of heads obtained can be modeled using a binomial distribution with parameters n and p, where p=0.5 is the probability of getting heads on each flip.\n",
    "\n",
    "In summary, the Bernoulli distribution is a special case of the binomial distribution, which describes the outcome of a single binary experiment, while the binomial distribution describes the outcome of a series of independent and identically distributed Bernoulli experiments."
   ]
  },
  {
   "cell_type": "markdown",
   "id": "f36d11d8-3593-41b2-add0-5012b9bea22f",
   "metadata": {},
   "source": [
    "Q6. Consider a dataset with a mean of 50 and a standard deviation of 10. If we assume that the dataset\n",
    "is normally distributed, what is the probability that a randomly selected observation will be greater\n",
    "than 60? Use the appropriate formula and show your calculations."
   ]
  },
  {
   "cell_type": "markdown",
   "id": "7cf5c6ae-5533-4b20-9107-ad9df4a0cd3b",
   "metadata": {},
   "source": [
    "ANS - We can use the standard normal distribution to solve this problem by standardizing the dataset with a mean of 50 and a standard deviation of 10 into a standard normal distribution with a mean of 0 and a standard deviation of 1.\n",
    "\n",
    "To do this, we first calculate the z-score, which is the number of standard deviations that 60 is away from the mean of 50:\n",
    "\n",
    "z = (60 - 50) / 10 = 1\n",
    "\n",
    "Next, we use a standard normal distribution table or a calculator to find the probability that a randomly selected observation from the standard normal distribution is greater than 1. This probability can be written as:\n",
    "\n",
    "P(Z > 1) = 0.1587\n",
    "\n",
    "Therefore, the probability that a randomly selected observation from the dataset with a mean of 50 and a standard deviation of 10 will be greater than 60 is 0.1587 or approximately 16%."
   ]
  },
  {
   "cell_type": "markdown",
   "id": "b9edb6dc-679f-4637-875a-34d1317b34b7",
   "metadata": {},
   "source": [
    "Q7: Explain uniform Distribution with an example."
   ]
  },
  {
   "cell_type": "markdown",
   "id": "826bfaec-baf5-4cbe-80db-f9b360be2e08",
   "metadata": {},
   "source": [
    "ANS - The uniform distribution is a continuous probability distribution that describes a situation where all outcomes within a given interval are equally likely. The probability density function (PDF) of the uniform distribution is a constant function over the interval of interest.\n",
    "\n",
    "For example, imagine a lottery that awards a prize based on a randomly chosen number between 0 and 1, where every number in that range is equally likely to be chosen. This is an example of a uniform distribution, where the PDF of the distribution is:\n",
    "\n",
    "f(x) = 1, for 0 ≤ x ≤ 1\n",
    "\n",
    "and f(x) = 0 for x < 0 or x > 1\n",
    "\n",
    "This means that any number within the interval [0,1] has an equal probability of being chosen. In other words, the probability of the number being chosen within any subinterval of [0,1] is proportional to the length of that subinterval.\n",
    "\n",
    "The uniform distribution is commonly used in simulations and modeling when it is necessary to generate random numbers that are equally likely to fall within a given range. It is also used in statistics when it is assumed that a continuous random variable has an equal likelihood of being any value within a specific range."
   ]
  },
  {
   "cell_type": "markdown",
   "id": "eb36864b-ec3a-4f5b-b0a8-30f29428cfe2",
   "metadata": {},
   "source": [
    "Q8: What is the z score? State the importance of the z score."
   ]
  },
  {
   "cell_type": "markdown",
   "id": "f9fb13f0-b5ac-494f-8b3b-21a279bc4880",
   "metadata": {},
   "source": [
    "The z-score, also known as the standard score, is a measure of how many standard deviations a data point is away from the mean of a distribution. It is calculated by subtracting the population or sample mean from the data point and then dividing the result by the population or sample standard deviation.\n",
    "\n",
    "z = (x - μ) / σ\n",
    "\n",
    "where:\n",
    "\n",
    "x is the data point\n",
    "μ is the population or sample mean\n",
    "σ is the population or sample standard deviation\n",
    "The z-score is important because it allows us to standardize and compare data points from different distributions with different means and standard deviations. By transforming data into z-scores, we can compare them directly, regardless of the scale or units of measurement.\n",
    "\n",
    "For example, suppose we have two data sets, one with a mean of 50 and a standard deviation of 10, and the other with a mean of 100 and a standard deviation of 20. If we want to compare a data point from the first data set (x=60) with a data point from the second data set (x=110), we can use z-scores to standardize them:\n",
    "\n",
    "For x=60:\n",
    "z = (60 - 50) / 10 = 1\n",
    "\n",
    "For x=110:\n",
    "z = (110 - 100) / 20 = 0.5\n",
    "\n",
    "Now we can compare these z-scores directly, and we can see that the data point from the first data set is farther away from its mean than the data point from the second data set.\n",
    "\n",
    "\n",
    "\n",
    "\n"
   ]
  },
  {
   "cell_type": "markdown",
   "id": "b4fa815c-03bd-49fa-9036-b070037bd84c",
   "metadata": {},
   "source": [
    "Q9: What is Central Limit Theorem? State the significance of the Central Limit Theorem."
   ]
  },
  {
   "cell_type": "markdown",
   "id": "90d999b5-ed05-41b6-84c4-c8ca5a17eca0",
   "metadata": {},
   "source": [
    "ANS - The Central Limit Theorem (CLT) is a fundamental result in probability theory that states that the sampling distribution of the mean of a large number of independent and identically distributed (i.i.d.) random variables will be approximately normally distributed, regardless of the distribution of the original variables.\n",
    "\n",
    "More formally, the CLT states that as the sample size n approaches infinity, the distribution of the sample means approaches a normal distribution with a mean equal to the population mean and a standard deviation equal to the population standard deviation divided by the square root of n.\n",
    "\n",
    "The significance of the CLT is that it provides a powerful tool for statistical inference, particularly in situations where the underlying population distribution is unknown or non-normal. It allows us to use the normal distribution to make inferences about the population mean and to construct confidence intervals and perform hypothesis tests.\n",
    "\n",
    "In practice, the CLT is used extensively in statistical analysis, particularly in survey sampling, experimental design, and quality control. It is also used in many fields outside of statistics, such as finance, engineering, and natural sciences, where it is essential to estimate population parameters from a sample of data."
   ]
  },
  {
   "cell_type": "markdown",
   "id": "9b90143b-ed57-47c6-83c9-67ce0868c99a",
   "metadata": {},
   "source": [
    "Q10: State the assumptions of the Central Limit Theorem."
   ]
  },
  {
   "cell_type": "markdown",
   "id": "0f08a2b1-3694-4c1f-a5c1-dd99dfe0a736",
   "metadata": {},
   "source": [
    "The Central Limit Theorem (CLT) makes certain assumptions about the distribution of the underlying population from which the sample is drawn. The key assumptions of the CLT are:\n",
    "\n",
    "Independent and identically distributed (i.i.d.) random variables: The sample should consist of independent and identically distributed random variables.\n",
    "\n",
    "Finite variance: The population variance should be finite. If the variance is infinite, the CLT may not hold.\n",
    "\n",
    "Sample size: The sample size should be sufficiently large. While there is no fixed rule, a general guideline is that the sample size should be at least 30. However, this may vary depending on the skewness of the population distribution.\n",
    "\n",
    "No outliers: The sample should not contain outliers or extreme values that would significantly affect the sample mean.\n",
    "\n",
    "If these assumptions are satisfied, then the CLT guarantees that the sample mean will approach a normal distribution as the sample size increases. However, if any of these assumptions are violated, the CLT may not hold, and alternative methods may need to be used to estimate population parameters."
   ]
  }
 ],
 "metadata": {
  "kernelspec": {
   "display_name": "Python 3 (ipykernel)",
   "language": "python",
   "name": "python3"
  },
  "language_info": {
   "codemirror_mode": {
    "name": "ipython",
    "version": 3
   },
   "file_extension": ".py",
   "mimetype": "text/x-python",
   "name": "python",
   "nbconvert_exporter": "python",
   "pygments_lexer": "ipython3",
   "version": "3.10.8"
  }
 },
 "nbformat": 4,
 "nbformat_minor": 5
}
