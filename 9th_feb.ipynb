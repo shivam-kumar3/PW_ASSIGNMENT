{
 "cells": [
  {
   "cell_type": "raw",
   "id": "d26b7d87-5f81-4b9e-9918-5218760ef7f1",
   "metadata": {},
   "source": [
    "Q1 Create a vehicle class with an init method having instance variables as name_of_vehicle, max_speed and average_of_vehicle."
   ]
  },
  {
   "cell_type": "code",
   "execution_count": 1,
   "id": "d9330293-4b8d-4d98-b8d5-d8b7c2eb9efb",
   "metadata": {},
   "outputs": [],
   "source": [
    "class Vehicle:\n",
    "    def __init__(self, name_of_vehicle, max_speed, average_of_vehicle):\n",
    "        self.name_of_vehicle = name_of_vehicle\n",
    "        self.max_speed = max_speed\n",
    "        self.average_of_vehicle = average_of_vehicle"
   ]
  },
  {
   "cell_type": "raw",
   "id": "d557b1d8-636e-4d3d-905c-8dab9a2cc5d7",
   "metadata": {},
   "source": [
    "Q2. Create a child class car from the vehicle class created in Que 1,which will inherit the vehicle class. Create a method named seating_capacity which takes capacity as an argument and returns the name of the vehicle and its seating capacity."
   ]
  },
  {
   "cell_type": "code",
   "execution_count": 2,
   "id": "f573baed-9623-467e-987e-8499bf10c305",
   "metadata": {},
   "outputs": [],
   "source": [
    "class Car(Vehicle):\n",
    "    def __init__(self, name_of_vehicle,max_speed,average_of_vehicle):\n",
    "        super().__init__(name_of_vehicle,max_speed,average_of_vehicle)     # inherit instance variable form parent class\n",
    "#self.capacity = capacity\n",
    "    def seating_capacity(self, capacity):\n",
    "        return print(f\"Name of the vehicle is {self.name_of_vehicle}, \\nAnd its seating capacity {capacity}\")"
   ]
  },
  {
   "cell_type": "code",
   "execution_count": 3,
   "id": "5b9b48d3-4fa1-4740-8700-971c2a6d084a",
   "metadata": {},
   "outputs": [],
   "source": [
    "obj = Car('innova',260,130)"
   ]
  },
  {
   "cell_type": "code",
   "execution_count": 4,
   "id": "96c05530-a994-4a92-aca7-022d7551cf09",
   "metadata": {},
   "outputs": [
    {
     "name": "stdout",
     "output_type": "stream",
     "text": [
      "Name of the vehicle is innova, \n",
      "And its seating capacity 25\n"
     ]
    }
   ],
   "source": [
    "obj.seating_capacity('25')"
   ]
  },
  {
   "cell_type": "code",
   "execution_count": 5,
   "id": "80a71706-32e3-47d7-946f-3807b60203ea",
   "metadata": {},
   "outputs": [
    {
     "data": {
      "text/plain": [
       "'innova'"
      ]
     },
     "execution_count": 5,
     "metadata": {},
     "output_type": "execute_result"
    }
   ],
   "source": [
    "obj.name_of_vehicle"
   ]
  },
  {
   "cell_type": "raw",
   "id": "d4b19988-6de8-4b4e-a83f-cdab4513baa5",
   "metadata": {},
   "source": [
    "Q3. What is multiple inheritance? Write a python code to demonstrate multiple inheritance."
   ]
  },
  {
   "cell_type": "code",
   "execution_count": 6,
   "id": "0f2ae3c1-4c0b-40f7-b2cb-8be0753971a2",
   "metadata": {},
   "outputs": [
    {
     "name": "stdout",
     "output_type": "stream",
     "text": [
      "Hi, Nazer. You are 29 years old, and you are from Delhi.\n"
     ]
    }
   ],
   "source": [
    "#Multple Inheritance\n",
    "class Person1:                         # first parent class\n",
    "    def __init__(self, name):\n",
    "        self.name = name    \n",
    "        \n",
    "class Person2:                         # second parent class\n",
    "    def __init__(self, address):\n",
    "        self.address = address\n",
    "    \n",
    "class Student(Person1, Person2):       # child class inherit both instance methods form Person1 and Person2\n",
    "    def __init__(self, name, address,age):\n",
    "        Person1.__init__(self,name)\n",
    "        Person2.__init__(self,address)\n",
    "        self.age = age\n",
    "    def details(self):\n",
    "        return self.name,self.address, self.age\n",
    "    \n",
    "Student = Student('Nazer', 'Delhi',29) \n",
    "\n",
    "print(f'Hi, {Student.name}. You are {Student.age} years old, and you are from {Student.address}.')"
   ]
  },
  {
   "cell_type": "raw",
   "id": "5434e3e6-ffc6-41a9-bdd7-640f198c2883",
   "metadata": {},
   "source": [
    "Q4. What are getter and setter in python? Create a class and create a getter and a setter method in this class."
   ]
  },
  {
   "cell_type": "raw",
   "id": "00a7838d-f6ac-4b7d-83df-8e73a37926e5",
   "metadata": {},
   "source": [
    "ANS- getter method\n",
    "This method is used to access or read data of the variables.\n",
    "This method do not modify the data in the variable\n",
    "It is also called Accessor Method\n",
    "Convention rules for getter method\n",
    "def get_result(self):\n",
    "def get_name(self):\n",
    "def get_numbers(self):"
   ]
  },
  {
   "cell_type": "code",
   "execution_count": 7,
   "id": "08bfd744-4667-43d9-9086-5a5defcd7434",
   "metadata": {},
   "outputs": [
    {
     "data": {
      "text/plain": [
       "'Year 2023'"
      ]
     },
     "execution_count": 7,
     "metadata": {},
     "output_type": "execute_result"
    }
   ],
   "source": [
    "class Car:\n",
    "    def __init__(self):\n",
    "        self.model = 'Year 2023'\n",
    "    def get_model(self):\n",
    "        return self.model\n",
    "obj = Car()\n",
    "obj.get_model()"
   ]
  },
  {
   "cell_type": "raw",
   "id": "b9f55353-3b96-4ae7-9967-d8083e4aff71",
   "metadata": {},
   "source": [
    "setter method\n",
    "This mehtod is used to read and modify data of the variable\n",
    "This is also called metator method\n",
    "setter method gets parametr as argument\n",
    "without parameter return error\n",
    "Convention rules for getter method\n",
    "def set_result(self):\n",
    "def set_name(self):\n",
    "def set_numbers(self):"
   ]
  },
  {
   "cell_type": "code",
   "execution_count": 8,
   "id": "fb6b9b12-1380-43f3-b502-ca94f035d850",
   "metadata": {},
   "outputs": [
    {
     "data": {
      "text/plain": [
       "'Year 2022'"
      ]
     },
     "execution_count": 8,
     "metadata": {},
     "output_type": "execute_result"
    }
   ],
   "source": [
    "class Car:\n",
    "    def __init__(self):\n",
    "        self.model = 'Year 2023'\n",
    "    def get_model(self, model):\n",
    "        self.model = model\n",
    "        return self.model\n",
    "obj = Car()\n",
    "obj.get_model('Year 2022')"
   ]
  },
  {
   "cell_type": "raw",
   "id": "99e8539b-484f-4117-8672-c320465b995e",
   "metadata": {},
   "source": [
    "Q5.What is method overriding in python? Write a python code to demonstrate method overriding."
   ]
  },
  {
   "cell_type": "raw",
   "id": "de6dcd60-754f-4b01-9bf4-84a7992a6cef",
   "metadata": {},
   "source": [
    "Ans :\n",
    "\n",
    "More than one method with same name and same class, it is called method overloading\n",
    "Define multiple methods with the same name but different parameters in a class.\n",
    "Method overloading allows us to provide multiple ways to call a single method based on the arguments you pass\n",
    "Method overloading ping last same method\n",
    "If you try to access first method is will show error"
   ]
  },
  {
   "cell_type": "code",
   "execution_count": 10,
   "id": "29a01bc3-78c7-4208-afb9-3576d0b701fc",
   "metadata": {},
   "outputs": [],
   "source": [
    "class Math:\n",
    "    def add(self,a,b):\n",
    "        return a+b\n",
    "    def add(self,a):\n",
    "        return a\n",
    "obj = Math()  \n"
   ]
  },
  {
   "cell_type": "code",
   "execution_count": 12,
   "id": "10d7bc1f-d69c-4de0-be05-a917c6593cb1",
   "metadata": {},
   "outputs": [
    {
     "data": {
      "text/plain": [
       "3"
      ]
     },
     "execution_count": 12,
     "metadata": {},
     "output_type": "execute_result"
    }
   ],
   "source": [
    "obj.add(3)"
   ]
  },
  {
   "cell_type": "code",
   "execution_count": null,
   "id": "e34019aa-33c5-4f49-bc86-3a863649bc69",
   "metadata": {},
   "outputs": [],
   "source": []
  },
  {
   "cell_type": "code",
   "execution_count": null,
   "id": "573051e6-f76c-4311-974b-f9389b9e409f",
   "metadata": {},
   "outputs": [],
   "source": []
  },
  {
   "cell_type": "code",
   "execution_count": null,
   "id": "7f08900b-103d-40d2-afab-a066000e0362",
   "metadata": {},
   "outputs": [],
   "source": []
  }
 ],
 "metadata": {
  "kernelspec": {
   "display_name": "Python 3 (ipykernel)",
   "language": "python",
   "name": "python3"
  },
  "language_info": {
   "codemirror_mode": {
    "name": "ipython",
    "version": 3
   },
   "file_extension": ".py",
   "mimetype": "text/x-python",
   "name": "python",
   "nbconvert_exporter": "python",
   "pygments_lexer": "ipython3",
   "version": "3.10.8"
  }
 },
 "nbformat": 4,
 "nbformat_minor": 5
}
