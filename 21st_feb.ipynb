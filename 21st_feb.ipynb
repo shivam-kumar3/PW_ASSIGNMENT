{
 "cells": [
  {
   "cell_type": "raw",
   "id": "d5a15eba-57fc-41a6-a651-bf35e442be62",
   "metadata": {},
   "source": [
    "Q1. What is Web Scraping? Why is it Used? Give three areas where Web Scraping is used to get data.\n",
    "Web Scraping is a way to scrap or collent data form a website. It is used to grab data to perfom some test and gethr use full information by using this data.\n",
    "\n",
    "In big data\n",
    "In data Analytics\n",
    "In data engineer\n",
    "every data related fields"
   ]
  },
  {
   "cell_type": "code",
   "execution_count": null,
   "id": "ba8b9d86-73aa-42c5-9ea6-9919291b250e",
   "metadata": {},
   "outputs": [],
   "source": [
    "Q2. What are the different methods used for Web Scraping?\n",
    "scraping.find(\"div\")                # find first div\n",
    "scraping.find_all(\"a\")                 # return all anchor tag\n",
    "scraping.select(\"div > p\")           # find paragraph tag inside a div tag\n",
    "scraping.find(\"div\").text            # return tag in text format"
   ]
  },
  {
   "cell_type": "raw",
   "id": "a6a3292d-44fa-4d81-a12b-aa9b4926460c",
   "metadata": {},
   "source": [
    "by using chrome extension\n",
    "by using python modules\n",
    "by using some online tools"
   ]
  },
  {
   "cell_type": "raw",
   "id": "61704f6b-7c42-47c2-8dbe-27812601afb8",
   "metadata": {},
   "source": [
    "Q3. What is Beautiful Soup? Why is it used?\n",
    "BeautifulSoup is a python module, It is used to fetch/scrap data form any publicly abailable website data"
   ]
  },
  {
   "cell_type": "raw",
   "id": "6aefed0f-c259-4d7a-80d2-87ab0d38a326",
   "metadata": {},
   "source": [
    "\n",
    "Q4. Why is flask used in this Web Scraping project?\n",
    "Basicly flask is a API tool, So it is used to build connection between web scraping data and project"
   ]
  },
  {
   "cell_type": "raw",
   "id": "1ba34b6c-b48f-4d55-a380-19205d9c53fd",
   "metadata": {},
   "source": [
    "Q5. Write the names of AWS services used in this project. Also, explain the use of each service.\n",
    "Ans :\n",
    "In this project two AWS services uses\n",
    "\n",
    "First one is Code Pipeline, which is used to connect github repo\n",
    "Second one is Beanstalk, which is used to connect with code pipeline"
   ]
  },
  {
   "cell_type": "code",
   "execution_count": null,
   "id": "79009560-dfdb-437b-ba87-41ea60b6b13c",
   "metadata": {},
   "outputs": [],
   "source": []
  },
  {
   "cell_type": "code",
   "execution_count": null,
   "id": "a69e4474-8d20-4597-aa06-3d90a810c964",
   "metadata": {},
   "outputs": [],
   "source": []
  },
  {
   "cell_type": "code",
   "execution_count": null,
   "id": "2aaf838a-f36a-4635-a649-2d10419eb929",
   "metadata": {},
   "outputs": [],
   "source": []
  }
 ],
 "metadata": {
  "kernelspec": {
   "display_name": "Python 3 (ipykernel)",
   "language": "python",
   "name": "python3"
  },
  "language_info": {
   "codemirror_mode": {
    "name": "ipython",
    "version": 3
   },
   "file_extension": ".py",
   "mimetype": "text/x-python",
   "name": "python",
   "nbconvert_exporter": "python",
   "pygments_lexer": "ipython3",
   "version": "3.10.8"
  }
 },
 "nbformat": 4,
 "nbformat_minor": 5
}
