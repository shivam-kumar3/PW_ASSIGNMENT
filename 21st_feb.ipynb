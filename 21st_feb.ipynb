{
 "cells": [
  {
   "cell_type": "code",
   "execution_count": null,
   "id": "f7f1b217-80ae-4563-93cc-60e862845d98",
   "metadata": {},
   "outputs": [],
   "source": [
    "Q1. What is Web Scraping? Why is it Used? Give three areas where Web Scraping is used to get data.\n",
    "Web Scraping is a way to scrap or collent data form a website. It is used to grab data to perfom some test and gethr use full information by using this data.\n",
    "\n",
    "In big data\n",
    "In data Analytics\n",
    "In data engineer\n",
    "every data related fields"
   ]
  },
  {
   "cell_type": "code",
   "execution_count": null,
   "id": "ba8b9d86-73aa-42c5-9ea6-9919291b250e",
   "metadata": {},
   "outputs": [],
   "source": [
    "Q2. What are the different methods used for Web Scraping?\n",
    "scraping.find(\"div\")                # find first div\n",
    "scraping.find_all(\"a\")                 # return all anchor tag\n",
    "scraping.select(\"div > p\")           # find paragraph tag inside a div tag\n",
    "scraping.find(\"div\").text            # return tag in text format"
   ]
  },
  {
   "cell_type": "code",
   "execution_count": null,
   "id": "c9c5dad0-4502-4a86-9bc3-d8c5fd81778a",
   "metadata": {},
   "outputs": [],
   "source": [
    "by using chrome extension\n",
    "by using python modules\n",
    "by using some online tools"
   ]
  },
  {
   "cell_type": "code",
   "execution_count": null,
   "id": "8a8e07d9-e53a-4f59-8eb7-35a1599591b7",
   "metadata": {},
   "outputs": [],
   "source": [
    "Q3. What is Beautiful Soup? Why is it used?\n",
    "BeautifulSoup is a python module, It is used to fetch/scrap data form any publicly abailable website data"
   ]
  },
  {
   "cell_type": "code",
   "execution_count": null,
   "id": "a2b8ba3e-f1db-4b34-a376-e8ac23b5916c",
   "metadata": {},
   "outputs": [],
   "source": [
    "\n",
    "Q4. Why is flask used in this Web Scraping project?\n",
    "Basicly flask is a API tool, So it is used to build connection between web scraping data and project"
   ]
  },
  {
   "cell_type": "code",
   "execution_count": null,
   "id": "33b2c5d7-1946-4fb9-a5b6-4edc53397567",
   "metadata": {},
   "outputs": [],
   "source": [
    "Q5. Write the names of AWS services used in this project. Also, explain the use of each service.\n",
    "Ans :\n",
    "In this project two AWS services uses\n",
    "\n",
    "First one is Code Pipeline, which is used to connect github repo\n",
    "Second one is Beanstalk, which is used to connect with code pipeline"
   ]
  },
  {
   "cell_type": "code",
   "execution_count": null,
   "id": "79009560-dfdb-437b-ba87-41ea60b6b13c",
   "metadata": {},
   "outputs": [],
   "source": []
  },
  {
   "cell_type": "code",
   "execution_count": null,
   "id": "a69e4474-8d20-4597-aa06-3d90a810c964",
   "metadata": {},
   "outputs": [],
   "source": []
  },
  {
   "cell_type": "code",
   "execution_count": null,
   "id": "2aaf838a-f36a-4635-a649-2d10419eb929",
   "metadata": {},
   "outputs": [],
   "source": []
  }
 ],
 "metadata": {
  "kernelspec": {
   "display_name": "Python 3 (ipykernel)",
   "language": "python",
   "name": "python3"
  },
  "language_info": {
   "codemirror_mode": {
    "name": "ipython",
    "version": 3
   },
   "file_extension": ".py",
   "mimetype": "text/x-python",
   "name": "python",
   "nbconvert_exporter": "python",
   "pygments_lexer": "ipython3",
   "version": "3.10.8"
  }
 },
 "nbformat": 4,
 "nbformat_minor": 5
}
