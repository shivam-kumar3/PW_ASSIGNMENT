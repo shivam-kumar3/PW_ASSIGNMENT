{
 "cells": [
  {
   "cell_type": "code",
   "execution_count": null,
   "id": "312db0b5-71c6-4ba0-86fb-59d95e94ba9f",
   "metadata": {},
   "outputs": [],
   "source": [
    "Q1: What is Estimation Statistics? Explain point estimate and interval estimate."
   ]
  },
  {
   "cell_type": "markdown",
   "id": "4ad2ce47-3047-4769-bbc0-6a08baefb83f",
   "metadata": {},
   "source": [
    "Estimation statistics is a branch of statistics that involves using sample data to make inferences about population parameters. The goal of estimation is to estimate the value of an unknown parameter based on information from a sample of data.\n",
    "\n",
    "There are two main types of estimation: point estimation and interval estimation.\n",
    "\n",
    "Point estimation involves using a single value, known as the point estimate, to estimate the value of the population parameter. The point estimate is typically calculated using a sample statistic, such as the sample mean or sample proportion. For example, if we are trying to estimate the population mean of salaries for a particular occupation, we might take a random sample of salaries and calculate the sample mean as the point estimate of the population mean.\n",
    "\n",
    "Interval estimation, on the other hand, involves calculating an interval of values, known as the confidence interval, that is likely to contain the true value of the population parameter with a certain degree of confidence. The confidence interval is typically calculated using the sample statistic and the standard error of the statistic, which is a measure of the variability of the statistic across different samples. For example, if we calculate a 95% confidence interval for the population mean salary, this means that we are 95% confident that the true population mean lies within this interval.\n",
    "\n",
    "In summary, estimation statistics involves using sample data to estimate the value of an unknown population parameter. Point estimation involves using a single value, known as the point estimate, to estimate the parameter, while interval estimation involves calculating an interval of values, known as the confidence interval, that is likely to contain the true value of the parameter with a certain degree of confidence."
   ]
  },
  {
   "cell_type": "markdown",
   "id": "e0629a0d-903f-4491-8da0-371b97423d6b",
   "metadata": {},
   "source": [
    "Q2. Write a Python function to estimate the population mean using a sample mean and standard\n",
    "deviation."
   ]
  },
  {
   "cell_type": "code",
   "execution_count": 1,
   "id": "757877b1-f91c-4225-adaa-939975f81104",
   "metadata": {},
   "outputs": [],
   "source": [
    "import math\n",
    "\n",
    "def estimate_population_mean(sample_mean, sample_std_dev, sample_size):\n",
    "    # Calculate the standard error of the mean\n",
    "    std_error = sample_std_dev / math.sqrt(sample_size)\n",
    "    # Calculate the margin of error at a 95% confidence level\n",
    "    margin_of_error = 1.96 * std_error\n",
    "    # Calculate the lower and upper bounds of the confidence interval\n",
    "    lower_bound = sample_mean - margin_of_error\n",
    "    upper_bound = sample_mean + margin_of_error\n",
    "    # Return a tuple with the estimated population mean and the confidence interval\n",
    "    return (sample_mean, (lower_bound, upper_bound))\n"
   ]
  },
  {
   "cell_type": "code",
   "execution_count": null,
   "id": "05c78574-401e-4d6c-b493-4096caee25ba",
   "metadata": {},
   "outputs": [],
   "source": [
    "Q3: What is Hypothesis testing? Why is it used? State the importance of Hypothesis testing."
   ]
  },
  {
   "cell_type": "markdown",
   "id": "798e0442-2266-4520-9115-d149757cd24b",
   "metadata": {},
   "source": [
    "Hypothesis testing is a statistical method used to make decisions about the truth of a claim or hypothesis about a population parameter, based on sample data. The goal of hypothesis testing is to determine whether the sample data provides enough evidence to reject or fail to reject a null hypothesis about the population parameter.\n",
    "\n",
    "In hypothesis testing, we start by stating a null hypothesis (H0) that represents the status quo or the default assumption. We then collect sample data and use a test statistic and a p-value to determine whether the sample data provides enough evidence to reject the null hypothesis. If the p-value is less than a chosen level of significance (usually 0.05), we reject the null hypothesis and conclude that there is evidence to support the alternative hypothesis (Ha).\n",
    "\n",
    "Hypothesis testing is used in various fields, including science, business, economics, and social sciences, to make decisions based on empirical evidence. It is used to test claims or hypotheses about population parameters, such as means, proportions, variances, or correlations, and to make decisions about the validity of these claims. Hypothesis testing can be used to evaluate the effectiveness of a new treatment, to test the fairness of a hiring process, to compare the performance of two products, or to investigate the relationship between two variables.\n",
    "\n",
    "The importance of hypothesis testing lies in its ability to provide a systematic and objective way of testing claims and making decisions based on data. It allows researchers and decision-makers to make informed decisions based on empirical evidence, rather than relying on intuition or personal beliefs. Hypothesis testing also provides a way to evaluate the reliability and validity of scientific studies and to ensure that the conclusions drawn from the data are based on sound statistical principles."
   ]
  },
  {
   "cell_type": "code",
   "execution_count": null,
   "id": "70975137-f19a-49b6-bff5-30a3dbc7b2a4",
   "metadata": {},
   "outputs": [],
   "source": [
    "Q4. Create a hypothesis that states whether the average weight of male college students is greater than\n",
    "the average weight of female college students."
   ]
  },
  {
   "cell_type": "markdown",
   "id": "78d8ec04-7b64-4b54-b461-f70244029e16",
   "metadata": {},
   "source": [
    "Null Hypothesis (H0): The average weight of male college students is not greater than the average weight of female college students.\n",
    "\n",
    "Alternative Hypothesis (Ha): The average weight of male college students is greater than the average weight of female college students.\n",
    "\n",
    "Symbolically, we can represent the hypotheses as follows:\n",
    "\n",
    "H0: μm ≤ μf\n",
    "\n",
    "Ha: μm > μf\n",
    "\n",
    "where μm is the population mean weight of male college students, and μf is the population mean weight of female college students.\n",
    "\n",
    "We can test this hypothesis by collecting a random sample of male and female college students and calculating the sample means and standard deviations of their weights. We can then use a t-test or z-test to determine whether the difference between the sample means is statistically significant and supports the alternative hypothesis. If the p-value is less than the level of significance, we can reject the null hypothesis and conclude that the average weight of male college students is greater than the average weight of female college students."
   ]
  },
  {
   "cell_type": "code",
   "execution_count": null,
   "id": "101c8fb0-325a-4eb4-baad-1715341f2239",
   "metadata": {},
   "outputs": [],
   "source": [
    "Q5. Write a Python script to conduct a hypothesis test on the difference between two population means,\n",
    "given a sample from each population."
   ]
  },
  {
   "cell_type": "code",
   "execution_count": 2,
   "id": "09cd8ebb-94aa-44c0-bc98-159108a4f6a7",
   "metadata": {},
   "outputs": [
    {
     "name": "stdout",
     "output_type": "stream",
     "text": [
      "Reject the null hypothesis. The population means are not equal.\n"
     ]
    }
   ],
   "source": [
    "import numpy as np\n",
    "from scipy.stats import t\n",
    "\n",
    "# Define the two samples\n",
    "sample1 = np.array([1, 2, 3, 4, 5])\n",
    "sample2 = np.array([6, 7, 8, 9, 10])\n",
    "\n",
    "# Calculate the sample means and standard deviations\n",
    "mean1 = np.mean(sample1)\n",
    "mean2 = np.mean(sample2)\n",
    "std1 = np.std(sample1, ddof=1)\n",
    "std2 = np.std(sample2, ddof=1)\n",
    "\n",
    "# Define the null and alternative hypotheses\n",
    "# We'll use a two-tailed test at a 95% confidence level\n",
    "null_hypothesis = \"The population means are equal.\"\n",
    "alternative_hypothesis = \"The population means are not equal.\"\n",
    "\n",
    "# Calculate the t-statistic and degrees of freedom\n",
    "n1 = len(sample1)\n",
    "n2 = len(sample2)\n",
    "df = n1 + n2 - 2\n",
    "sp = np.sqrt(((n1-1)*(std1**2) + (n2-1)*(std2**2)) / df)\n",
    "t_statistic = (mean1 - mean2) / (sp * np.sqrt(1/n1 + 1/n2))\n",
    "\n",
    "# Calculate the p-value\n",
    "p_value = 2 * t.cdf(-np.abs(t_statistic), df)\n",
    "\n",
    "# Compare the p-value to the significance level\n",
    "significance_level = 0.05\n",
    "if p_value < significance_level:\n",
    "    print(f\"Reject the null hypothesis. {alternative_hypothesis}\")\n",
    "else:\n",
    "    print(f\"Fail to reject the null hypothesis. {null_hypothesis}\")\n"
   ]
  },
  {
   "cell_type": "code",
   "execution_count": null,
   "id": "fa8c8c30-ef50-450b-8cd1-1faa7257dce4",
   "metadata": {},
   "outputs": [],
   "source": [
    "Q6: What is a null and alternative hypothesis? Give some examples."
   ]
  },
  {
   "cell_type": "markdown",
   "id": "1660606c-65a8-4c73-8512-ed66c93015fa",
   "metadata": {},
   "source": [
    "In statistics, a null hypothesis (H0) is a statement or assumption that there is no significant difference between two populations or variables. An alternative hypothesis (H1 or Ha) is a statement or assumption that there is a significant difference between two populations or variables.\n",
    "\n",
    "Here are some examples of null and alternative hypotheses:\n",
    "\n",
    "A researcher is investigating whether a new drug is effective in reducing blood pressure. The null hypothesis would be that the drug has no effect on blood pressure, while the alternative hypothesis would be that the drug does have an effect on blood pressure.\n",
    "\n",
    "An online retailer is testing whether changing the color of the \"buy now\" button on their website will affect the number of purchases. The null hypothesis would be that the color of the button has no effect on the number of purchases, while the alternative hypothesis would be that the color of the button does affect the number of purchases.\n",
    "\n",
    "A company is investigating whether a new manufacturing process results in a higher yield of a particular product. The null hypothesis would be that the new process has no effect on the yield of the product, while the alternative hypothesis would be that the new process does result in a higher yield of the product.\n",
    "\n",
    "In each of these examples, the null hypothesis assumes that there is no significant difference or effect, while the alternative hypothesis assumes that there is a significant difference or effect. The purpose of hypothesis testing is to determine whether there is enough evidence to reject the null hypothesis in favor of the alternative hypothesis.\n",
    "\n",
    "\n",
    "\n"
   ]
  },
  {
   "cell_type": "code",
   "execution_count": null,
   "id": "a86f1c5b-1f40-44e1-a3c0-a919876d2086",
   "metadata": {},
   "outputs": [],
   "source": [
    "Q7: Write down the steps involved in hypothesis testing."
   ]
  },
  {
   "cell_type": "markdown",
   "id": "24a5a146-4e89-4fe4-917f-2d44345e5877",
   "metadata": {},
   "source": [
    "The following are the general steps involved in hypothesis testing:\n",
    "\n",
    "State the null and alternative hypotheses: Formulate a clear and precise null hypothesis (H0) and alternative hypothesis (Ha) based on the research question or problem.\n",
    "\n",
    "Select the level of significance: Choose a significance level (alpha) that determines the probability of rejecting the null hypothesis when it is actually true. A common level of significance is 0.05.\n",
    "\n",
    "Choose a test statistic: Select an appropriate test statistic that is based on the type of data being analyzed, the nature of the research question, and the assumptions of the statistical test.\n",
    "\n",
    "Calculate the p-value: Calculate the p-value, which is the probability of obtaining a test statistic as extreme as the observed value, assuming the null hypothesis is true.\n",
    "\n",
    "Make a decision: Compare the p-value to the chosen significance level. If the p-value is less than or equal to the significance level, reject the null hypothesis and accept the alternative hypothesis. If the p-value is greater than the significance level, fail to reject the null hypothesis.\n",
    "\n",
    "Interpret the results: Draw a conclusion based on the decision made in step 5 and interpret the results in the context of the research question or problem.\n",
    "\n",
    "Communicate the findings: Communicate the findings in a clear and concise manner, including the statistical test used, the decision made, and the interpretation of the results."
   ]
  },
  {
   "cell_type": "markdown",
   "id": "18e0777d-7568-4bf7-b776-ab2576fbada3",
   "metadata": {},
   "source": [
    "Q8. Define p-value and explain its significance in hypothesis testing."
   ]
  },
  {
   "cell_type": "markdown",
   "id": "74825eec-d67a-48a0-98ea-a53807903cf0",
   "metadata": {},
   "source": [
    "In hypothesis testing, the p-value is the probability of obtaining a test statistic as extreme as the observed value, assuming the null hypothesis is true.\n",
    "\n",
    "The p-value is significant because it provides a measure of the strength of evidence against the null hypothesis. If the p-value is small (e.g., less than the chosen significance level), it suggests that the observed data is unlikely to have occurred by chance alone and provides evidence against the null hypothesis.\n",
    "\n",
    "For example, if the null hypothesis is that the mean weight of a population is 50 kg, and the alternative hypothesis is that the mean weight is greater than 50 kg, a small p-value would suggest that the observed data provides strong evidence that the mean weight is indeed greater than 50 kg. On the other hand, if the p-value is large, it suggests that the observed data is consistent with the null hypothesis, and there is not enough evidence to reject it.\n",
    "\n",
    "The significance level (alpha) chosen by the researcher is used to compare the p-value to. If the p-value is less than or equal to alpha, the null hypothesis is rejected, indicating that the alternative hypothesis is more likely. If the p-value is greater than alpha, the null hypothesis is not rejected.\n",
    "\n",
    "Therefore, the p-value is an important concept in hypothesis testing as it helps researchers to make informed decisions about whether to accept or reject a null hypothesis based on the strength of the evidence provided by the data.\n",
    "\n",
    "\n",
    "\n"
   ]
  },
  {
   "cell_type": "markdown",
   "id": "8a72a3ed-c590-4233-816e-74679a559df3",
   "metadata": {},
   "source": [
    "Q9. Generate a Student's t-distribution plot using Python's matplotlib library, with the degrees of freedom\n",
    "parameter set to 10."
   ]
  },
  {
   "cell_type": "code",
   "execution_count": 3,
   "id": "057c4b52-ad1a-4986-9a5b-116a5eeb37a5",
   "metadata": {},
   "outputs": [
    {
     "data": {
      "image/png": "[encoded data removed]",
      "text/plain": [
       "<Figure size 640x480 with 1 Axes>"
      ]
     },
     "metadata": {},
     "output_type": "display_data"
    }
   ],
   "source": [
    "import numpy as np\n",
    "import matplotlib.pyplot as plt\n",
    "\n",
    "df = 10  # degrees of freedom\n",
    "x = np.linspace(-5, 5, 1000)\n",
    "y = (1 / (np.sqrt(df) * np.sqrt(np.pi))) * ((1 + (x ** 2 / df)) ** (- (df + 1) / 2)) # Student's t-distribution formula\n",
    "\n",
    "plt.plot(x, y)\n",
    "plt.title(\"Student's t-distribution with 10 degrees of freedom\")\n",
    "plt.xlabel(\"x\")\n",
    "plt.ylabel(\"Probability density\")\n",
    "plt.show()\n"
   ]
  },
  {
   "cell_type": "markdown",
   "id": "d6ae22a7-27b0-4e7d-83b5-5448c89f849d",
   "metadata": {},
   "source": [
    "Q10. Write a Python program to calculate the two-sample t-test for independent samples, given two\n",
    "random samples of equal size and a null hypothesis that the population means are equal."
   ]
  },
  {
   "cell_type": "code",
   "execution_count": 5,
   "id": "fc29ccce-1d9c-4028-a4d7-9da223a857fb",
   "metadata": {},
   "outputs": [
    {
     "name": "stdout",
     "output_type": "stream",
     "text": [
      "t-statistic:  -3.4786055240864555\n",
      "p-value:  0.0012801510477605078\n"
     ]
    }
   ],
   "source": [
    "import numpy as np\n",
    "from scipy.stats import ttest_ind\n",
    "\n",
    "# Generate two random samples\n",
    "np.random.seed(1)\n",
    "sample1 = np.random.normal(10, 2, 20)\n",
    "sample2 = np.random.normal(12, 2, 20)\n",
    "\n",
    "# Calculate the t-test and p-value assuming equal variance\n",
    "t_stat, p_value = ttest_ind(sample1, sample2, equal_var=True)\n",
    "\n",
    "# Print the results\n",
    "print(\"t-statistic: \", t_stat)\n",
    "print(\"p-value: \", p_value)\n"
   ]
  },
  {
   "cell_type": "code",
   "execution_count": null,
   "id": "a57e9831-a743-48a9-9d87-4fb793366788",
   "metadata": {},
   "outputs": [],
   "source": [
    "Q9. Generate a Student's t-distribution plot using Python's matplotlib library, with the degrees of freedom\n",
    "parameter set to 10."
   ]
  },
  {
   "cell_type": "code",
   "execution_count": 7,
   "id": "834894f9-1c9a-4ad6-a400-08673136a16f",
   "metadata": {},
   "outputs": [
    {
     "data": {
      "image/png": "[encoded data removed]",
      "text/plain": [
       "<Figure size 640x480 with 1 Axes>"
      ]
     },
     "metadata": {},
     "output_type": "display_data"
    }
   ],
   "source": [
    "import numpy as np\n",
    "import matplotlib.pyplot as plt\n",
    "from scipy.stats import t\n",
    "\n",
    "# Define the degrees of freedom\n",
    "df = 10\n",
    "\n",
    "# Generate x values from -4 to 4 with 1000 points\n",
    "x = np.linspace(-4, 4, 1000)\n",
    "\n",
    "# Calculate the corresponding y values using the t-distribution\n",
    "y = t.pdf(x, df)\n",
    "\n",
    "# Plot the t-distribution\n",
    "plt.plot(x, y, label='t-distribution (df=10)')\n",
    "plt.legend()\n",
    "plt.show()\n"
   ]
  },
  {
   "cell_type": "markdown",
   "id": "571544f0-2cb1-486f-a056-433ac2d87dce",
   "metadata": {},
   "source": [
    "Q10. Write a Python program to calculate the two-sample t-test for independent samples, given two\n",
    "random samples of equal size and a null hypothesis that the population means are equal."
   ]
  },
  {
   "cell_type": "code",
   "execution_count": 8,
   "id": "f235090b-4151-4e2b-b3cf-5f292ec5fd9c",
   "metadata": {},
   "outputs": [
    {
     "name": "stdout",
     "output_type": "stream",
     "text": [
      "Sample 1 mean: 8.20\n",
      "Sample 2 mean: 9.60\n",
      "Sample 1 std: 2.86\n",
      "Sample 2 std: 2.41\n",
      "t-statistic: -0.84\n",
      "p-value: 0.4271\n"
     ]
    }
   ],
   "source": [
    "import numpy as np\n",
    "from scipy.stats import t\n",
    "\n",
    "# sample data\n",
    "sample1 = np.array([5, 10, 12, 8, 6])\n",
    "sample2 = np.array([9, 11, 7, 13, 8])\n",
    "\n",
    "# calculate means and standard deviations\n",
    "mean1 = np.mean(sample1)\n",
    "mean2 = np.mean(sample2)\n",
    "std1 = np.std(sample1, ddof=1)\n",
    "std2 = np.std(sample2, ddof=1)\n",
    "\n",
    "# calculate t-statistic and degrees of freedom\n",
    "t_stat = (mean1 - mean2) / np.sqrt((std1**2 / len(sample1)) + (std2**2 / len(sample2)))\n",
    "df = len(sample1) + len(sample2) - 2\n",
    "\n",
    "# calculate p-value\n",
    "p_val = 2 * t.cdf(-np.abs(t_stat), df)\n",
    "\n",
    "# print results\n",
    "print(\"Sample 1 mean: {:.2f}\".format(mean1))\n",
    "print(\"Sample 2 mean: {:.2f}\".format(mean2))\n",
    "print(\"Sample 1 std: {:.2f}\".format(std1))\n",
    "print(\"Sample 2 std: {:.2f}\".format(std2))\n",
    "print(\"t-statistic: {:.2f}\".format(t_stat))\n",
    "print(\"p-value: {:.4f}\".format(p_val))\n"
   ]
  },
  {
   "cell_type": "markdown",
   "id": "68fed0a5-c625-43ec-ae6e-c607bed01004",
   "metadata": {},
   "source": [
    "Q11: What is Student’s t distribution? When to use the t-Distribution."
   ]
  },
  {
   "cell_type": "markdown",
   "id": "17994e2a-f32d-4467-8712-977d2c2d4228",
   "metadata": {},
   "source": [
    "Student's t-distribution is a probability distribution that is used to estimate the population mean when the sample size is small and/or the population standard deviation is unknown. It is a continuous probability distribution that looks similar to the standard normal distribution but has heavier tails.\n",
    "\n",
    "The t-distribution is typically used when the sample size is less than 30 or when the population standard deviation is unknown. It is commonly used in hypothesis testing, where the population mean is estimated using a sample mean and the t-distribution is used to calculate the probability of observing the sample mean if the null hypothesis is true.\n",
    "\n",
    "The t-distribution is also used in confidence interval estimation, where a range of values is estimated to contain the true population mean with a certain level of confidence."
   ]
  },
  {
   "cell_type": "markdown",
   "id": "6ad93433-10e8-42f9-8185-e0a5503fa52e",
   "metadata": {},
   "source": [
    "Q12: What is t-statistic? State the formula for t-statistic."
   ]
  },
  {
   "cell_type": "markdown",
   "id": "db5d2eac-62e3-4c4d-b821-6c3ee34e4771",
   "metadata": {},
   "source": [
    "The t-statistic is a measure of how many standard errors the sample mean is away from the population mean, and it is used to determine if the difference between two groups or variables is statistically significant.\n",
    "\n",
    "The formula for the t-statistic is:\n",
    "\n",
    "t = (x̄1 - x̄2) / [s²p(1/n1 + 1/n2)]^(1/2)\n",
    "\n",
    "where x̄1 and x̄2 are the sample means, s²p is the pooled sample variance, n1 and n2 are the sample sizes, and ^(1/2) denotes the square root.\n",
    "\n",
    "The t-statistic is then compared to the t-distribution to determine the probability of observing a t-value as extreme as the one calculated from the sample data, assuming that the null hypothesis is true. If the probability is very low (typically less than 0.05), we reject the null hypothesis and conclude that the difference between the two groups or variables is statistically significant."
   ]
  },
  {
   "cell_type": "markdown",
   "id": "88e77b12-24ea-4f16-93ba-d93b84e43655",
   "metadata": {},
   "source": [
    "Q13. A coffee shop owner wants to estimate the average daily revenue for their shop. They take a random\n",
    "sample of 50 days and find the sample mean revenue to be $500 with a standard deviation of $50.\n",
    "Estimate the population mean revenue with a 95% confidence interval."
   ]
  },
  {
   "cell_type": "markdown",
   "id": "ee80ca7d-24d7-4912-8755-417a789da37c",
   "metadata": {},
   "source": [
    "Given,\n",
    "Sample mean (x̄) = $500\n",
    "Standard deviation (s) = $50\n",
    "Sample size (n) = 50\n",
    "Confidence level = 95%\n",
    "\n",
    "To find the 95% confidence interval for the population mean, we can use the following formula:\n",
    "\n",
    "Confidence interval = x̄ ± (t_critical * (s/√n))"
   ]
  },
  {
   "cell_type": "code",
   "execution_count": 11,
   "id": "63fdb518-3c6a-44a4-9f4c-4e078a7f7cda",
   "metadata": {},
   "outputs": [],
   "source": [
    "from scipy.stats import t\n",
    "t_critical = t.ppf(q=0.975, df=49)\n"
   ]
  },
  {
   "cell_type": "markdown",
   "id": "2b86e3ac-c414-4857-81d3-2c66e3135723",
   "metadata": {},
   "source": [
    "Here, q is the confidence level, and df is the degrees of freedom (n-1).\n",
    "\n",
    "Now, substituting the values in the formula, we get:\n",
    "\n",
    "Confidence interval = 500 ± (2.009 * (50/√50)) = (485.04, 514.96)\n",
    "\n",
    "Therefore, we can be 95% confident that the true population mean revenue falls between $485.04 and $514.96."
   ]
  },
  {
   "cell_type": "markdown",
   "id": "62a968d8-ccf6-4dcd-9d7e-683c46cffd37",
   "metadata": {},
   "source": [
    "Q14. A researcher hypothesizes that a new drug will decrease blood pressure by 10 mmHg. They conduct a\n",
    "clinical trial with 100 patients and find that the sample mean decrease in blood pressure is 8 mmHg with a\n",
    "standard deviation of 3 mmHg. Test the hypothesis with a significance level of 0.05."
   ]
  },
  {
   "cell_type": "markdown",
   "id": "8a0a2cc3-fbf7-4660-a417-c3383040418e",
   "metadata": {},
   "source": [
    "ans- To test the hypothesis with a significance level of 0.05, we can use a two-tailed t-test. Here, the null hypothesis is that the new drug will not decrease blood pressure by 10 mmHg, and the alternative hypothesis is that it will decrease blood pressure by 10 mmHg.\n",
    "\n",
    "We can calculate the t-statistic as:\n",
    "\n",
    "t = (sample_mean - hypothesized_mean) / (standard_deviation / sqrt(sample_size))\n",
    "\n",
    "where sample_mean is the sample mean decrease in blood pressure, hypothesized_mean is the hypothesized decrease in blood pressure (10 mmHg), standard_deviation is the sample standard deviation, and sample_size is the sample size.\n",
    "\n",
    "Substituting the values, we get:\n",
    "\n",
    "t = (8 - 10) / (3 / sqrt(100))\n",
    "t = -4.47\n",
    "\n",
    "We can find the critical t-value for a two-tailed t-test with 99 degrees of freedom and a significance level of 0.05 using a t-table or a calculator. The critical t-value is approximately ±1.984.\n",
    "\n",
    "Since the calculated t-value (-4.47) is less than the critical t-value (-1.984), we reject the null hypothesis and conclude that the new drug decreases blood pressure by 10 mmHg with a significance level of 0.05."
   ]
  },
  {
   "cell_type": "markdown",
   "id": "1f5e3a64-05ec-4b4f-a96c-60b1893d3174",
   "metadata": {},
   "source": [
    "Q15. An electronics company produces a certain type of product with a mean weight of 5 pounds and a\n",
    "standard deviation of 0.5 pounds. A random sample of 25 products is taken, and the sample mean weight\n",
    "is found to be 4.8 pounds. Test the hypothesis that the true mean weight of the products is less than 5\n",
    "pounds with a significance level of 0.01."
   ]
  },
  {
   "cell_type": "markdown",
   "id": "8f0e15be-e29d-4552-8bf3-c60d681ca872",
   "metadata": {},
   "source": [
    "We are given:\n",
    "\n",
    "The population mean weight of the product, μ = 5 pounds\n",
    "The standard deviation of the population, σ = 0.5 pounds\n",
    "Sample size, n = 25\n",
    "Sample mean weight, x̄ = 4.8 pounds\n",
    "Significance level, α = 0.01\n",
    "We need to test the hypothesis:\n",
    "\n",
    "Null hypothesis: The true mean weight of the products is not less than 5 pounds. μ >= 5\n",
    "Alternative hypothesis: The true mean weight of the products is less than 5 pounds. μ < 5\n",
    "Since the population standard deviation is known and the sample size is greater than 30, we can use the Z-test.\n",
    "\n",
    "The test statistic is calculated as:\n",
    "\n",
    "z = (x̄ - μ) / (σ / sqrt(n))\n",
    "\n",
    "z = (4.8 - 5) / (0.5 / sqrt(25))\n",
    "\n",
    "z = -2\n",
    "\n",
    "The critical value of z for a one-tailed test with a significance level of 0.01 is -2.33 (using a Z-table or calculator).\n",
    "\n",
    "Since our test statistic (-2) is less than the critical value (-2.33), we reject the null hypothesis.\n",
    "\n",
    "Therefore, we can conclude that the true mean weight of the products is less than 5 pounds with a significance level of 0.01."
   ]
  },
  {
   "cell_type": "markdown",
   "id": "1442795f-a195-4483-8ddf-7d6bdf5ef09c",
   "metadata": {},
   "source": [
    "Q16. Two groups of students are given different study materials to prepare for a test. The first group (n1 =\n",
    "30) has a mean score of 80 with a standard deviation of 10, and the second group (n2 = 40) has a mean\n",
    "score of 75 with a standard deviation of 8. Test the hypothesis that the population means for the two\n",
    "groups are equal with a significance level of 0.01."
   ]
  },
  {
   "cell_type": "code",
   "execution_count": 13,
   "id": "9e756f21-7509-463c-ad45-6cd3c4003ede",
   "metadata": {},
   "outputs": [
    {
     "name": "stdout",
     "output_type": "stream",
     "text": [
      "t-statistic: 2.2511258444537408\n",
      "p-value: 0.027613480367697507\n"
     ]
    }
   ],
   "source": [
    "import numpy as np\n",
    "from scipy.stats import t\n",
    "\n",
    "# sample data\n",
    "n1 = 30\n",
    "mean1 = 80\n",
    "std1 = 10\n",
    "n2 = 40\n",
    "mean2 = 75\n",
    "std2 = 8\n",
    "\n",
    "# calculate test statistic and p-value\n",
    "se = np.sqrt(std1**2/n1 + std2**2/n2)\n",
    "t_stat = (mean1 - mean2) / se\n",
    "df = n1 + n2 - 2\n",
    "p_value = 2 * (1 - t.cdf(abs(t_stat), df))\n",
    "\n",
    "print('t-statistic:', t_stat)\n",
    "print('p-value:', p_value)\n"
   ]
  },
  {
   "cell_type": "markdown",
   "id": "82c3bcf5-ef20-4910-9516-0312cda121ec",
   "metadata": {},
   "source": [
    "Q17. A marketing company wants to estimate the average number of ads watched by viewers during a TV\n",
    "program. They take a random sample of 50 viewers and find that the sample mean is 4 with a standard\n",
    "deviation of 1.5. Estimate the population mean with a 99% confidence interval."
   ]
  },
  {
   "cell_type": "markdown",
   "id": "b9be77f0-337e-4962-bb35-437ee3c5bbd3",
   "metadata": {},
   "source": [
    "To estimate the population mean with a 99% confidence interval, we can use the following formula:\n",
    "\n",
    "Confidence interval = sample mean ± (critical value) x (standard error)\n",
    "\n",
    "Where the critical value is obtained from the t-distribution with n-1 degrees of freedom and a 99% confidence level, and the standard error is calculated as the standard deviation of the sample divided by the square root of the sample size.\n",
    "\n",
    "Here, we have a sample size of n = 50, sample mean of x̄ = 4 and sample standard deviation of s = 1.5.\n",
    "\n",
    "The critical value for a 99% confidence interval and 49 degrees of freedom is 2.680 (obtained from a t-distribution table or using a statistical software).\n",
    "\n",
    "The standard error can be calculated as:\n",
    "\n",
    "standard error = s / √n\n",
    "standard error = 1.5 / √50\n",
    "standard error = 0.2121\n",
    "\n",
    "Therefore, the 99% confidence interval for the population mean is:\n",
    "\n",
    "Confidence interval = 4 ± 2.680 x 0.2121\n",
    "Confidence interval = 4 ± 0.5692\n",
    "Confidence interval = (3.4308, 4.5692)\n",
    "\n",
    "Therefore, we can be 99% confident that the true population mean for the number of ads watched by viewers during a TV program falls within the interval (3.4308, 4.5692)."
   ]
  },
  {
   "cell_type": "code",
   "execution_count": null,
   "id": "ab307806-c285-4f56-b8da-3fc0c4cab602",
   "metadata": {},
   "outputs": [],
   "source": []
  },
  {
   "cell_type": "code",
   "execution_count": null,
   "id": "01e2c4e2-5045-47e3-bd68-b7283e679c8d",
   "metadata": {},
   "outputs": [],
   "source": []
  },
  {
   "cell_type": "code",
   "execution_count": null,
   "id": "3e9e94b2-a685-462d-99cc-b0b6e23345fe",
   "metadata": {},
   "outputs": [],
   "source": []
  },
  {
   "cell_type": "code",
   "execution_count": null,
   "id": "5bda803a-4252-49fb-8d10-9e9ed1d28bba",
   "metadata": {},
   "outputs": [],
   "source": []
  },
  {
   "cell_type": "code",
   "execution_count": null,
   "id": "d08f169c-19ee-4974-bd38-f33025817d29",
   "metadata": {},
   "outputs": [],
   "source": []
  }
 ],
 "metadata": {
  "kernelspec": {
   "display_name": "Python 3 (ipykernel)",
   "language": "python",
   "name": "python3"
  },
  "language_info": {
   "codemirror_mode": {
    "name": "ipython",
    "version": 3
   },
   "file_extension": ".py",
   "mimetype": "text/x-python",
   "name": "python",
   "nbconvert_exporter": "python",
   "pygments_lexer": "ipython3",
   "version": "3.10.8"
  }
 },
 "nbformat": 4,
 "nbformat_minor": 5
}
