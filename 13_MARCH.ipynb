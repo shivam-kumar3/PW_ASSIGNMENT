{
 "cells": [
  {
   "cell_type": "raw",
   "id": "d92bc545-6322-4e4a-8947-f763224586fd",
   "metadata": {},
   "source": [
    "Q1. Explain the assumptions required to use ANOVA and provide examples of violations that could impact\n",
    "the validity of the results."
   ]
  },
  {
   "cell_type": "raw",
   "id": "6f5b65f3-db89-4ddd-a83a-36cf110f23ec",
   "metadata": {},
   "source": [
    "ANOVA (Analysis of Variance) is a statistical method used to compare the means of three or more groups. In order to use ANOVA, several assumptions must be met.\n",
    "\n",
    "The assumptions required to use ANOVA are:\n",
    "\n",
    "Independence: The observations must be independent of each other. This means that the observations within each group must not be influenced by the other groups.\n",
    "\n",
    "Normality: The data must follow a normal distribution within each group. This means that the distribution of values within each group should be symmetric and bell-shaped.\n",
    "\n",
    "Homogeneity of Variance: The variances of the groups must be equal. This means that the spread of the data within each group should be similar.\n",
    "\n",
    "If these assumptions are not met, it may impact the validity of the ANOVA results. Here are some examples of violations that could impact the validity of the results:\n",
    "\n",
    "Violation of Independence: If the observations within each group are not independent, it could lead to bias in the ANOVA results. For example, if multiple observations are taken from the same individual or are related in some way, this could violate the assumption of independence.\n",
    "\n",
    "Violation of Normality: If the data within each group does not follow a normal distribution, it could affect the accuracy of the ANOVA results. For example, if the data is heavily skewed or contains outliers, this could violate the assumption of normality.\n",
    "\n",
    "Violation of Homogeneity of Variance: If the variances of the groups are not equal, it could affect the validity of the ANOVA results. For example, if the variances of the groups are very different, this could impact the accuracy of the test.\n",
    "\n",
    "In summary, ANOVA requires the assumptions of independence, normality, and homogeneity of variance. Violations of these assumptions could impact the validity of the results, and it is important to check these assumptions before conducting an ANOVA."
   ]
  },
  {
   "cell_type": "markdown",
   "id": "17284dc0-e166-4b09-bfed-f5f4ba26acfa",
   "metadata": {},
   "source": [
    "Q2. What are the three types of ANOVA, and in what situations would each be used?"
   ]
  },
  {
   "cell_type": "markdown",
   "id": "3545dc90-dc63-435e-8da9-8181821f5db8",
   "metadata": {},
   "source": [
    "There are three types of ANOVA: one-way ANOVA, two-way ANOVA, and repeated measures ANOVA. Each type is used in different situations.\n",
    "\n",
    "One-way ANOVA: This is used when there is only one independent variable and one dependent variable. It is used to compare the means of three or more groups to see if there is a statistically significant difference between them. For example, a one-way ANOVA could be used to compare the average test scores of students in three different schools.\n",
    "\n",
    "Two-way ANOVA: This is used when there are two independent variables and one dependent variable. It is used to examine the effects of both variables on the dependent variable and to see if there is an interaction effect between the two independent variables. For example, a two-way ANOVA could be used to compare the effect of two different treatments (independent variables) on blood pressure (dependent variable), while also examining if there is an interaction effect between age and the treatments.\n",
    "\n",
    "Repeated measures ANOVA: This is used when the same group of participants is measured on the same variable multiple times. It is used to compare the means of three or more related groups to see if there is a statistically significant difference between them. For example, a repeated measures ANOVA could be used to compare the reaction times of participants before and after they received a certain treatment.\n",
    "\n",
    "In summary, one-way ANOVA is used when there is only one independent variable, two-way ANOVA is used when there are two independent variables, and repeated measures ANOVA is used when the same group is measured on the same variable multiple times."
   ]
  },
  {
   "cell_type": "code",
   "execution_count": 1,
   "id": "adadf8dc-f09f-40a7-a284-ba4eba051615",
   "metadata": {},
   "outputs": [
    {
     "name": "stdout",
     "output_type": "stream",
     "text": [
      "Object `concept` not found.\n"
     ]
    }
   ],
   "source": [
    "Q3- What is the partitioning of variance in ANOVA, and why is it important to understand this concept?"
   ]
  },
  {
   "cell_type": "markdown",
   "id": "4a762cc7-d623-4cf1-98a0-e976ae0981ee",
   "metadata": {},
   "source": [
    "The partitioning of variance in ANOVA is the process of dividing the total variance of a dependent variable into components that can be attributed to different sources of variation. Specifically, ANOVA partitions the total variance into variance explained by the treatment (or factor) and variance unexplained (or error variance). The ratio of variance explained to variance unexplained is then used to assess the significance of the treatment effect.\n",
    "\n",
    "Understanding the partitioning of variance is important for several reasons. First, it allows us to quantify the extent to which a treatment variable explains the variability in the outcome variable. This helps us to understand the relative importance of the treatment variable and to assess its statistical significance.\n",
    "\n",
    "Second, partitioning of variance enables us to identify the sources of variability in our data. For example, if a large proportion of the variance is explained by the treatment variable, we can conclude that the treatment variable has a significant effect on the outcome variable. Conversely, if a small proportion of the variance is explained by the treatment variable, we may need to consider other variables or factors that could explain the remaining variability.\n",
    "\n",
    "Finally, the partitioning of variance helps us to choose the appropriate statistical test for our data. ANOVA is a powerful tool for testing the significance of group differences in continuous data, and the partitioning of variance is a key step in the ANOVA analysis.\n",
    "\n",
    "Overall, the partitioning of variance is an important concept in ANOVA because it enables us to understand the sources of variability in our data, to assess the significance of treatment effects, and to choose appropriate statistical tests."
   ]
  },
  {
   "cell_type": "markdown",
   "id": "31a4926c-be39-4288-af27-9634ca6f16e4",
   "metadata": {},
   "source": [
    "Q4. How would you calculate the total sum of squares (SST), explained sum of squares (SSE), and residual\n",
    "sum of squares (SSR) in a one-way ANOVA using Python?"
   ]
  },
  {
   "cell_type": "code",
   "execution_count": null,
   "id": "63d19b74-9e0c-4fce-9db0-a1cf959dcb5b",
   "metadata": {},
   "outputs": [],
   "source": [
    "import statsmodels.api as sm\n",
    "from statsmodels.formula.api import ols\n",
    "\n",
    "# y is the response variable\n",
    "# x is the categorical variable (grouping variable)\n",
    "model = ols('y ~ x', data=df).fit()\n",
    "\n",
    "# total sum of squares\n",
    "SST = np.sum((df['y'] - np.mean(df['y']))**2)\n",
    "\n",
    "# explained sum of squares\n",
    "SSE = np.sum(model.fittedvalues**2) / df['x'].nunique()\n",
    "\n",
    "# residual sum of squares\n",
    "SSR = SST - SSE\n"
   ]
  },
  {
   "cell_type": "markdown",
   "id": "618128a6-80ed-4b4c-999d-261559371656",
   "metadata": {},
   "source": [
    "Q5. In a two-way ANOVA, how would you calculate the main effects and interaction effects using Python?"
   ]
  },
  {
   "cell_type": "code",
   "execution_count": null,
   "id": "d5efe16d-ad66-4644-9d98-d2c0dcf68573",
   "metadata": {},
   "outputs": [],
   "source": [
    "import statsmodels.formula.api as smf\n",
    "\n",
    "model_a = smf.ols('response ~ A + B', data=df).fit()\n",
    "SSA = sum(model_a.ess)    # sum of squares for factor A\n"
   ]
  },
  {
   "cell_type": "code",
   "execution_count": null,
   "id": "ef83236b-3043-4f82-afdd-66379a67e138",
   "metadata": {},
   "outputs": [],
   "source": [
    "model_b = smf.ols('response ~ A + B', data=df).fit()\n",
    "SSB = sum(model_b.ess)    # sum of squares for factor B\n"
   ]
  },
  {
   "cell_type": "code",
   "execution_count": null,
   "id": "8e9838ea-dccd-4708-9b77-f67bd6b6d0cd",
   "metadata": {},
   "outputs": [],
   "source": [
    "model_interaction = smf.ols('response ~ A * B', data=df).fit()\n",
    "SSAB = sum(model_interaction.ess) - SSA - SSB    # sum of squares for interaction effect\n"
   ]
  },
  {
   "cell_type": "markdown",
   "id": "554a46be-536c-46a3-868e-e5762863eb35",
   "metadata": {},
   "source": [
    "Q6. Suppose you conducted a one-way ANOVA and obtained an F-statistic of 5.23 and a p-value of 0.02.\n",
    "What can you conclude about the differences between the groups, and how would you interpret these\n",
    "results?"
   ]
  },
  {
   "cell_type": "markdown",
   "id": "4ba44d6a-5596-406e-89f3-dbcc37c75fa0",
   "metadata": {},
   "source": [
    "A one-way ANOVA with an F-statistic of 5.23 and a p-value of 0.02 indicates that there is a significant difference between the means of the groups. Specifically, it suggests that there is less than a 2% probability that the observed differences between the groups occurred by chance alone. Therefore, we reject the null hypothesis of equal means and conclude that there is at least one group that is statistically different from the others. The magnitude of the effect, however, cannot be determined from these statistics alone and would require further analysis such as post-hoc tests."
   ]
  },
  {
   "cell_type": "markdown",
   "id": "1ea80ee1-8f98-473a-885d-6127df515989",
   "metadata": {},
   "source": [
    "Q7. In a repeated measures ANOVA, how would you handle missing data, and what are the potential\n",
    "consequences of using different methods to handle missing data?"
   ]
  },
  {
   "cell_type": "markdown",
   "id": "cc8a48fd-de97-47e3-8147-8d7d32d292fb",
   "metadata": {},
   "source": [
    "In a repeated measures ANOVA, missing data can be handled in different ways depending on the extent of the missing data and the assumptions made about the missing data mechanism. Some common methods for handling missing data in repeated measures ANOVA include:\n",
    "\n",
    "Complete case analysis: Only complete cases are used for analysis, meaning that any participant with missing data on any measure is excluded from the analysis. This method can result in a loss of power and may introduce bias if the missing data are not missing completely at random (MCAR).\n",
    "\n",
    "Pairwise deletion: This method uses all available data and includes only participants with at least one non-missing value across measures. This method can be inefficient and may introduce bias if the missing data are not MCAR.\n",
    "\n",
    "Mean imputation: Missing data can be imputed by replacing the missing value with the mean of the available data for that measure. This method can lead to biased estimates of variance and covariance, and may also underestimate the standard error of estimates.\n",
    "\n",
    "Maximum likelihood estimation: This method estimates the parameters of the model based on the likelihood function of the observed data, accounting for missing data. This method can produce unbiased and efficient estimates of the parameters under the assumption that the missing data are missing at random (MAR).\n",
    "\n",
    "It is important to consider the potential consequences of using different methods to handle missing data in a repeated measures ANOVA. The choice of method can affect the validity and reliability of the results, and may lead to biased estimates of the effects of interest. It is recommended to perform sensitivity analyses using different methods to handle missing data and compare the results to assess the robustness of the findings."
   ]
  },
  {
   "cell_type": "markdown",
   "id": "56b33a94-126d-4fc3-86a8-05482e4cada2",
   "metadata": {},
   "source": [
    "Q8. What are some common post-hoc tests used after ANOVA, and when would you use each one? Provide\n",
    "an example of a situation where a post-hoc test might be necessary."
   ]
  },
  {
   "cell_type": "markdown",
   "id": "df31f1ad-b146-4ad3-84af-cc5a9762dc2c",
   "metadata": {},
   "source": [
    "Post-hoc tests are used after ANOVA to determine which specific groups differ significantly from each other. There are several common post-hoc tests, including Tukey's Honestly Significant Difference (HSD), Bonferroni correction, Scheffe's test, and Dunnett's test.\n",
    "\n",
    "Tukey's HSD is the most commonly used post-hoc test and is used to compare all possible pairs of groups. It is often used when the sample sizes are equal and the variances are homogeneous. Bonferroni correction is used to adjust the p-values in situations where multiple comparisons are made, while Scheffe's test is used when the sample sizes are unequal and the variances are unknown. Dunnett's test is used when comparing several groups to a control group.\n",
    "\n",
    "For example, suppose we conduct an ANOVA to compare the mean scores of three different treatments in a study, and the ANOVA reveals a significant difference between the groups. To determine which specific groups differ significantly from each other, we would conduct a post-hoc test, such as Tukey's HSD."
   ]
  },
  {
   "cell_type": "markdown",
   "id": "2bbdcdbc-e9cc-44fa-876a-280a81372318",
   "metadata": {},
   "source": [
    "Q9. A researcher wants to compare the mean weight loss of three diets: A, B, and C. They collect data from\n",
    "50 participants who were randomly assigned to one of the diets. Conduct a one-way ANOVA using Python\n",
    "to determine if there are any significant differences between the mean weight loss of the three diets.\n",
    "Report the F-statistic and p-value, and interpret the results."
   ]
  },
  {
   "cell_type": "code",
   "execution_count": 6,
   "id": "ad48d1b9-ff05-4781-8bb4-6cd43a7e7345",
   "metadata": {},
   "outputs": [
    {
     "name": "stdout",
     "output_type": "stream",
     "text": [
      "F-statistic: 19.882776029827195\n",
      "p-value: 2.277776325318586e-08\n"
     ]
    }
   ],
   "source": [
    "import numpy as np\n",
    "from scipy.stats import f_oneway\n",
    "\n",
    "# generate some sample data\n",
    "np.random.seed(1)\n",
    "a = np.random.normal(5, 2, 50)  # diet A\n",
    "b = np.random.normal(6, 2, 50)  # diet B\n",
    "c = np.random.normal(7, 2, 50)  # diet C\n",
    "\n",
    "# conduct one-way ANOVA\n",
    "f_statistic, p_value = f_oneway(a, b, c)\n",
    "\n",
    "# print results\n",
    "print(\"F-statistic:\", f_statistic)\n",
    "print(\"p-value:\", p_value)\n"
   ]
  },
  {
   "cell_type": "markdown",
   "id": "a9281a45-ad9c-4dbe-abb1-a5171b3179b5",
   "metadata": {},
   "source": [
    "Q10. A company wants to know if there are any significant differences in the average time it takes to\n",
    "complete a task using three different software programs: Program A, Program B, and Program C. They\n",
    "randomly assign 30 employees to one of the programs and record the time it takes each employee to\n",
    "complete the task. Conduct a two-way ANOVA using Python to determine if there are any main effects or\n",
    "interaction effects between the software programs and employee experience level (novice vs.\n",
    "experienced). Report the F-statistics and p-values, and interpret the results."
   ]
  },
  {
   "cell_type": "code",
   "execution_count": null,
   "id": "51fc7473-a8aa-47ea-b0b7-efecbd23ede7",
   "metadata": {},
   "outputs": [],
   "source": [
    "import pandas as pd\n",
    "import statsmodels.api as sm\n",
    "from statsmodels.formula.api import ols\n",
    "\n",
    "# Load data\n",
    "data = pd.read_csv('data.csv')\n",
    "\n",
    "# Fit ANOVA model\n",
    "model = ols('time ~ program + experience + program:experience', data).fit()\n",
    "table = sm.stats.anova_lm(model, typ=2)\n",
    "\n",
    "# Print ANOVA table\n",
    "print(table)\n"
   ]
  },
  {
   "cell_type": "markdown",
   "id": "fa0d6120-ef90-4e2d-b90a-f7f3d6c400b6",
   "metadata": {},
   "source": [
    "Q11. An educational researcher is interested in whether a new teaching method improves student test\n",
    "scores. They randomly assign 100 students to either the control group (traditional teaching method) or the\n",
    "experimental group (new teaching method) and administer a test at the end of the semester. Conduct a\n",
    "two-sample t-test using Python to determine if there are any significant differences in test scores\n",
    "between the two groups. If the results are significant, follow up with a post-hoc test to determine which\n",
    "group(s) differ significantly from each other."
   ]
  },
  {
   "cell_type": "code",
   "execution_count": 8,
   "id": "ba68d9e3-6757-4cbc-9c91-479595295310",
   "metadata": {},
   "outputs": [
    {
     "name": "stdout",
     "output_type": "stream",
     "text": [
      "t-statistic: -5.452310122219958\n",
      "p-value: 3.2089722857808444e-06\n"
     ]
    }
   ],
   "source": [
    "from scipy.stats import ttest_ind\n",
    "\n",
    "control_scores = [70, 75, 68, 72, 74, 73, 69, 71, 76, 75, 71, 72, 70, 73, 68, 72, 74, 73, 69, 71]\n",
    "experimental_scores = [73, 77, 75, 71, 79, 76, 74, 78, 77, 80, 72, 76, 75, 73, 78, 76, 79, 77, 75, 78]\n",
    "\n",
    "t_stat, p_value = ttest_ind(control_scores, experimental_scores)\n",
    "\n",
    "print(\"t-statistic:\", t_stat)\n",
    "print(\"p-value:\", p_value)\n"
   ]
  },
  {
   "cell_type": "code",
   "execution_count": 9,
   "id": "abffa675-4abb-4449-88ab-f445fdf4dbd6",
   "metadata": {},
   "outputs": [
    {
     "name": "stdout",
     "output_type": "stream",
     "text": [
      "  Multiple Comparison of Means - Tukey HSD, FWER=0.05   \n",
      "========================================================\n",
      " group1    group2    meandiff p-adj lower  upper  reject\n",
      "--------------------------------------------------------\n",
      "Control Experimental     4.15   0.0 2.6091 5.6909   True\n",
      "--------------------------------------------------------\n"
     ]
    }
   ],
   "source": [
    "from statsmodels.stats.multicomp import pairwise_tukeyhsd\n",
    "\n",
    "all_scores = control_scores + experimental_scores\n",
    "group_labels = ['Control'] * len(control_scores) + ['Experimental'] * len(experimental_scores)\n",
    "\n",
    "tukey_results = pairwise_tukeyhsd(all_scores, group_labels, alpha=0.05)\n",
    "\n",
    "print(tukey_results)\n"
   ]
  },
  {
   "cell_type": "markdown",
   "id": "64a279ae-c4b2-495c-8a3a-0a5d2a1e8f54",
   "metadata": {},
   "source": [
    "Q12. A researcher wants to know if there are any significant differences in the average daily sales of three\n",
    "retail stores: Store A, Store B, and Store C. They randomly select 30 days and record the sales for each store\n",
    "on those days. Conduct a repeated measures ANOVA using Python to determine if there are any\n",
    "\n",
    "significant differences in sales between the three stores. If the results are significant, follow up with a post-\n",
    "hoc test to determine which store(s) differ significantly from each other."
   ]
  },
  {
   "cell_type": "code",
   "execution_count": null,
   "id": "fe98db72-5c50-4b65-918a-950813ebb1ff",
   "metadata": {},
   "outputs": [],
   "source": [
    "import pandas as pd\n",
    "import statsmodels.api as sm\n",
    "from statsmodels.formula.api import ols\n",
    "\n",
    "# create a dataframe with the sales data\n",
    "data = pd.read_csv('sales_data.csv')\n",
    "\n",
    "# reshape the data to long format\n",
    "data_long = pd.melt(data, id_vars=['Day'], var_name='Store', value_name='Sales')\n",
    "\n",
    "# fit a repeated measures ANOVA model\n",
    "rm = ols('Sales ~ Store + Day + Store:Day', data=data_long).fit()\n",
    "\n",
    "# print the ANOVA table\n",
    "sm.stats.anova_lm(rm, typ=2)\n"
   ]
  },
  {
   "cell_type": "code",
   "execution_count": null,
   "id": "87ea8d55-d6c4-48fe-b130-8144bfd8d5fc",
   "metadata": {},
   "outputs": [],
   "source": [
    "from statsmodels.stats.multicomp import MultiComparison\n",
    "\n",
    "# perform Tukey's HSD post-hoc test\n",
    "mc = MultiComparison(data_long['Sales'], data_long['Store'])\n",
    "tukey_result = mc.tukeyhsd()\n",
    "\n",
    "# print the post-hoc test results\n",
    "print(tukey_result)\n"
   ]
  }
 ],
 "metadata": {
  "kernelspec": {
   "display_name": "Python 3 (ipykernel)",
   "language": "python",
   "name": "python3"
  },
  "language_info": {
   "codemirror_mode": {
    "name": "ipython",
    "version": 3
   },
   "file_extension": ".py",
   "mimetype": "text/x-python",
   "name": "python",
   "nbconvert_exporter": "python",
   "pygments_lexer": "ipython3",
   "version": "3.10.8"
  }
 },
 "nbformat": 4,
 "nbformat_minor": 5
}
