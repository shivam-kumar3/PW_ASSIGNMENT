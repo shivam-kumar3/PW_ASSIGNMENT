{
 "cells": [
  {
   "cell_type": "raw",
   "id": "a610b9a5-93ef-4e60-ac29-47453d7b7dc7",
   "metadata": {},
   "source": [
    "Q1- Calculate the 95% confidence interval for a sample of data with a mean of 50 and a standard deviation\n",
    "of 5 using Python. Interpret the results."
   ]
  },
  {
   "cell_type": "code",
   "execution_count": 1,
   "id": "e7bd3dc2-5c22-4aec-88f1-969e6fee7795",
   "metadata": {},
   "outputs": [
    {
     "name": "stdout",
     "output_type": "stream",
     "text": [
      "95% Confidence Interval: (48.817797646158404, 50.82599262195304)\n"
     ]
    }
   ],
   "source": [
    "import numpy as np\n",
    "from scipy import stats\n",
    "\n",
    "# Sample data\n",
    "data = np.random.normal(50, 5, 100)\n",
    "\n",
    "# Calculate the sample mean and standard deviation\n",
    "mean = np.mean(data)\n",
    "std_dev = np.std(data, ddof=1)\n",
    "\n",
    "# Calculate the standard error\n",
    "std_error = std_dev / np.sqrt(len(data))\n",
    "\n",
    "# Calculate the margin of error\n",
    "margin_of_error = stats.t.ppf(0.975, len(data)-1) * std_error\n",
    "\n",
    "# Calculate the confidence interval\n",
    "lower_ci = mean - margin_of_error\n",
    "upper_ci = mean + margin_of_error\n",
    "\n",
    "print(\"95% Confidence Interval:\", (lower_ci, upper_ci))\n"
   ]
  },
  {
   "cell_type": "raw",
   "id": "8fc2f37c-fdcb-4af0-9347-f5d135f6fa4c",
   "metadata": {},
   "source": [
    "Q2. Conduct a chi-square goodness of fit test to determine if the distribution of colors of M&Ms in a bag\n",
    "matches the expected distribution of 20% blue, 20% orange, 20% green, 10% yellow, 10% red, and 20%\n",
    "brown. Use Python to perform the test with a significance level of 0.05."
   ]
  },
  {
   "cell_type": "code",
   "execution_count": 3,
   "id": "c57de322-223d-48c1-aa60-664c0c23c577",
   "metadata": {},
   "outputs": [
    {
     "name": "stdout",
     "output_type": "stream",
     "text": [
      "Fail to reject the null hypothesis.\n",
      "Chi-square statistic: 2.85\n",
      "P-value: 0.7230980669678346\n"
     ]
    }
   ],
   "source": [
    "import numpy as np\n",
    "from scipy import stats\n",
    "\n",
    "# Observed frequencies\n",
    "obs_freq = np.array([25, 18, 17, 11, 12, 17])  # blue, orange, green, yellow, red, brown\n",
    "\n",
    "# Expected frequencies (assuming a total count of 100)\n",
    "exp_freq = np.array([20, 20, 20, 10, 10, 20]) \n",
    "\n",
    "# Calculate the degrees of freedom\n",
    "df = len(obs_freq) - 1\n",
    "\n",
    "# Calculate the chi-square statistic and p-value\n",
    "chi2_stat, p_value = stats.chisquare(obs_freq, exp_freq)\n",
    "\n",
    "# Compare the p-value to the significance level\n",
    "alpha = 0.05\n",
    "if p_value < alpha:\n",
    "    print(\"Reject the null hypothesis.\")\n",
    "else:\n",
    "    print(\"Fail to reject the null hypothesis.\")\n",
    "\n",
    "print(\"Chi-square statistic:\", chi2_stat)\n",
    "print(\"P-value:\", p_value)\n"
   ]
  },
  {
   "cell_type": "raw",
   "id": "cdf1016d-d456-43e5-80a6-e2800ec416bd",
   "metadata": {},
   "source": [
    "Q3- Use Python to calculate the chi-square statistic and p-value for a contingency table with the following\n",
    "data:\n",
    "Outcome 1 20 15\n",
    "Outcome 2 10 25\n",
    "Outcome 3 15 20"
   ]
  },
  {
   "cell_type": "code",
   "execution_count": 5,
   "id": "6878076f-1ecf-486d-9237-eed7d9853ebe",
   "metadata": {},
   "outputs": [
    {
     "name": "stdout",
     "output_type": "stream",
     "text": [
      "Chi-square statistic: 5.833333333333334\n",
      "P-value: 0.05411376622282158\n"
     ]
    }
   ],
   "source": [
    "import numpy as np\n",
    "from scipy import stats\n",
    "\n",
    "# Create the contingency table\n",
    "contingency_table = np.array([[20, 15],\n",
    "                              [10, 25],\n",
    "                              [15, 20]])\n",
    "\n",
    "# Calculate the chi-square statistic and p-value\n",
    "chi2_stat, p_value, dof, expected_freq = stats.chi2_contingency(contingency_table)\n",
    "\n",
    "# Print the results\n",
    "print(\"Chi-square statistic:\", chi2_stat)\n",
    "print(\"P-value:\", p_value)\n"
   ]
  },
  {
   "cell_type": "raw",
   "id": "3964b47a-8f9f-416f-a3d2-7ea7d59be9aa",
   "metadata": {},
   "source": [
    "Q4. A study of the prevalence of smoking in a population of 500 individuals found that 60 individuals\n",
    "smoked. Use Python to calculate the 95% confidence interval for the true proportion of individuals in the\n",
    "population who smoke."
   ]
  },
  {
   "cell_type": "code",
   "execution_count": 6,
   "id": "385455c9-17b3-4ab1-b5b7-7a2c967fa466",
   "metadata": {},
   "outputs": [
    {
     "name": "stdout",
     "output_type": "stream",
     "text": [
      "Sample proportion of smokers: 0.12\n",
      "95% Confidence interval: (0.0915, 0.1485)\n"
     ]
    }
   ],
   "source": [
    "import numpy as np\n",
    "from scipy import stats\n",
    "\n",
    "# Sample size\n",
    "n = 500\n",
    "\n",
    "# Number of smokers in the sample\n",
    "x = 60\n",
    "\n",
    "# Sample proportion of smokers\n",
    "p = x/n\n",
    "\n",
    "# Calculate the standard error\n",
    "se = np.sqrt(p*(1-p)/n)\n",
    "\n",
    "# Calculate the 95% confidence interval\n",
    "z = stats.norm.ppf(0.975) # z-score for 95% confidence level\n",
    "lower_ci = p - z*se\n",
    "upper_ci = p + z*se\n",
    "\n",
    "# Print the results\n",
    "print(\"Sample proportion of smokers:\", p)\n",
    "print(\"95% Confidence interval: ({:.4f}, {:.4f})\".format(lower_ci, upper_ci))\n"
   ]
  },
  {
   "cell_type": "markdown",
   "id": "e586a089-b359-4ae3-910e-45dc13732863",
   "metadata": {},
   "source": [
    "Q5. Calculate the 90% confidence interval for a sample of data with a mean of 75 and a standard deviation\n",
    "of 12 using Python. Interpret the results."
   ]
  },
  {
   "cell_type": "code",
   "execution_count": 7,
   "id": "715ac473-f24d-4de1-b632-c9d95cff58ad",
   "metadata": {},
   "outputs": [
    {
     "name": "stdout",
     "output_type": "stream",
     "text": [
      "Sample mean: 75\n",
      "90% Confidence interval: (73.0075, 76.9925)\n"
     ]
    }
   ],
   "source": [
    "import numpy as np\n",
    "from scipy import stats\n",
    "\n",
    "# Sample mean\n",
    "x = 75\n",
    "\n",
    "# Sample standard deviation\n",
    "s = 12\n",
    "\n",
    "# Sample size\n",
    "n = 100\n",
    "\n",
    "# Calculate the standard error\n",
    "se = s / np.sqrt(n)\n",
    "\n",
    "# Calculate the 90% confidence interval\n",
    "t = stats.t.ppf(0.95, n-1) # t-score for 90% confidence level\n",
    "lower_ci = x - t*se\n",
    "upper_ci = x + t*se\n",
    "\n",
    "# Print the results\n",
    "print(\"Sample mean:\", x)\n",
    "print(\"90% Confidence interval: ({:.4f}, {:.4f})\".format(lower_ci, upper_ci))\n"
   ]
  },
  {
   "cell_type": "raw",
   "id": "fecb8e5f-ba2d-46a3-be11-a65f7421ecca",
   "metadata": {},
   "source": [
    "Q6. Use Python to plot the chi-square distribution with 10 degrees of freedom. Label the axes and shade the\n",
    "area corresponding to a chi-square statistic of 15."
   ]
  },
  {
   "cell_type": "code",
   "execution_count": 8,
   "id": "39997190-1697-403b-97cf-865de6237ef9",
   "metadata": {},
   "outputs": [
    {
     "data": {
      "image/png": "[encoded data removed]",
      "text/plain": [
       "<Figure size 640x480 with 1 Axes>"
      ]
     },
     "metadata": {},
     "output_type": "display_data"
    }
   ],
   "source": [
    "import numpy as np\n",
    "import matplotlib.pyplot as plt\n",
    "from scipy import stats\n",
    "\n",
    "# Set the degrees of freedom\n",
    "df = 10\n",
    "\n",
    "# Generate a range of x values for the chi-square distribution\n",
    "x = np.linspace(0, stats.chi2.ppf(0.999, df), 1000)\n",
    "\n",
    "# Create the plot\n",
    "fig, ax = plt.subplots()\n",
    "\n",
    "# Plot the chi-square distribution\n",
    "ax.plot(x, stats.chi2.pdf(x, df))\n",
    "\n",
    "# Shade the area corresponding to a chi-square statistic of 15\n",
    "x_fill = np.linspace(15, stats.chi2.ppf(0.999, df), 1000)\n",
    "ax.fill_between(x_fill, stats.chi2.pdf(x_fill, df), color='blue', alpha=0.3)\n",
    "\n",
    "# Add labels and a title\n",
    "ax.set_xlabel('Chi-square statistic')\n",
    "ax.set_ylabel('Probability density')\n",
    "ax.set_title('Chi-square distribution with 10 degrees of freedom')\n",
    "\n",
    "# Show the plot\n",
    "plt.show()\n"
   ]
  },
  {
   "cell_type": "markdown",
   "id": "08ed33bb-9427-4f07-929d-c442f68dd52d",
   "metadata": {},
   "source": [
    "Q7. A random sample of 1000 people was asked if they preferred Coke or Pepsi. Of the sample, 520\n",
    "preferred Coke. Calculate a 99% confidence interval for the true proportion of people in the population who\n",
    "prefer Coke."
   ]
  },
  {
   "cell_type": "code",
   "execution_count": 9,
   "id": "65606085-6b11-4cb5-9cd4-f7d1f534358a",
   "metadata": {},
   "outputs": [
    {
     "name": "stdout",
     "output_type": "stream",
     "text": [
      "99% Confidence Interval: (0.4793051576779699, 0.5606948423220302)\n"
     ]
    }
   ],
   "source": [
    "import statsmodels.stats.proportion as smp\n",
    "\n",
    "# Set the sample size and number of people who preferred Coke\n",
    "n = 1000\n",
    "x = 520\n",
    "\n",
    "# Calculate the sample proportion\n",
    "p_hat = x / n\n",
    "\n",
    "# Set the confidence level\n",
    "alpha = 0.01\n",
    "\n",
    "# Calculate the confidence interval\n",
    "lower, upper = smp.proportion_confint(x, n, alpha=alpha, method='normal')\n",
    "\n",
    "# Print the results\n",
    "print(f\"99% Confidence Interval: ({lower}, {upper})\")\n"
   ]
  },
  {
   "cell_type": "markdown",
   "id": "73569bee-082b-480a-a19c-04b13d859c0b",
   "metadata": {},
   "source": [
    "Q8. A researcher hypothesizes that a coin is biased towards tails. They flip the coin 100 times and observe\n",
    "45 tails. Conduct a chi-square goodness of fit test to determine if the observed frequencies match the\n",
    "expected frequencies of a fair coin. Use a significance level of 0.05."
   ]
  },
  {
   "cell_type": "code",
   "execution_count": 10,
   "id": "c0d58188-ba61-4bc4-8d49-3397809df2dd",
   "metadata": {},
   "outputs": [
    {
     "name": "stdout",
     "output_type": "stream",
     "text": [
      "Chi-square Statistic: 1.0\n",
      "P-value: 0.31731050786291115\n",
      "The result is not statistically significant at the 0.05 level\n"
     ]
    }
   ],
   "source": [
    "import numpy as np\n",
    "from scipy.stats import chisquare\n",
    "\n",
    "# Define the expected frequencies for a fair coin\n",
    "n = 100\n",
    "p = 0.5\n",
    "expected_freq = np.array([n*p, n*(1-p)])\n",
    "\n",
    "# Define the observed frequencies\n",
    "observed_freq = np.array([n-45, 45])\n",
    "\n",
    "# Calculate the chi-square statistic and p-value\n",
    "chi2_statistic, p_value = chisquare(observed_freq, f_exp=expected_freq)\n",
    "\n",
    "# Print the results\n",
    "print(f\"Chi-square Statistic: {chi2_statistic}\")\n",
    "print(f\"P-value: {p_value}\")\n",
    "\n",
    "# Check if the result is significant at the 0.05 level\n",
    "alpha = 0.05\n",
    "if p_value < alpha:\n",
    "    print(\"The result is statistically significant at the 0.05 level\")\n",
    "else:\n",
    "    print(\"The result is not statistically significant at the 0.05 level\")\n"
   ]
  },
  {
   "cell_type": "markdown",
   "id": "9683b0bc-24ee-448c-ada3-2e2a27bc0cde",
   "metadata": {},
   "source": [
    "Q11. A random sample of 30 people was selected from a population with an unknown mean and standard\n",
    "deviation. The sample mean was found to be 72 and the sample standard deviation was found to be 10.\n",
    "Conduct a hypothesis test to determine if the population mean is significantly different from 70. Use a\n",
    "significance level of 0.05."
   ]
  },
  {
   "cell_type": "code",
   "execution_count": 12,
   "id": "ea7696e0-776a-45d0-8856-550ecc961bbb",
   "metadata": {},
   "outputs": [
    {
     "name": "stdout",
     "output_type": "stream",
     "text": [
      "T-statistic: 1.0954451150103321\n",
      "P-value: 0.2823362372860698\n",
      "Fail to reject the null hypothesis. There is not enough evidence to conclude that the population mean is significantly different from 70.\n"
     ]
    }
   ],
   "source": [
    "import numpy as np\n",
    "from scipy.stats import t\n",
    "\n",
    "# Define the sample size, sample mean, and sample standard deviation\n",
    "n = 30\n",
    "sample_mean = 72\n",
    "sample_std = 10\n",
    "\n",
    "# Define the null hypothesis mean and significance level\n",
    "null_mean = 70\n",
    "alpha = 0.05\n",
    "\n",
    "# Calculate the t-statistic and degrees of freedom\n",
    "t_stat = (sample_mean - null_mean) / (sample_std / np.sqrt(n))\n",
    "dof = n - 1\n",
    "\n",
    "# Calculate the p-value\n",
    "p_value = (1 - t.cdf(abs(t_stat), dof)) * 2\n",
    "\n",
    "# Print the results\n",
    "print(f\"T-statistic: {t_stat}\")\n",
    "print(f\"P-value: {p_value}\")\n",
    "\n",
    "# Check if the result is significant at the 0.05 level\n",
    "if p_value < alpha:\n",
    "    print(\"Reject the null hypothesis. The population mean is significantly different from 70.\")\n",
    "else:\n",
    "    print(\"Fail to reject the null hypothesis. There is not enough evidence to conclude that the population mean is significantly different from 70.\")\n"
   ]
  },
  {
   "cell_type": "code",
   "execution_count": null,
   "id": "ab02a14f-30ad-48b0-913f-46f03513e7dc",
   "metadata": {},
   "outputs": [],
   "source": []
  }
 ],
 "metadata": {
  "kernelspec": {
   "display_name": "Python 3 (ipykernel)",
   "language": "python",
   "name": "python3"
  },
  "language_info": {
   "codemirror_mode": {
    "name": "ipython",
    "version": 3
   },
   "file_extension": ".py",
   "mimetype": "text/x-python",
   "name": "python",
   "nbconvert_exporter": "python",
   "pygments_lexer": "ipython3",
   "version": "3.10.8"
  }
 },
 "nbformat": 4,
 "nbformat_minor": 5
}
