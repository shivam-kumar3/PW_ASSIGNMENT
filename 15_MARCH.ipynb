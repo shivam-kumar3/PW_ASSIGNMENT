{
 "cells": [
  {
   "cell_type": "markdown",
   "id": "2fa497f4-40d1-41fb-9dc1-92012e557eae",
   "metadata": {},
   "source": [
    "Question 1 : Explain the following with example :\n",
    "1. Artififial Intelligence\n",
    "2. Machine Learning\n",
    "3. Deep Learning"
   ]
  },
  {
   "cell_type": "markdown",
   "id": "8b204cbe-2700-4517-9f9f-6825d0fb092a",
   "metadata": {},
   "source": [
    "ANS- Answer :\n",
    "1. Artificial Intelligence (AI): It is the branch of computer science that aims to create intelligent machines that can perform tasks that typically require human intelligence, such as visual perception, speech recognition, decision making, and language translation. AI can be classified into two types: weak AI and strong AI. Weak AI is designed to perform specific tasks, whereas strong AI is designed to have general intelligence like a human being. Examples of AI include virtual personal assistants like Siri, Alexa, and Google Assistant, self-driving cars, and facial recognition technology.\n",
    "2. Machine Learning (ML): It is a subset of AI that focuses on enabling machines to learn and improve from experience without being explicitly programmed. In other words, ML algorithms can automatically learn patterns and insights from data and make predictions or decisions based on that learning. There are three types of ML: supervised learning, unsupervised learning, and reinforcement learning. Supervised learning involves training the algorithm with labeled data, unsupervised learning involves finding patterns in unlabeled data, and reinforcement learning involves training the algorithm to make decisions based on rewards and punishments. Examples of ML include spam filters, recommendation systems, and fraud detection systems.\n",
    "3. Deep Learning (DL): It is a subset of ML that focuses on training artificial neural networks with many layers, which can learn and represent complex relationships between inputs and outputs. DL algorithms can be used for tasks such as image recognition, speech recognition, natural language processing, and autonomous driving. Deep neural networks are composed of multiple layers of interconnected nodes that transform input data and extract features at each layer. Examples of DL include Google's AlphaGo, which defeated the world champion at the board game Go, and self-driving cars developed by companies like Tesla and Waymo."
   ]
  },
  {
   "cell_type": "markdown",
   "id": "49c5e722-b8f7-4b64-baff-bb019e8cf7aa",
   "metadata": {},
   "source": [
    "Question 2: What is supervised learning? List some examples of supervised learning."
   ]
  },
  {
   "cell_type": "markdown",
   "id": "b4a9fccb-1ed4-40ad-858d-6e4638de86b5",
   "metadata": {},
   "source": [
    "Answer :\n",
    "Supervised machine learning is a type of machine learning where an algorithm learns from labeled data that is already categorized or classified. The algorithm learns to identify patterns and relationships between the input features (also known as independent variables or predictors) and the corresponding output (also known as dependent variable or response). The algorithm can then use this learning to predict the output for new input data that it has not seen before.\n",
    "Examples of supervised machine learning include:\n",
    "Predicting house prices based on factors such as size, location, number of bedrooms, and bathrooms.\n",
    "\n",
    "Forecasting the demand for a particular product based on historical sales data, time of year, and marketing campaigns.\n",
    "\n",
    "Estimating the time it will take to complete a task based on historical data of similar tasks and factors such as complexity and available resources.\n",
    "\n",
    "Predicting whether a loan applicant will default or not based on their credit score, income, and other factors.\n",
    "\n",
    "Diagnosing a medical condition based on symptoms, test results, and other patient information.\n",
    "\n",
    "Identifying whether an email is spam or not based on its content and other features."
   ]
  },
  {
   "cell_type": "markdown",
   "id": "7139dc9f-fa99-46f3-9f1b-ef8d78debfb0",
   "metadata": {},
   "source": [
    "Question 3 : What is unsupervised learning? List some examples of unsupervised learning."
   ]
  },
  {
   "cell_type": "markdown",
   "id": "bebc3ba4-8730-4fd5-ae66-4f7ae8006faa",
   "metadata": {},
   "source": [
    "Answer :\n",
    "Unsupervised machine learning is a type of machine learning where an algorithm learns from unlabeled data, without any specific guidance or labels from the user. The algorithm learns to identify patterns and relationships between the input data, and can then group or cluster the data based on these patterns. This can be useful for identifying hidden patterns or structures in the data, or for finding outliers or anomalies that may require further investigation.\n",
    "Examples of unsupervised machine learning include:\n",
    "Clustering: In this application, the algorithm groups similar data points together based on their similarity in terms of features or attributes. This can be used to identify patterns or clusters in data that may not be immediately apparent, such as customer segmentation based on purchasing behavior or fraud detection based on unusual behavior.\n",
    "\n",
    "Dimensionality Reduction: In this application, the algorithm reduces the dimensionality of the input data by identifying the most important features or variables. This can be useful for visualizing high-dimensional data or for speeding up the training of machine learning models.\n",
    "\n",
    "Anomaly detection: In this application, the algorithm identifies data points that are significantly different from the rest of the data, such as fraudulent transactions or manufacturing defects.\n",
    "\n",
    "Association rule mining: In this application, the algorithm identifies patterns and relationships between different variables or features, such as items frequently purchased together in a retail store or words frequently used together in a document.\n",
    "\n",
    "Neural Network Unsupervised Learning: In this application, the algorithm uses neural networks to learn from the unlabeled data by training the network to find patterns in the data. Examples of this include autoencoders, which are neural networks designed to compress data into a lower-dimensional representation and then reconstruct it, and generative adversarial networks (GANs), which are neural networks that learn to generate new data that is similar to the training data."
   ]
  },
  {
   "cell_type": "markdown",
   "id": "ff0d3671-b525-4976-ab6c-696994c6bac7",
   "metadata": {},
   "source": [
    "Question 4 : What is difference between AI , ML, DL and DS?"
   ]
  },
  {
   "cell_type": "markdown",
   "id": "d54f317b-6449-420b-a406-0c16268b17b7",
   "metadata": {},
   "source": [
    "AI (Artificial Intelligence):\n",
    "Artificial Intelligence refers to the simulation of human intelligence in machines that are programmed to think and act like humans. It encompasses a wide range of techniques and technologies aimed at enabling computers to perform tasks that typically require human intelligence, such as problem-solving, learning, perception, and natural language understanding. AI can be both narrow or weak (focused on specific tasks) and general or strong (capable of general problem-solving). AI has various applications across industries, including virtual assistants, recommendation systems, autonomous vehicles, and more.\n",
    "\n",
    "ML (Machine Learning):\n",
    "Machine Learning is a subset of AI that focuses on developing algorithms and statistical models that enable computers to learn from and make predictions or decisions based on data without being explicitly programmed. In ML, computers improve their performance on a specific task through experience, exposure to data, and iterative learning. The three main types of machine learning are supervised learning (learning from labeled data), unsupervised learning (learning patterns from unlabeled data), and reinforcement learning (learning from feedback and rewards). ML has been widely used in applications like image recognition, natural language processing, fraud detection, and medical diagnosis.\n",
    "\n",
    "DL (Deep Learning):\n",
    "Deep Learning is a specific subfield of Machine Learning that uses artificial neural networks to model and process complex patterns and representations in data. These neural networks consist of multiple layers of interconnected nodes (neurons) that mimic the human brain's structure. Deep Learning algorithms excel at feature extraction and can automatically learn hierarchical patterns from vast amounts of data, making them particularly suitable for tasks like image recognition, speech recognition, natural language processing, and more. Deep Learning has achieved groundbreaking results in various AI applications, including autonomous vehicles, facial recognition, and language translation.\n",
    "\n",
    "DS (Data Science):\n",
    "Data Science is an interdisciplinary field that involves using scientific methods, algorithms, processes, and systems to extract knowledge and insights from structured and unstructured data. It combines techniques from statistics, mathematics, machine learning, computer science, and domain expertise to analyze, interpret, and present data in a meaningful way. Data Scientists use a combination of data cleaning, data analysis, data visualization, and predictive modeling to derive actionable insights and support decision-making processes across various domains. Data Science plays a crucial role in AI, ML, and DL by providing the necessary data, preparing it for analysis, and interpreting the results of machine learning and deep learning models.\n",
    "\n",
    "In summary, AI is the broader concept of machines exhibiting human-like intelligence, ML is a subset of AI focused on learning from data, DL is a subset of ML using artificial neural networks for complex tasks, and DS is an interdisciplinary field focused on extracting insights and knowledge from data. These terms often overlap and work together to advance the capabilities of technology and artificial intelligence."
   ]
  },
  {
   "cell_type": "markdown",
   "id": "07836d94-d09d-49a3-a3ac-d5c97cfd29a5",
   "metadata": {},
   "source": [
    "Question 5 : What are main differences between supervised, unsupervised and semi-supervised learning?"
   ]
  },
  {
   "cell_type": "markdown",
   "id": "88a10da5-f5fe-496c-bb3b-9909deafed39",
   "metadata": {},
   "source": [
    "Answer :\n",
    "Supervised, unsupervised, and semi-supervised learning are three main types of machine learning. Here are the key differences between them:\n",
    "Supervised learning: Supervised learning is a type of machine learning in which an algorithm learns from labeled data. The input data is labeled with the correct output, and the algorithm learns to map the input to the output. The goal of supervised learning is to build a model that can accurately predict the output for new, unseen data. Examples of supervised learning include classification and regression problems.\n",
    "\n",
    "Unsupervised learning: Unsupervised learning is a type of machine learning in which the algorithm learns from unlabeled data. The goal of unsupervised learning is to identify patterns in the data without any prior knowledge of what those patterns might be. The algorithm tries to find the underlying structure or distribution of the data. Examples of unsupervised learning include clustering, dimensionality reduction, and anomaly detection.\n",
    "\n",
    "Semi-supervised learning: Semi-supervised learning is a type of machine learning that combines both labeled and unlabeled data. The algorithm learns from the labeled data and tries to generalize to the unlabeled data. The goal of semi-supervised learning is to improve the accuracy of the model by using the unlabeled data. Semi-supervised learning can be useful when there is a large amount of unlabeled data available, but labeling the data is expensive or time-consuming."
   ]
  },
  {
   "cell_type": "markdown",
   "id": "ea500c1e-a410-45f2-ac08-b8e2ce2dca18",
   "metadata": {},
   "source": [
    "Question 6 : What is train, test and validation split? Explain Importance of each term."
   ]
  },
  {
   "cell_type": "markdown",
   "id": "63eb389a-08dd-4e2d-930d-cd352eb04af4",
   "metadata": {},
   "source": [
    "Answer :\n",
    "1. Training Set : The training set is the dataset that we employ to train our model. It is this dataset that our model uses to learn any underlying patterns or relationships that will enable making predictions later on.\n",
    "The training set should be as representative as possible of the population that we are trying to model. Additionally, we need to be careful and ensure that it is as unbiased as possible, as any bias at this stage may be propagated downstream during inference.\n",
    "2. Validation Set : it acts as an independent, unbiased dataset for comparing the performance of different algorithms trained on our training set.\n",
    "\n",
    "3.Test Set: Once we have used the validation set to determine the algorithm and parameter choices that we would like to use in production, the test set is used to approximate the models's true performance in the wild. It is the final step in evaluating our model's performance on unseen data."
   ]
  },
  {
   "cell_type": "markdown",
   "id": "be2383dd-6fbb-4123-bd1a-5f7fe1ebe70a",
   "metadata": {},
   "source": [
    "Question 7 : How can unsupervised machine learning be used in anomaly detection ?"
   ]
  },
  {
   "cell_type": "markdown",
   "id": "8871af55-72d8-4649-9a59-62b9cc61c38f",
   "metadata": {},
   "source": [
    "Answer :\n",
    "Unsupervised machine learning can be used in anomaly detection by leveraging the fact that anomalies are rare and unusual events that deviate significantly from the normal behavior of a system. Here are some common techniques used for anomaly detection using unsupervised machine learning:\n",
    "Clustering: Clustering algorithms such as k-means, DBSCAN, and hierarchical clustering can be used to group similar data points together. Anomalies can then be identified as data points that do not belong to any of the clusters or are in small, isolated clusters.\n",
    "\n",
    "Density-Based Outlier Detection: Density-based techniques such as Local Outlier Factor (LOF) and Isolation Forest can be used to identify outliers that have a low density compared to their neighbors.\n",
    "\n",
    "Dimensionality Reduction: Dimensionality reduction techniques such as Principal Component Analysis (PCA) and t-SNE can be used to reduce the high-dimensional data into a lower-dimensional space. Anomalies can then be identified as data points that are far from the bulk of the data in the reduced space.\n",
    "\n",
    "Autoencoders: Autoencoders are a type of neural network that can be used for unsupervised anomaly detection. The autoencoder learns to reconstruct the input data, and anomalies can be identified as data points that are poorly reconstructed.\n",
    "\n",
    "Overall, unsupervised machine learning is a useful tool for anomaly detection because it can identify anomalies without requiring a labeled dataset. However, it's important to note that the success of the unsupervised approach depends heavily on the quality of the data and the choice of the algorithm.\n",
    "\n"
   ]
  },
  {
   "cell_type": "markdown",
   "id": "41590699-c3e8-41d2-a6ea-83897768920c",
   "metadata": {},
   "source": [
    "Question 8 : List down some commonly used supervised learning algorithms and unsupervised learning algorithms."
   ]
  },
  {
   "cell_type": "markdown",
   "id": "4e91db3e-bbee-4b3a-ac10-316d4abbf7ce",
   "metadata": {},
   "source": [
    "Here are some commonly used supervised learning algorithms and unsupervised learning algorithms:\n",
    "\n",
    "Supervised Learning Algorithms:\n",
    "\n",
    "Linear Regression: A simple algorithm for regression tasks, where the goal is to predict a continuous value based on input features.\n",
    "\n",
    "Logistic Regression: Used for binary classification tasks, where the goal is to predict one of two possible classes.\n",
    "\n",
    "Decision Trees: Builds a tree-like model for classification or regression tasks by recursively splitting the data based on feature values.\n",
    "\n",
    "Random Forest: An ensemble method that combines multiple decision trees to improve performance and reduce overfitting.\n",
    "\n",
    "Support Vector Machines (SVM): Used for both classification and regression tasks, SVM finds a hyperplane that best separates data points belonging to different classes.\n",
    "\n",
    "k-Nearest Neighbors (k-NN): A simple classification algorithm that assigns a label to an input data point based on the majority class of its k nearest neighbors.\n",
    "\n",
    "Naive Bayes: Based on Bayes' theorem, Naive Bayes is commonly used for text classification and other probabilistic classification tasks.\n",
    "\n",
    "Gradient Boosting: Another ensemble method that combines weak learners (usually decision trees) to create a strong predictive model.\n",
    "\n",
    "\n",
    "Unsupervised Learning Algorithms:\n",
    "\n",
    "K-Means: A clustering algorithm that partitions data into k clusters based on similarity, where k is a user-defined parameter.\n",
    "\n",
    "Hierarchical Clustering: Builds a hierarchy of clusters by iteratively merging or splitting them based on similarity.\n",
    "\n",
    "Principal Component Analysis (PCA): Used for dimensionality reduction, PCA transforms high-dimensional data into a lower-dimensional space while preserving its most important \n",
    "features.\n",
    "\n",
    "t-Distributed Stochastic Neighbor Embedding (t-SNE): A technique for visualizing high-dimensional data by representing each data point in a 2D or 3D space while preserving its pairwise similarities.\n",
    "\n",
    "Gaussian Mixture Model (GMM): A probabilistic model that represents data as a mixture of several Gaussian distributions, often used for density estimation and clustering.\n",
    "\n",
    "Autoencoders: A type of neural network used for unsupervised learning that aims to reconstruct input data, typically used for feature learning and dimensionality reduction.\n",
    "\n",
    "DBSCAN (Density-Based Spatial Clustering of Applications with Noise): A density-based clustering algorithm that can find clusters of varying shapes and sizes in data.\n",
    "\n",
    "Apriori: Used for association rule mining, Apriori finds frequent itemsets in transactional databases and derives rules based on them."
   ]
  },
  {
   "cell_type": "code",
   "execution_count": null,
   "id": "1dec32af-dd0e-441d-bd6a-476af9c49a6f",
   "metadata": {},
   "outputs": [],
   "source": []
  }
 ],
 "metadata": {
  "kernelspec": {
   "display_name": "Python 3 (ipykernel)",
   "language": "python",
   "name": "python3"
  },
  "language_info": {
   "codemirror_mode": {
    "name": "ipython",
    "version": 3
   },
   "file_extension": ".py",
   "mimetype": "text/x-python",
   "name": "python",
   "nbconvert_exporter": "python",
   "pygments_lexer": "ipython3",
   "version": "3.10.8"
  }
 },
 "nbformat": 4,
 "nbformat_minor": 5
}
