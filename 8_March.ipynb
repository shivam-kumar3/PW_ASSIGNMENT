{
 "cells": [
  {
   "cell_type": "markdown",
   "id": "f7aed729-d0bc-4d36-b97d-7815485d8a4d",
   "metadata": {},
   "source": [
    "Q1- What is the Probability density function?"
   ]
  },
  {
   "cell_type": "markdown",
   "id": "b80c593b-2d03-4f0e-b3d1-6df0c90aaa7d",
   "metadata": {},
   "source": [
    "The probability density function (PDF) is a mathematical function used to describe the probability distribution of a continuous random variable. It is a function that can be integrated to obtain the probability of a random variable falling within a particular range of values."
   ]
  },
  {
   "cell_type": "markdown",
   "id": "61d6ab1d-5d6b-4267-a1fd-0a3277118e14",
   "metadata": {},
   "source": [
    "Q2. What are the types of Probability distribution?"
   ]
  },
  {
   "cell_type": "markdown",
   "id": "a5fed42e-0ef4-4a16-9300-b7adb8581155",
   "metadata": {},
   "source": [
    "There are several types of probability distributions, but the most commonly used ones are:\n",
    "\n",
    "Bernoulli distribution: A Bernoulli distribution is a discrete probability distribution that represents the probability of success or failure of a single experiment. It has two possible outcomes, and it is used to model situations such as coin tosses and yes/no questions.\n",
    "\n",
    "Binomial distribution: A binomial distribution is a discrete probability distribution that represents the probability of a certain number of successes in a fixed number of independent trials. It is used to model situations such as the number of heads in a certain number of coin tosses or the number of defective products in a batch.\n",
    "\n",
    "Poisson distribution: A Poisson distribution is a discrete probability distribution that represents the probability of a certain number of events occurring in a fixed interval of time or space. It is used to model situations such as the number of phone calls received in a day or the number of customers arriving at a store in an hour.\n",
    "\n",
    "Normal distribution: A normal distribution is a continuous probability distribution that is symmetrical and bell-shaped. It is used to model situations where the data is distributed evenly around the mean, such as height, weight, and IQ scores.\n",
    "\n",
    "Exponential distribution: An exponential distribution is a continuous probability distribution that represents the probability of the time between two events occurring. It is used to model situations such as the time between phone calls or the time between customers arriving at a store."
   ]
  },
  {
   "cell_type": "markdown",
   "id": "f058177d-c2dc-44e1-804e-d31265d50aa6",
   "metadata": {},
   "source": [
    "Q3. Write a Python function to calculate the probability density function of a normal distribution with\n",
    "given mean and standard deviation at a given point."
   ]
  },
  {
   "cell_type": "code",
   "execution_count": 1,
   "id": "4d08b53e-9671-4f87-920d-6b8ef144b878",
   "metadata": {},
   "outputs": [],
   "source": [
    "import math\n",
    "\n",
    "def normal_pdf(x, mu, sigma):\n",
    "    \"\"\"\n",
    "    Calculates the probability density function of a normal distribution with mean mu and standard deviation sigma\n",
    "    at the given point x.\n",
    "    \"\"\"\n",
    "    coefficient = 1 / (sigma * math.sqrt(2 * math.pi))\n",
    "    exponent = -1/2 * ((x - mu) / sigma) ** 2\n",
    "    return coefficient * math.exp(exponent)\n"
   ]
  },
  {
   "cell_type": "code",
   "execution_count": 3,
   "id": "a4a3ae03-4f4a-42fc-8fa1-c48a331c7439",
   "metadata": {},
   "outputs": [
    {
     "data": {
      "text/plain": [
       "0.3989422804014327"
      ]
     },
     "execution_count": 3,
     "metadata": {},
     "output_type": "execute_result"
    }
   ],
   "source": [
    "normal_pdf(0, 0, 1)\n",
    "\n"
   ]
  },
  {
   "cell_type": "markdown",
   "id": "ec2b0811-9461-4012-b770-5be9ceca9631",
   "metadata": {},
   "source": [
    "Q4. What are the properties of Binomial distribution? Give two examples of events where binomial\n",
    "distribution can be applied."
   ]
  },
  {
   "cell_type": "markdown",
   "id": "e6565008-2971-4f21-8ca5-eade98ba6010",
   "metadata": {},
   "source": [
    "ANS= Binomial distribution is a discrete probability distribution that describes the number of successes in a fixed number of independent trials, each with the same probability of success. The properties of the binomial distribution are:\n",
    "\n",
    "The trials are independent\n",
    "Each trial has only two possible outcomes, success or failure\n",
    "The probability of success (p) is constant for each trial\n",
    "The number of trials (n) is fixed\n",
    "Examples of events where binomial distribution can be applied are:\n",
    "\n",
    "Flipping a coin: When we flip a coin, there are only two possible outcomes, heads or tails. If we flip the coin n times, the number of times it comes up heads can be modeled by a binomial distribution with p = 0.5 (assuming a fair coin).\n",
    "\n",
    "Manufacturing defects: In a manufacturing process, there may be a probability p of a defect occurring in each item produced. If n items are produced, the number of defective items can be modeled by a binomial distribution."
   ]
  },
  {
   "cell_type": "markdown",
   "id": "91fbd0bb-5281-441f-8874-9a93475f793c",
   "metadata": {},
   "source": [
    "Q5. Generate a random sample of size 1000 from a binomial distribution with probability of success 0.4\n",
    "and plot a histogram of the results using matplotlib."
   ]
  },
  {
   "cell_type": "code",
   "execution_count": 5,
   "id": "36c55ea3-daf3-4cfc-9aa2-d45d483b0869",
   "metadata": {},
   "outputs": [
    {
     "data": {
      "image/png": "[encoded data removed]",
      "text/plain": [
       "<Figure size 640x480 with 1 Axes>"
      ]
     },
     "metadata": {},
     "output_type": "display_data"
    }
   ],
   "source": [
    "import numpy as np\n",
    "import matplotlib.pyplot as plt\n",
    "\n",
    "# Generate a random sample of size 1000 from a binomial distribution with p=0.4\n",
    "sample = np.random.binomial(n=1, p=0.4, size=1000)\n",
    "\n",
    "# Plot a histogram of the sample\n",
    "plt.hist(sample, bins=10, edgecolor='black')\n",
    "plt.xlabel('Value')\n",
    "plt.ylabel('Frequency')\n",
    "plt.title('Binomial Distribution with p=0.4')\n",
    "plt.show()\n"
   ]
  },
  {
   "cell_type": "markdown",
   "id": "8d47194f-ef08-4acb-b2fe-285e0abbc5bc",
   "metadata": {},
   "source": [
    "Q6. Write a Python function to calculate the cumulative distribution function of a Poisson distribution\n",
    "with given mean at a given point.\n"
   ]
  },
  {
   "cell_type": "code",
   "execution_count": 6,
   "id": "86e40a84-0f03-4ce0-a420-a7e8c2a37229",
   "metadata": {},
   "outputs": [],
   "source": [
    "import math\n",
    "\n",
    "def poisson_cdf(mu, x):\n",
    "    cdf = 0.0\n",
    "    for i in range(x + 1):\n",
    "        cdf += (math.exp(-mu) * (mu ** i)) / math.factorial(i)\n",
    "    return cdf\n"
   ]
  },
  {
   "cell_type": "code",
   "execution_count": 7,
   "id": "4da8382f-d3d0-4ecb-9ae1-8fd088c19fd9",
   "metadata": {},
   "outputs": [
    {
     "data": {
      "text/plain": [
       "0.8571234604985472"
      ]
     },
     "execution_count": 7,
     "metadata": {},
     "output_type": "execute_result"
    }
   ],
   "source": [
    "poisson_cdf(2, 3)"
   ]
  },
  {
   "cell_type": "markdown",
   "id": "71c852a2-dd9d-4727-a2bc-3ba5212d4c8c",
   "metadata": {},
   "source": [
    "Q7. How Binomial distribution different from Poisson distribution?"
   ]
  },
  {
   "cell_type": "markdown",
   "id": "f0688f48-b14b-4390-b7cd-0867934a6d2f",
   "metadata": {},
   "source": [
    "Binomial and Poisson distributions are both probability distributions, but they are used to model different types of events.\n",
    "\n",
    "Binomial distribution is used to model a fixed number of independent trials with two possible outcomes, such as success or failure, where the probability of success remains constant throughout the trials. The binomial distribution is characterized by two parameters: the number of trials (n) and the probability of success in each trial (p).\n",
    "\n",
    "On the other hand, Poisson distribution is used to model the number of occurrences of rare events in a fixed interval of time or space, where the events occur independently of each other and the average rate of occurrence is constant over the interval. The Poisson distribution is characterized by a single parameter, which is the average rate of occurrence (λ).\n",
    "\n",
    "In summary, while both distributions are used to model events with a discrete outcome, the binomial distribution is used for events with a fixed number of trials and a constant probability of success, while the Poisson distribution is used for events with a variable number of occurrences over a fixed interval with a constant average rate of occurrence."
   ]
  },
  {
   "cell_type": "markdown",
   "id": "db468800-9a93-41a5-9136-3bb576fc1b49",
   "metadata": {},
   "source": [
    "Q8. Generate a random sample of size 1000 from a Poisson distribution with mean 5 and calculate the\n",
    "sample mean and variance."
   ]
  },
  {
   "cell_type": "code",
   "execution_count": 8,
   "id": "0546a4bb-1106-459d-91fa-05e38a1a01b9",
   "metadata": {},
   "outputs": [
    {
     "name": "stdout",
     "output_type": "stream",
     "text": [
      "Sample Mean: 4.917\n",
      "Sample Variance: 4.634111\n"
     ]
    }
   ],
   "source": [
    "import numpy as np\n",
    "\n",
    "# Generate a random sample of size 1000 from a Poisson distribution with mean 5\n",
    "sample = np.random.poisson(lam=5, size=1000)\n",
    "\n",
    "# Calculate the sample mean\n",
    "sample_mean = np.mean(sample)\n",
    "\n",
    "# Calculate the sample variance\n",
    "sample_var = np.var(sample)\n",
    "\n",
    "print(\"Sample Mean:\", sample_mean)\n",
    "print(\"Sample Variance:\", sample_var)\n"
   ]
  },
  {
   "cell_type": "markdown",
   "id": "5e460e23-819a-4ecc-b2db-b90d9878a190",
   "metadata": {},
   "source": [
    "Q9. How mean and variance are related in Binomial distribution and Poisson distribution?"
   ]
  },
  {
   "cell_type": "markdown",
   "id": "7ce1af1d-ee8c-4765-8db0-75148c9085ae",
   "metadata": {},
   "source": [
    "ANS- In Binomial distribution, the mean is equal to np, where n is the number of trials and p is the probability of success in each trial. The variance is equal to np(1-p).\n",
    "\n",
    "In Poisson distribution, the mean is equal to λ, where λ is the rate parameter. The variance is also equal to λ.\n",
    "\n",
    "Therefore, in both Binomial and Poisson distributions, the variance is equal to the mean. This property is known as \"equal mean and variance\" or \"constant variance\"."
   ]
  },
  {
   "cell_type": "markdown",
   "id": "6e9a95cc-f583-468c-9b8b-c7783c1e7ddf",
   "metadata": {},
   "source": [
    "Q10. In normal distribution with respect to mean position, where does the least frequent data appear?"
   ]
  },
  {
   "cell_type": "markdown",
   "id": "24979bea-3e0d-48e0-83dc-24761570cfda",
   "metadata": {},
   "source": [
    "In a normal distribution, the least frequent data appears in the tails, which are the extreme ends of the distribution. Specifically, the data that falls more than 2 standard deviations away from the mean (in either direction) is considered to be in the tails, and this data is relatively infrequent. The bulk of the data, which is more frequent, appears closer to the mean."
   ]
  },
  {
   "cell_type": "code",
   "execution_count": null,
   "id": "1c00b141-66e7-4ec1-ab83-087b1b911083",
   "metadata": {},
   "outputs": [],
   "source": []
  }
 ],
 "metadata": {
  "kernelspec": {
   "display_name": "Python 3 (ipykernel)",
   "language": "python",
   "name": "python3"
  },
  "language_info": {
   "codemirror_mode": {
    "name": "ipython",
    "version": 3
   },
   "file_extension": ".py",
   "mimetype": "text/x-python",
   "name": "python",
   "nbconvert_exporter": "python",
   "pygments_lexer": "ipython3",
   "version": "3.10.8"
  }
 },
 "nbformat": 4,
 "nbformat_minor": 5
}
