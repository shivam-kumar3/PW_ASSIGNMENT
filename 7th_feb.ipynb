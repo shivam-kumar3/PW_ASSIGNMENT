{
 "cells": [
  {
   "cell_type": "raw",
   "id": "43a2ee28-df0a-427d-ade7-ed41944d8cd5",
   "metadata": {},
   "source": [
    "Q1. You are writing code for a company. The requirement of the company is that you create a python function that will check whether the password entered by the user is correct or not. The function should take the password as input and return the string \"Valid Password\" if the entered password follows the below-given password guidelines else it should return \"Invalid Password\".\n",
    "\n",
    "Note:\n",
    "\n",
    "The Password should contain at least two uppercase letters and at least two lowercase letters.\n",
    "The Password should contain at least a number and three special characters.\n",
    "The length of the password should be 10 characters long"
   ]
  },
  {
   "cell_type": "code",
   "execution_count": 2,
   "id": "fc5ca0f3-0420-4e50-a1d7-d7d7fd7b94af",
   "metadata": {},
   "outputs": [
    {
     "name": "stdin",
     "output_type": "stream",
     "text": [
      "Create your new password :  Shivam@_@Shahi199963\n"
     ]
    },
    {
     "name": "stdout",
     "output_type": "stream",
     "text": [
      "Valid Password\n"
     ]
    }
   ],
   "source": [
    "password = input(\"Create your new password : \")\n",
    "# password = \"OZWQQca514!@#\"\n",
    "def pass_verify(check):\n",
    "    upper_case = lower_case = numbers = special_char = ''\n",
    "    for i in password:\n",
    "        if 64<ord(i)<91:upper_case += i\n",
    "        elif 96<ord(i)<123:lower_case += i\n",
    "        elif 48<ord(i)<58:numbers += i\n",
    "        elif 32<ord(i)<48 or 58<ord(i)<65 or 91<ord(i)<97 or ord(i)>122:special_char +=i\n",
    "        else:pass\n",
    "    if len(upper_case) >= 2 and len(lower_case) >= 2 and len(numbers) >= 1 and len(special_char) >=3 and len(password) >= 10:\n",
    "        print('Valid Password')\n",
    "    else:\n",
    "        print('Invalid Password')\n",
    "pass_verify(password)\n",
    "# len(password)"
   ]
  },
  {
   "cell_type": "raw",
   "id": "1810b9cc-bcbd-4e05-8c18-f28084d295d5",
   "metadata": {},
   "source": [
    "Q2. Solve the below-given questions using at least one of the following:\n",
    "\n",
    "Lambda function\n",
    "Filter function\n",
    "Map function\n",
    "List Comprehension\n",
    "Check if the string starts with a particular letter.\n",
    "Check if the string is numeric.\n",
    ".Sort a list of tuples having fruit names and their quantity. [ (\"mango\",99), (\"orange\",80), (\"grapes\", 1000)]\n",
    ".Find the squares of numbers from 1 to 10.\n",
    "Find the cube root of numbers from 1 to 10.\n",
    "Check if a given number is even.\n",
    "Filter odd numbers from the given list. [1,2,3,4,5,6,7,8,9,10]\n",
    "Sort a list of integers into positive and negative integers lists. [1,2,3,4,5,6,-1,-2,-3,-4,-5,0]"
   ]
  },
  {
   "cell_type": "code",
   "execution_count": 3,
   "id": "9c3fecaa-7f3f-46e0-b05d-4c3c0a5d0c40",
   "metadata": {},
   "outputs": [
    {
     "name": "stdin",
     "output_type": "stream",
     "text": [
      "Enter a word start form 'a' :  apple\n"
     ]
    },
    {
     "data": {
      "text/plain": [
       "True"
      ]
     },
     "execution_count": 3,
     "metadata": {},
     "output_type": "execute_result"
    }
   ],
   "source": [
    "# Check if the string starts with a particular letter.By using list comprehension\n",
    "string = input(\"Enter a word start form 'a' : \")\n",
    "# string = 'gthuid'\n",
    "obj = [True if string.startswith('a') else False for i in string]\n",
    "obj[0]"
   ]
  },
  {
   "cell_type": "code",
   "execution_count": 4,
   "id": "10cf4b1f-0a5b-4932-97c0-15a0860f9df0",
   "metadata": {},
   "outputs": [
    {
     "name": "stdin",
     "output_type": "stream",
     "text": [
      "Enter a word start form 'a' :  orange\n"
     ]
    },
    {
     "data": {
      "text/plain": [
       "False"
      ]
     },
     "execution_count": 4,
     "metadata": {},
     "output_type": "execute_result"
    }
   ],
   "source": [
    "# Check if the string starts with a particular letter. By using lambda function\n",
    "string = input(\"Enter a word start form 'a' : \")\n",
    "# string = 'gthuid'\n",
    "obj = lambda s : s.startswith('a')\n",
    "obj(string)"
   ]
  },
  {
   "cell_type": "code",
   "execution_count": 5,
   "id": "799d0f68-d72b-425a-9080-feed3eabbb9d",
   "metadata": {},
   "outputs": [
    {
     "name": "stdin",
     "output_type": "stream",
     "text": [
      "Enter a numeric key :  36\n"
     ]
    },
    {
     "data": {
      "text/plain": [
       "True"
      ]
     },
     "execution_count": 5,
     "metadata": {},
     "output_type": "execute_result"
    }
   ],
   "source": [
    "# Check if the string is numeric. By using list comprehension\n",
    "string = input(\"Enter a numeric key : \")\n",
    "# string = '34'\n",
    "obj = [True if string.isnumeric() else False for i in string]\n",
    "obj[0]"
   ]
  },
  {
   "cell_type": "code",
   "execution_count": 8,
   "id": "e32229d4-c768-4d65-9b06-58c13028d378",
   "metadata": {},
   "outputs": [
    {
     "data": {
      "text/plain": [
       "True"
      ]
     },
     "execution_count": 8,
     "metadata": {},
     "output_type": "execute_result"
    }
   ],
   "source": [
    "# Check if the string is numeric.By using lambda function\n",
    "# string = input(\"Enter a numeric key : \")\n",
    "string = '456'\n",
    "obj = lambda num : num.isnumeric()\n",
    "obj(string)"
   ]
  },
  {
   "cell_type": "code",
   "execution_count": 9,
   "id": "121bab6a-1cbf-410b-bd87-96572e894a7d",
   "metadata": {},
   "outputs": [
    {
     "name": "stdout",
     "output_type": "stream",
     "text": [
      "[('grapes', 1000), ('mango', 99), ('orange', 80)]\n"
     ]
    }
   ],
   "source": [
    "# .Sort a list of tuples having fruit names and their quantity. [ (\"mango\",99), (\"orange\",80), (\"grapes\", 1000)]\n",
    "List = [ (\"mango\",99), (\"orange\",80), (\"grapes\", 1000)]\n",
    "print(sorted(List))\n",
    "# print(sorted(List, reverse = True))"
   ]
  },
  {
   "cell_type": "code",
   "execution_count": 10,
   "id": "f8c269eb-740c-46e2-85f4-b37d44f5f0a3",
   "metadata": {},
   "outputs": [
    {
     "data": {
      "text/plain": [
       "[1, 4, 9, 16, 25, 36, 49, 64, 81, 100]"
      ]
     },
     "execution_count": 10,
     "metadata": {},
     "output_type": "execute_result"
    }
   ],
   "source": [
    "# .Find the squares of numbers from 1 to 10.\n",
    "square = [i*i for i in range(1,11)]\n",
    "list(square)"
   ]
  },
  {
   "cell_type": "code",
   "execution_count": 11,
   "id": "f0b5e3a6-a180-4116-b819-f4b1496945f2",
   "metadata": {},
   "outputs": [
    {
     "data": {
      "text/plain": [
       "[1, 8, 27, 64, 125, 216, 343, 512, 729, 1000]"
      ]
     },
     "execution_count": 11,
     "metadata": {},
     "output_type": "execute_result"
    }
   ],
   "source": [
    "# Find the cube root of numbers from 1 to 10.\n",
    "cube = [i**3 for i in range(1,11)]\n",
    "list(cube)"
   ]
  },
  {
   "cell_type": "code",
   "execution_count": 13,
   "id": "e97f6793-cc02-481f-9f56-ae8efe061363",
   "metadata": {},
   "outputs": [
    {
     "name": "stdin",
     "output_type": "stream",
     "text": [
      "Enter a number :  24\n"
     ]
    },
    {
     "data": {
      "text/plain": [
       "True"
      ]
     },
     "execution_count": 13,
     "metadata": {},
     "output_type": "execute_result"
    }
   ],
   "source": [
    "# Check if a given number is even.\n",
    "num = int(input('Enter a number : '))\n",
    "# num = 24\n",
    "even = lambda x : x%2 == 0 \n",
    "even(num)"
   ]
  },
  {
   "cell_type": "code",
   "execution_count": 14,
   "id": "bb1efb9c-cf7f-4f18-aed8-b204ec33d85a",
   "metadata": {},
   "outputs": [
    {
     "data": {
      "text/plain": [
       "<filter at 0x7f97f48d3850>"
      ]
     },
     "execution_count": 14,
     "metadata": {},
     "output_type": "execute_result"
    }
   ],
   "source": [
    "# Filter odd numbers from the given list. By using filter() function\n",
    "List = [1,2,3,4,5,6,7,8,9,10]\n",
    "odd_list = []\n",
    "def odd(a):\n",
    "    if a%2!=0:\n",
    "        odd_list.append(a)\n",
    "filter(odd,List)"
   ]
  },
  {
   "cell_type": "code",
   "execution_count": 15,
   "id": "7882b45d-9fa8-4e84-96c8-6d8066219e8a",
   "metadata": {},
   "outputs": [
    {
     "name": "stdout",
     "output_type": "stream",
     "text": [
      "[1, 3, 5, 7, 9]\n"
     ]
    }
   ],
   "source": [
    "list(filter(odd,List))\n",
    "print(odd_list)\n"
   ]
  },
  {
   "cell_type": "code",
   "execution_count": 16,
   "id": "65235198-e282-4d48-a191-d72c12077219",
   "metadata": {},
   "outputs": [
    {
     "data": {
      "text/plain": [
       "[1, 3, 5, 7, 9]"
      ]
     },
     "execution_count": 16,
     "metadata": {},
     "output_type": "execute_result"
    }
   ],
   "source": [
    "# Filter odd numbers from the given list. By using lambda function\n",
    "List = [1,2,3,4,5,6,7,8,9,10]\n",
    "List = [i for i in List if i%2 != 0]\n",
    "List"
   ]
  },
  {
   "cell_type": "code",
   "execution_count": 17,
   "id": "9f41b4a7-fe86-4173-b5df-20f0287777f7",
   "metadata": {},
   "outputs": [
    {
     "name": "stdout",
     "output_type": "stream",
     "text": [
      "Positive Integers List : [0, 1, 2, 3, 4, 5, 6]\n",
      "Negative Integers List : [-5, -4, -3, -2, -1]\n"
     ]
    }
   ],
   "source": [
    "# Sort a list of integers into positive and negative integers lists. [1,2,3,4,5,6,-1,-2,-3,-4,-5,0]\n",
    "List = [1,2,3,4,5,6,-1,-2,-3,-4,-5,0]\n",
    "List1 = [str(i) for i in List]\n",
    "sorted_list = sorted(List1, key=lambda x: int(x[0:]))\n",
    "List2 = [int(i) for i in sorted_list]\n",
    "print(f'Positive Integers List : {[i for i in List2 if i>=0]}')\n",
    "# print(f'Negative Integers List : {[i for i in List if i<0]}')\n",
    "print(f'Negative Integers List : {[i for i in List if i<0][::-1]}')"
   ]
  },
  {
   "cell_type": "code",
   "execution_count": null,
   "id": "8669ac45-4915-41fe-82c9-c3ac918091f9",
   "metadata": {},
   "outputs": [],
   "source": []
  },
  {
   "cell_type": "code",
   "execution_count": null,
   "id": "70440bd3-9fe2-4a78-ac5b-07a03c375fef",
   "metadata": {},
   "outputs": [],
   "source": []
  },
  {
   "cell_type": "code",
   "execution_count": null,
   "id": "1ffe361f-4594-4cc2-a10e-93324e22f04b",
   "metadata": {},
   "outputs": [],
   "source": []
  }
 ],
 "metadata": {
  "kernelspec": {
   "display_name": "Python 3 (ipykernel)",
   "language": "python",
   "name": "python3"
  },
  "language_info": {
   "codemirror_mode": {
    "name": "ipython",
    "version": 3
   },
   "file_extension": ".py",
   "mimetype": "text/x-python",
   "name": "python",
   "nbconvert_exporter": "python",
   "pygments_lexer": "ipython3",
   "version": "3.10.8"
  }
 },
 "nbformat": 4,
 "nbformat_minor": 5
}
