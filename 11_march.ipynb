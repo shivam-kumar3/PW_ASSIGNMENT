{
 "cells": [
  {
   "cell_type": "raw",
   "id": "d8c85a9a-70e6-4a26-b206-c91b6642116d",
   "metadata": {},
   "source": [
    "Q1-What is the difference between a t-test and a z-test? Provide an example scenario where you would\n",
    "use each type of test."
   ]
  },
  {
   "cell_type": "raw",
   "id": "78c39a27-1c81-48e3-883b-62efda83f987",
   "metadata": {},
   "source": [
    "ANS- Both t-tests and z-tests are statistical tests that help us make inferences about population parameters using sample data. However, they are used in different situations and have different requirements.\n",
    "\n",
    "A z-test is used when the population variance is known, and the sample size is large (typically, n > 30). A t-test, on the other hand, is used when the population variance is unknown, and the sample size is small (typically, n < 30). The t-test is a more flexible test that can be used in situations where the population variance is unknown and the sample size is small, but it requires more assumptions about the population distribution.\n",
    "\n",
    "An example scenario where you would use a z-test is if you were conducting a study to compare the heights of men and women in a particular population, and you knew the population variance. You would use a z-test to test the hypothesis that the mean height of men is different from the mean height of women.\n",
    "\n",
    "An example scenario where you would use a t-test is if you were conducting a study to compare the mean scores of two groups on a particular test, and you did not know the population variance. For example, you might want to test whether there is a difference in mean scores between two different teaching methods. In this case, you would use a t-test to test the hypothesis that the mean scores of the two groups are different."
   ]
  },
  {
   "cell_type": "raw",
   "id": "8815fb25-360c-450e-8b32-da3f8f0dc78e",
   "metadata": {},
   "source": [
    "Q2: Differentiate between one-tailed and two-tailed tests."
   ]
  },
  {
   "cell_type": "raw",
   "id": "e32749ae-cd6f-4654-a4b0-4d563c5c0965",
   "metadata": {},
   "source": [
    "ANS- One-tailed and two-tailed tests are two types of hypothesis tests used in statistics. The main difference between them is in the direction of the alternative hypothesis.\n",
    "\n",
    "A one-tailed test (also known as a directional test) is a hypothesis test in which the alternative hypothesis states the direction of the effect or relationship. In other words, it tests if the observed difference or association is greater than or less than a certain value in a specific direction. For example, a researcher might conduct a one-tailed test to determine whether a new drug increases the average lifespan of patients compared to the current treatment.\n",
    "\n",
    "A two-tailed test (also known as a non-directional test) is a hypothesis test in which the alternative hypothesis states that there is a difference or relationship between two variables, but it does not specify the direction. In other words, it tests if the observed difference or association is different from zero in any direction. For example, a researcher might conduct a two-tailed test to determine whether there is a difference in the average lifespan of patients receiving two different treatments."
   ]
  },
  {
   "cell_type": "raw",
   "id": "dc06818d-30a5-40c1-9322-5a7a754186cd",
   "metadata": {},
   "source": [
    "Q3: Explain the concept of Type 1 and Type 2 errors in hypothesis testing. Provide an example scenario for\n",
    "each type of error."
   ]
  },
  {
   "cell_type": "raw",
   "id": "16b33e12-156d-442f-b8b3-335b0859554a",
   "metadata": {},
   "source": [
    "ANS- Type 1 and Type 2 errors are two types of errors that can occur in hypothesis testing when making decisions about whether to reject or fail to reject the null hypothesis.\n",
    "\n",
    "Type 1 error is the error of rejecting a true null hypothesis. In other words, it occurs when the statistical test concludes that there is a significant difference or effect when there is actually no difference or effect in the population. This is also known as a false positive. The probability of making a Type 1 error is denoted by the symbol alpha (α) and is set by the researcher before conducting the test. A smaller alpha level means a lower probability of Type 1 error.\n",
    "\n",
    "An example of a Type 1 error is a researcher concluding that a new drug is effective at treating a disease when in fact it has no effect. This could lead to the drug being prescribed to patients, potentially causing harm or wasting resources.\n",
    "\n",
    "Type 2 error is the error of failing to reject a false null hypothesis. In other words, it occurs when the statistical test concludes that there is no significant difference or effect when there is actually a difference or effect in the population. This is also known as a false negative. The probability of making a Type 2 error is denoted by the symbol beta (β) and is influenced by factors such as sample size and effect size. A smaller beta level means a lower probability of Type 2 error."
   ]
  },
  {
   "cell_type": "raw",
   "id": "467abf3f-4556-4348-8d18-62e0a8c30d3f",
   "metadata": {},
   "source": [
    "Q4: Explain Bayes's theorem with an example."
   ]
  },
  {
   "cell_type": "raw",
   "id": "52b8a100-daaa-4db3-9258-1f338ffb8a2c",
   "metadata": {},
   "source": [
    "ANS- Bayes's theorem is a mathematical formula used to calculate the probability of an event, given some prior knowledge or evidence. It is named after Thomas Bayes, an 18th-century English statistician and theologian.\n",
    "\n",
    "The theorem states that the probability of an event A given event B can be calculated as follows:\n",
    "\n",
    "P(A|B) = P(B|A) * P(A) / P(B)\n",
    "\n",
    "where:\n",
    "\n",
    "P(A|B) is the probability of event A given event B.\n",
    "P(B|A) is the probability of event B given event A.\n",
    "P(A) is the prior probability of event A.\n",
    "P(B) is the prior probability of event B.\n",
    "To understand Bayes's theorem, let's consider an example.\n",
    "\n",
    "Suppose a company manufactures a certain type of light bulb, and the quality control department has determined that 5% of the bulbs are defective. A customer has purchased a pack of 10 bulbs and finds that 2 of them are defective. What is the probability that the next bulb they pick from the pack will also be defective?\n",
    "\n",
    "Using Bayes's theorem, we can calculate the probability as follows:\n",
    "\n",
    "Let event A be the event that the next bulb picked is defective.\n",
    "Let event B be the event that 2 bulbs in the pack of 10 are defective.\n",
    "We know that the prior probability of event A is 5%, or 0.05. We also know that the probability of event B given event A is the probability of picking 2 defective bulbs out of 10, given that the next bulb picked is defective, which is:\n",
    "\n",
    "P(B|A) = (1/9) * (8/9)^8 = 0.044\n",
    "\n",
    "The probability of event B can be calculated as follows:\n",
    "\n",
    "P(B) = P(A) * P(B|A) + P(not A) * P(B|not A)\n",
    "\n",
    "where P(not A) is the probability that the next bulb picked is not defective, which is 1 - P(A) = 0.95. The probability of picking 2 defective bulbs out of 10, given that the next bulb picked is not defective, is:\n",
    "\n",
    "P(B|not A) = (2/9) * (7/8) * (6/7) * (5/6) * (4/5) * (3/4) * (2/3) * (1/2) * (1/1) = 0.008\n",
    "\n",
    "Therefore:\n",
    "\n",
    "P(B) = 0.05 * 0.044 + 0.95 * 0.008 = 0.011\n",
    "\n",
    "Finally, we can use Bayes's theorem to calculate the probability of event A given event B:\n",
    "\n",
    "P(A|B) = P(B|A) * P(A) / P(B) = 0.044 * 0.05 / 0.011 = 0.2\n",
    "\n",
    "So the probability that the next bulb picked will be defective, given that 2 out of 10 bulbs are defective, is 20%."
   ]
  },
  {
   "cell_type": "raw",
   "id": "0f4812e4-db59-4dad-a69c-85eb5e093652",
   "metadata": {},
   "source": [
    "Q5- What is a confidence interval? How to calculate the confidence interval, explain with an example."
   ]
  },
  {
   "cell_type": "raw",
   "id": "b5219a0e-3579-4ef0-84c9-ce1f6c6b5ee6",
   "metadata": {},
   "source": [
    "ANS- A confidence interval is a range of values that is likely to contain the true population parameter with a specified level of confidence. It is calculated using the sample mean, standard deviation, and level of confidence. For example, a 95% confidence interval for a sample mean is the range of values within which we can be 95% confident that the true population mean lies.\n",
    "uppose we want to estimate the average height of students in a college population. We take a random sample of 50 students and measure their height. The sample mean height is 170 cm, and the sample standard deviation is 10 cm.\n",
    "\n",
    "To calculate a 95% confidence interval for the population mean height, we use the following formula:\n",
    "\n",
    "CI = x̄ ± zα/2 * σ/√n\n",
    "\n",
    "where:\n",
    "\n",
    "x̄ is the sample mean\n",
    "zα/2 is the critical value of the standard normal distribution for the desired level of confidence, which is 1.96 for 95% confidence\n",
    "σ is the population standard deviation, which we do not know, so we use the sample standard deviation as an estimate\n",
    "n is the sample size\n",
    "Substituting the values, we get:\n",
    "\n",
    "CI = 170 ± 1.96 * 10/√50 = (165.16, 174.84)\n",
    "\n",
    "Therefore, we can be 95% confident that the true average height of students in the college population lies between 165.16 cm and 174.84 cm."
   ]
  },
  {
   "cell_type": "raw",
   "id": "74cfe4d2-431a-4e63-84dc-f4c355c26d2f",
   "metadata": {},
   "source": [
    "Q6. Use Bayes' Theorem to calculate the probability of an event occurring given prior knowledge of the\n",
    "event's probability and new evidence. Provide a sample problem and solution."
   ]
  },
  {
   "cell_type": "raw",
   "id": "b419f298-e8ab-4656-abcc-26c34e545995",
   "metadata": {},
   "source": [
    "Q6. Use Bayes' Theorem to calculate the probability of an event occurring given prior knowledge of the\n",
    "event's probability and new evidence. Provide a sample problem and solution."
   ]
  },
  {
   "cell_type": "raw",
   "id": "1eb8f304-59a1-457b-9914-341470ebe857",
   "metadata": {},
   "source": [
    "ANS- a company produces two types of hard drives, A and B. The probability of a hard drive being type A is 0.6, while the probability of a hard drive being type B is 0.4. The probability of a hard drive being defective, given that it is type A, is 0.05, while the probability of a hard drive being defective, given that it is type B, is 0.1. If a randomly selected hard drive is defective, what is the probability that it is type A?\n",
    "\n",
    "Solution:\n",
    "\n",
    "Let D be the event that the hard drive is defective, and let A and B be the events that the hard drive is type A and type B, respectively. We want to calculate P(A|D), the probability that the hard drive is type A, given that it is defective.\n",
    "\n",
    "Using Bayes' Theorem, we have:\n",
    "\n",
    "P(A|D) = P(D|A) * P(A) / [P(D|A) * P(A) + P(D|B) * P(B)]\n",
    "\n",
    "Substituting the given probabilities, we get:\n",
    "\n",
    "P(A|D) = 0.05 * 0.6 / [0.05 * 0.6 + 0.1 * 0.4] = 0.333\n",
    "\n",
    "Therefore, the probability that the defective hard drive is type A is 0.333, or approximately 33.3%."
   ]
  },
  {
   "cell_type": "raw",
   "id": "73c2842a-f9ac-49eb-ab2a-34bf3716550b",
   "metadata": {},
   "source": [
    "Q7. Calculate the 95% confidence interval for a sample of data with a mean of 50 and a standard deviation\n",
    "of 5. Interpret the results."
   ]
  },
  {
   "cell_type": "raw",
   "id": "ae6197c2-12e5-41ff-b9d5-d22920b56c86",
   "metadata": {},
   "source": [
    "To calculate the 95% confidence interval for a sample of data with a mean of 50 and a standard deviation of 5, we need to use the following formula:\n",
    "\n",
    "CI = x̄ ± zα/2 * σ/√n\n",
    "\n",
    "where:\n",
    "\n",
    "x̄ is the sample mean (given as 50)\n",
    "zα/2 is the critical value of the standard normal distribution for the desired level of confidence, which is 1.96 for 95% confidence\n",
    "σ is the population standard deviation, which we do not know, so we use the sample standard deviation as an estimate (given as 5)\n",
    "n is the sample size (not given)\n",
    "Since the sample size is not given, we cannot calculate the standard error of the mean or the confidence interval. However, we can still interpret the results in general terms.\n",
    "\n",
    "A 95% confidence interval means that if we were to take many random samples from the population and calculate their means, approximately 95% of those means would fall within the calculated confidence interval. In other words, we can be 95% confident that the true population mean lies within the calculated interval.\n",
    "\n",
    "In this case, since we do not have a sample size, we cannot provide a specific confidence interval. However, we can say that if the sample size is sufficiently large and the population is normally distributed, a 95% confidence interval for the population mean would be approximately (48.02, 51.98) based on the given sample mean and standard deviation."
   ]
  },
  {
   "cell_type": "raw",
   "id": "f5f39d1a-2ab3-4b70-a494-ed1dd23e95f3",
   "metadata": {},
   "source": [
    "Q8. What is the margin of error in a confidence interval? How does sample size affect the margin of error?\n",
    "Provide an example of a scenario where a larger sample size would result in a smaller margin of error."
   ]
  },
  {
   "cell_type": "raw",
   "id": "9f6a0cce-be9a-4670-86d9-842a8c03dc86",
   "metadata": {},
   "source": [
    "The margin of error is the amount of error that we can tolerate in our estimate of a population parameter when constructing a confidence interval. It represents the range of values that the true population parameter is likely to fall within.\n",
    "\n",
    "The margin of error is affected by several factors, including the level of confidence, the sample size, and the population standard deviation (or the sample standard deviation if the population standard deviation is unknown).\n",
    "\n",
    "As the sample size increases, the margin of error decreases. This is because larger sample sizes provide more information about the population and reduce the effect of random sampling variability. Smaller sample sizes, on the other hand, provide less information and may result in wider confidence intervals and larger margins of error.\n",
    "\n",
    "Here's an example scenario where a larger sample size would result in a smaller margin of error:\n",
    "\n",
    "Suppose we want to estimate the proportion of voters who support a particular candidate in an upcoming election. We take a random sample of 1000 voters and find that 550 of them support the candidate. We want to construct a 95% confidence interval for the true proportion of supporters.\n",
    "\n",
    "Using the formula for the margin of error for a proportion, we get:\n",
    "\n",
    "Margin of error = zα/2 * sqrt[(p̂(1-p̂))/n]\n",
    "\n",
    "where:\n",
    "\n",
    "zα/2 is the critical value of the standard normal distribution for the desired level of confidence, which is 1.96 for 95% confidence\n",
    "p̂ is the sample proportion of supporters (550/1000 = 0.55)\n",
    "n is the sample size (1000)\n",
    "Substituting the values, we get:\n",
    "\n",
    "Margin of error = 1.96 * sqrt[(0.55 * 0.45)/1000] = 0.030\n",
    "\n",
    "Therefore, we can say with 95% confidence that the true proportion of supporters lies between 0.52 and 0.58 (i.e., 0.55 ± 0.03).\n",
    "\n",
    "Now, suppose we increase the sample size to 2000 while keeping the proportion of supporters the same. Using the same formula, we get:\n",
    "\n",
    "Margin of error = 1.96 * sqrt[(0.55 * 0.45)/2000] = 0.021\n",
    "\n",
    "Therefore, we can say with 95% confidence that the true proportion of supporters lies between 0.529 and 0.571 (i.e., 0.55 ± 0.021). The larger sample size has resulted in a smaller margin of error and a narrower confidence interval."
   ]
  },
  {
   "cell_type": "raw",
   "id": "2a1a0c29-55e1-4bcc-a899-17798b808e93",
   "metadata": {},
   "source": [
    "Q9. Calculate the z-score for a data point with a value of 75, a population mean of 70, and a population\n",
    "standard deviation of 5. Interpret the results."
   ]
  },
  {
   "cell_type": "raw",
   "id": "b0254039-3293-4774-848d-2f3f90db043c",
   "metadata": {},
   "source": [
    "ANS- The z-score, also known as the standard score, measures how many standard deviations a data point is from the population mean. It is calculated using the formula:\n",
    "\n",
    "z = (x - μ) / σ\n",
    "\n",
    "where:\n",
    "\n",
    "x is the data point value (given as 75)\n",
    "μ is the population mean (given as 70)\n",
    "σ is the population standard deviation (given as 5)\n",
    "Substituting the values, we get:\n",
    "\n",
    "z = (75 - 70) / 5 = 1\n",
    "\n",
    "Therefore, the z-score for the data point with a value of 75 is 1. This means that the data point is one standard deviation above the population mean.\n",
    "\n",
    "Interpreting the z-score, we can say that the value of 75 is higher than the population mean by a moderate amount, as it is only one standard deviation away from the mean. A positive z-score indicates that the data point is above the mean, while a negative z-score indicates that it is below the mean. Z-scores can be used to compare data points from different populations with different means and standard deviations, and can help us to standardize data for analysis and comparison.\n",
    "\n",
    "\n",
    "\n"
   ]
  },
  {
   "cell_type": "raw",
   "id": "6e124772-a901-400a-b098-2a9693066935",
   "metadata": {},
   "source": [
    "Q10. In a study of the effectiveness of a new weight loss drug, a sample of 50 participants lost an average\n",
    "of 6 pounds with a standard deviation of 2.5 pounds. Conduct a hypothesis test to determine if the drug is\n",
    "significantly effective at a 95% confidence level using a t-test."
   ]
  },
  {
   "cell_type": "raw",
   "id": "22d4e4fc-bc21-4be8-8499-5c0006d53a99",
   "metadata": {},
   "source": [
    "ANS-To conduct a hypothesis test to determine if the new weight loss drug is significantly effective at a 95% confidence level using a t-test, we need to formulate the null and alternative hypotheses, choose a level of significance, calculate the test statistic and p-value, and make a conclusion based on the results.\n",
    "\n",
    "The null hypothesis (H0) is that the mean weight loss of participants who took the new drug is not significantly different from zero (i.e., there is no effect of the drug on weight loss). The alternative hypothesis (Ha) is that the mean weight loss is significantly different from zero (i.e., there is an effect of the drug on weight loss).\n",
    "\n",
    "H0: μ = 0\n",
    "Ha: μ ≠ 0\n",
    "\n",
    "We will use a two-tailed t-test with a level of significance (α) of 0.05. Since the sample size is greater than 30, we can assume that the sampling distribution of the mean is approximately normal.\n",
    "\n",
    "The test statistic is calculated using the formula:\n",
    "\n",
    "t = (x̄ - μ) / (s / √n)\n",
    "\n",
    "where:\n",
    "\n",
    "x̄ is the sample mean (given as 6 pounds)\n",
    "μ is the hypothesized population mean (given as 0 pounds)\n",
    "s is the sample standard deviation (given as 2.5 pounds)\n",
    "n is the sample size (given as 50)\n",
    "Substituting the values, we get:\n",
    "\n",
    "t = (6 - 0) / (2.5 / √50) = 13.42\n",
    "\n",
    "The degrees of freedom (df) for the t-distribution is equal to n - 1, which is 49 in this case.\n",
    "\n",
    "Using a t-distribution table or calculator with df = 49 and a two-tailed test at α = 0.05, we find the critical values to be ±2.01.\n",
    "\n",
    "The p-value is the probability of obtaining a test statistic as extreme or more extreme than the one observed, assuming that the null hypothesis is true. In this case, the p-value is less than 0.0001 (i.e., very small), which means that there is strong evidence against the null hypothesis and in favor of the alternative hypothesis.\n",
    "\n",
    "Since the test statistic (13.42) is greater than the critical value (2.01), and the p-value is less than the level of significance (0.05), we reject the null hypothesis and conclude that the new weight loss drug is significantly effective at a 95% confidence level.\n",
    "\n",
    "In other words, we can say that there is strong evidence to support the claim that the new weight loss drug leads to a significant amount of weight loss, as the sample mean of 6 pounds is significantly different from zero and unlikely to have occurred by chance."
   ]
  },
  {
   "cell_type": "raw",
   "id": "202d80fa-8ced-47b5-ada8-55208e31393d",
   "metadata": {},
   "source": [
    "Q11. In a survey of 500 people, 65% reported being satisfied with their current job. Calculate the 95%\n",
    "confidence interval for the true proportion of people who are satisfied with their job."
   ]
  },
  {
   "cell_type": "raw",
   "id": "53ef2492-8969-4e3e-86d0-1a37b23d3cad",
   "metadata": {},
   "source": [
    "ANS- To calculate the 95% confidence interval for the true proportion of people who are satisfied with their job, we can use the formula:\n",
    "\n",
    "CI = p ± z√(p(1-p)/n)\n",
    "\n",
    "where:\n",
    "\n",
    "CI is the confidence interval\n",
    "p is the sample proportion (given as 0.65)\n",
    "z is the critical value from the standard normal distribution for a 95% confidence level, which is 1.96\n",
    "n is the sample size (given as 500)\n",
    "Substituting the values, we get:\n",
    "\n",
    "CI = 0.65 ± 1.96√(0.65(1-0.65)/500) ≈ (0.607, 0.693)\n",
    "\n",
    "Therefore, the 95% confidence interval for the true proportion of people who are satisfied with their job is approximately (0.607, 0.693). This means that we are 95% confident that the true proportion of people who are satisfied with their job falls within this interval."
   ]
  },
  {
   "cell_type": "raw",
   "id": "1b657bb9-e192-4f7a-b3b0-2cdeeebb9c0d",
   "metadata": {},
   "source": [
    "Q12. A researcher is testing the effectiveness of two different teaching methods on student performance.\n",
    "Sample A has a mean score of 85 with a standard deviation of 6, while sample B has a mean score of 82\n",
    "with a standard deviation of 5. Conduct a hypothesis test to determine if the two teaching methods have a\n",
    "significant difference in student performance using a t-test with a significance level of 0.01."
   ]
  },
  {
   "cell_type": "raw",
   "id": "4e71935e-b54e-4352-8a9d-4d7e9f6408bd",
   "metadata": {},
   "source": [
    "ANS- To determine if the two teaching methods have a significant difference in student performance, we can use a two-sample t-test with a significance level of 0.01. The null hypothesis is that there is no significant difference between the means of the two samples, while the alternative hypothesis is that there is a significant difference between the means of the two samples.\n",
    "\n",
    "We can use the following formula to calculate the t-value:\n",
    "\n",
    "t = (x1 - x2) / sqrt(s1^2/n1 + s2^2/n2)\n",
    "\n",
    "where:\n",
    "\n",
    "x1 and x2 are the means of the two samples\n",
    "s1 and s2 are the standard deviations of the two samples\n",
    "n1 and n2 are the sample sizes\n",
    "Substituting the values, we get:\n",
    "\n",
    "t = (85 - 82) / sqrt(6^2/100 + 5^2/100) ≈ 2.28\n",
    "\n",
    "The degrees of freedom for the t-test can be calculated as follows:\n",
    "\n",
    "df = (s1^2/n1 + s2^2/n2)^2 / ( (s1^2/n1)^2/(n1-1) + (s2^2/n2)^2/(n2-1) )\n",
    "\n",
    "Substituting the values, we get:\n",
    "\n",
    "df = (6^2/100 + 5^2/100)^2 / ( (6^2/100)^2/99 + (5^2/100)^2/99 ) ≈ 194.45\n",
    "\n",
    "At a significance level of 0.01 with 194 degrees of freedom, the critical t-value is ±2.602.\n",
    "\n",
    "Since our calculated t-value of 2.28 is less than the critical t-value of 2.602, we fail to reject the null hypothesis. This means that we do not have enough evidence to conclude that there is a significant difference in student performance between the two teaching methods."
   ]
  },
  {
   "cell_type": "raw",
   "id": "3e803726-219a-4971-9fd4-91f529671e47",
   "metadata": {},
   "source": [
    "Q13. A population has a mean of 60 and a standard deviation of 8. A sample of 50 observations has a mean\n",
    "of 65. Calculate the 90% confidence interval for the true population mean."
   ]
  },
  {
   "cell_type": "raw",
   "id": "bafb44c1-a75e-42e9-bdce-a2628b4358c4",
   "metadata": {},
   "source": [
    "ANS- To calculate the 90% confidence interval for the true population mean, we can use the formula:\n",
    "\n",
    "CI = x̄ ± z* (σ/√n)\n",
    "\n",
    "where:\n",
    "\n",
    "x̄ is the sample mean\n",
    "z* is the critical z-value for a 90% confidence level, which can be found using a z-table or calculator (for a two-tailed test, it is 1.645)\n",
    "σ is the population standard deviation\n",
    "n is the sample size\n",
    "Substituting the given values, we get:\n",
    "\n",
    "CI = 65 ± 1.645 * (8 / √50)\n",
    "\n",
    "Simplifying, we get:\n",
    "\n",
    "CI = 65 ± 2.303\n",
    "\n",
    "Therefore, the 90% confidence interval for the true population mean is (62.697, 67.303).\n",
    "\n",
    "This means that we are 90% confident that the true population mean falls within this interval. Alternatively, we can say that if we were to take many random samples of 50 observations from the population and calculate their confidence intervals using the same method, 90% of those intervals would contain the true population mean."
   ]
  },
  {
   "cell_type": "raw",
   "id": "a4f6368f-f378-4ee3-8caf-06807e052c50",
   "metadata": {},
   "source": [
    "Q14. In a study of the effects of caffeine on reaction time, a sample of 30 participants had an average\n",
    "reaction time of 0.25 seconds with a standard deviation of 0.05 seconds. Conduct a hypothesis test to\n",
    "determine if the caffeine has a significant effect on reaction time at a 90% confidence level using a t-test."
   ]
  },
  {
   "cell_type": "raw",
   "id": "6bc7c959-213e-4056-9e43-c117665af614",
   "metadata": {},
   "source": [
    "ANS- To conduct a hypothesis test to determine if caffeine has a significant effect on reaction time at a 90% confidence level, we can follow these steps:\n",
    "\n",
    "Step 1: State the null and alternative hypotheses.\n",
    "\n",
    "The null hypothesis (H0) is that there is no significant difference in reaction time between participants who consume caffeine and those who do not:\n",
    "\n",
    "H0: µ = 0.25\n",
    "\n",
    "The alternative hypothesis (Ha) is that there is a significant difference in reaction time between participants who consume caffeine and those who do not:\n",
    "\n",
    "Ha: µ ≠ 0.25\n",
    "\n",
    "where µ is the population mean reaction time.\n",
    "\n",
    "Step 2: Determine the test statistic.\n",
    "\n",
    "We can use a t-test to determine the test statistic. The formula for the t-test is:\n",
    "\n",
    "t = (x̄ - µ) / (s / √n)\n",
    "\n",
    "where x̄ is the sample mean, µ is the hypothesized population mean, s is the sample standard deviation, and n is the sample size.\n",
    "\n",
    "Substituting the given values, we get:\n",
    "\n",
    "t = (0.25 - 0) / (0.05 / √30)\n",
    "t = 10.95\n",
    "\n",
    "Step 3: Determine the critical value.\n",
    "\n",
    "We want to test the hypothesis at a 90% confidence level, so our significance level (α) is 0.1. Since this is a two-tailed test, we need to find the critical values for a t-distribution with 29 degrees of freedom at the 0.05 level of significance.\n",
    "\n",
    "Using a t-table or calculator, we find that the critical values are ±1.699.\n",
    "\n",
    "Step 4: Make a decision and interpret the results.\n",
    "\n",
    "Since the calculated t-value of 10.95 is greater than the critical value of ±1.699, we reject the null hypothesis. This means that there is a significant difference in reaction time between participants who consume caffeine and those who do not. Specifically, the sample mean of 0.25 seconds is significantly different from the hypothesized population mean of 0 seconds.\n",
    "\n",
    "Therefore, we can conclude that caffeine has a significant effect on reaction time at a 90% confidence level.\n",
    "\n",
    "\n",
    "\n"
   ]
  },
  {
   "cell_type": "raw",
   "id": "ff2369cc-b217-419a-a4c3-816897702adf",
   "metadata": {},
   "source": []
  },
  {
   "cell_type": "raw",
   "id": "8fe36b3b-3675-43ac-95e6-65bbd06b5420",
   "metadata": {},
   "source": []
  },
  {
   "cell_type": "raw",
   "id": "b7e9db35-e8d3-4da5-946d-237fef40ab5b",
   "metadata": {},
   "source": []
  },
  {
   "cell_type": "raw",
   "id": "de6a2ca4-8e36-49f5-b70f-9ebb19d22672",
   "metadata": {},
   "source": []
  }
 ],
 "metadata": {
  "kernelspec": {
   "display_name": "Python 3 (ipykernel)",
   "language": "python",
   "name": "python3"
  },
  "language_info": {
   "codemirror_mode": {
    "name": "ipython",
    "version": 3
   },
   "file_extension": ".py",
   "mimetype": "text/x-python",
   "name": "python",
   "nbconvert_exporter": "python",
   "pygments_lexer": "ipython3",
   "version": "3.10.8"
  }
 },
 "nbformat": 4,
 "nbformat_minor": 5
}
