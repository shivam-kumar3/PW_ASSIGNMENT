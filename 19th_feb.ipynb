{
 "cells": [
  {
   "cell_type": "raw",
   "id": "11d3cd94-94af-4a7b-8d68-1bdc0b10e89c",
   "metadata": {},
   "source": [
    "Q1. What is Flask Framework? What are the advantages of Flask Framework?\n",
    "Ans:\n",
    "\n",
    "Flask is a lightweight and flexible web framework for building web applications using the Python programming language.\n",
    "\n",
    "Active Community : It has large community to solve your problems\n",
    "It is good for Small to Medium-sized Applications\n",
    "It can be Integrated with Python Libraries\n",
    "Flask provide built-in Development Server\n",
    "Flask easy to Learn and understand any new developer also\n",
    "It is Lightweight and Flexible web frameword\n"
   ]
  },
  {
   "cell_type": "raw",
   "id": "9951ee4c-8e6f-4747-9a2c-6d9ea33ffbf5",
   "metadata": {},
   "source": [
    "Q2. Create a simple Flask application to display 'Hello World!!'. Attach the screenshot of the output in Jupyter Notebook."
   ]
  },
  {
   "cell_type": "raw",
   "id": "c64cc5e2-b4c4-4b38-8ef6-b835904f63d8",
   "metadata": {},
   "source": [
    "Q3. What is App routing in Flask? Why do we use app routes?\n",
    "App routing define an URL and access the function on this router\n",
    "We are using app routes to define out url and access his funcions\n",
    "@app.router(\"/design_URL\")\n",
    "def yourfunction():\n",
    "pass"
   ]
  },
  {
   "cell_type": "raw",
   "id": "ee8b5794-32cd-415a-8065-3a075c653190",
   "metadata": {},
   "source": [
    "Q4. Create a \"/welcome\" route to display the welcome message \"Welcome to ABC Corporation\" and a \"/\" route to show the following details:\n",
    "Company Name: ABC Corporation\n",
    "Location: India\n",
    "Contact Detail: 999-999-9999\n",
    "Attach the screenshot of the output in Jupyter Notebook."
   ]
  },
  {
   "cell_type": "raw",
   "id": "b2fcbade-44c9-42db-a2b3-61fe9053cd52",
   "metadata": {},
   "source": [
    "Q5. What function is used in Flask for URL Building? Write a Python code to demonstrate the working of the url_for() function."
   ]
  },
  {
   "cell_type": "code",
   "execution_count": null,
   "id": "57831293-a979-4308-a5e7-dc541ffabcec",
   "metadata": {},
   "outputs": [],
   "source": [
    "from flask import Flask, url_for\n",
    "\n",
    "app = Flask(__name__)\n",
    "\n",
    "@app.route(\"/\")\n",
    "def hello_world():\n",
    "    company = 'ABC'\n",
    "    url = url_for(\"hello_world\")\n",
    "    return f\"<h1>Welcome to {company} Corporation</h1><br> Current page url is {url}\"\n",
    "\n",
    "@app.route(\"/login\")\n",
    "def login():\n",
    "    url = url_for(\"login\")\n",
    "    return f\"<h1>Welcome to Corporation</h1><br> Current page url is {url}\"\n",
    "\n",
    "if __name__==\"__main__\":"
   ]
  }
 ],
 "metadata": {
  "kernelspec": {
   "display_name": "Python 3 (ipykernel)",
   "language": "python",
   "name": "python3"
  },
  "language_info": {
   "codemirror_mode": {
    "name": "ipython",
    "version": 3
   },
   "file_extension": ".py",
   "mimetype": "text/x-python",
   "name": "python",
   "nbconvert_exporter": "python",
   "pygments_lexer": "ipython3",
   "version": "3.10.8"
  }
 },
 "nbformat": 4,
 "nbformat_minor": 5
}
