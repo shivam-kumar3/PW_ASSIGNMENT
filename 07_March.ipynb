{
 "cells": [
  {
   "cell_type": "markdown",
   "id": "cc9fce39-c937-4fd1-a22c-5da2d6964eac",
   "metadata": {},
   "source": [
    "Q7- What are the three measures of central tendency?"
   ]
  },
  {
   "cell_type": "markdown",
   "id": "516f604d-4dd9-46fa-9877-cde4d480ae63",
   "metadata": {},
   "source": [
    "ANS- The three measures of central tendency are:\n",
    "\n",
    "Mean: The mean is the average of all the values in a dataset. It is calculated by adding up all the values and dividing by the total number of values.\n",
    "\n",
    "Median: The median is the middle value in a dataset when the values are ordered from smallest to largest. If there are an even number of values, the median is the average of the two middle values.\n",
    "\n",
    "Mode: The mode is the value that occurs most frequently in a dataset. There may be multiple modes or no mode at all."
   ]
  },
  {
   "cell_type": "markdown",
   "id": "a45dc47f-40a8-4d42-9b8d-7bbcbc6c4586",
   "metadata": {},
   "source": [
    "Q2- What is the difference between the mean, median, and mode? How are they used to measure the\n",
    "central tendency of a dataset?"
   ]
  },
  {
   "cell_type": "markdown",
   "id": "ec280eff-bef5-4839-b6ed-1264a2d3832d",
   "metadata": {},
   "source": [
    "ANS- The mean, median, and mode are three measures of central tendency that provide different ways of characterizing the center of a distribution of data.\n",
    "\n",
    "The mean is the average of all the values in a dataset. It is calculated by adding up all the values and dividing by the total number of values. The mean is most commonly used and is appropriate when the data is normally distributed and there are no extreme values or outliers. The mean is sensitive to extreme values or outliers and can be skewed by them.\n",
    "\n",
    "The median is the middle value in a dataset when the values are ordered from smallest to largest. If there are an even number of values, the median is the average of the two middle values. The median is often used when there are extreme values or the distribution is skewed. The median is less sensitive to extreme values than the mean.\n",
    "\n",
    "The mode is the value that occurs most frequently in a dataset. There may be multiple modes or no mode at all. The mode is useful when dealing with categorical or discrete data, where the value that appears most frequently may be the most important or meaningful.\n",
    "\n",
    "Each measure is appropriate in different situations and provides different information about the distribution of the data. For example, if the dataset is symmetric and normally distributed, the mean and median will be approximately equal, and either can be used as a measure of central tendency. If the dataset is skewed or contains outliers, the median may be a better measure of central tendency than the mean. If the dataset contains categorical or discrete data, the mode may be the most appropriate measure of central tendency.\n",
    "\n",
    "Overall, the choice of which measure to use depends on the specific characteristics of the dataset and the question being asked.\n",
    "\n",
    "\n",
    "\n"
   ]
  },
  {
   "cell_type": "markdown",
   "id": "97ed3435-e233-4fcc-be07-83b4c000eb88",
   "metadata": {},
   "source": [
    "Q3- Measure the three measures of central tendency for the given height data:\n",
    "[178,177,176,177,178.2,178,175,179,180,175,178.9,176.2,177,172.5,178,176.5]"
   ]
  },
  {
   "cell_type": "markdown",
   "id": "0db3022f-7ab5-454d-bc0d-08121853158a",
   "metadata": {},
   "source": [
    "To find the measures of central tendency for the given height data, we can calculate the mean, median, and mode as follows:\n",
    "\n",
    "Mean:\n",
    "The mean is calculated by adding up all the values and dividing by the total number of values:\n",
    "\n",
    "Mean = (178 + 177 + 176 + 177 + 178.2 + 178 + 175 + 179 + 180 + 175 + 178.9 + 176.2 + 177 + 172.5 + 178 + 176.5) / 16\n",
    "= 177.62\n",
    "\n",
    "Therefore, the mean height is 177.62.\n",
    "\n",
    "Median:\n",
    "The median is the middle value when the data is ordered from smallest to largest. First, we need to order the data:\n",
    "\n",
    "172.5, 175, 175, 176, 176.2, 176.5, 177, 177, 178, 178, 178, 178.2, 178.9, 179, 180\n",
    "\n",
    "There are 15 values in this ordered list, so the median is the 8th value, which is 177.\n",
    "\n",
    "Therefore, the median height is 177.\n",
    "\n",
    "Mode:\n",
    "The mode is the most frequently occurring value in the dataset. In this case, there is no value that occurs more than once, so there is no mode.\n",
    "\n",
    "Therefore, there is no mode for this dataset.\n",
    "\n",
    "Overall, the mean height is 177.62, the median height is 177, and there is no mode."
   ]
  },
  {
   "cell_type": "code",
   "execution_count": 9,
   "id": "b1c4b054-6e98-4da5-bac1-0f5dcab76edd",
   "metadata": {},
   "outputs": [],
   "source": [
    "b= [178,177,176,177,178.2,178,175,179,180,175,178.9,176.2,177,172.5,178,176.5]\n"
   ]
  },
  {
   "cell_type": "code",
   "execution_count": 10,
   "id": "8100e3da-a0e7-4e23-9b44-b7f706b78116",
   "metadata": {},
   "outputs": [
    {
     "data": {
      "text/plain": [
       "177.01875"
      ]
     },
     "execution_count": 10,
     "metadata": {},
     "output_type": "execute_result"
    }
   ],
   "source": [
    "np.mean(b)"
   ]
  },
  {
   "cell_type": "code",
   "execution_count": 11,
   "id": "f2047079-f958-43c6-bfe9-f1de062d748d",
   "metadata": {},
   "outputs": [
    {
     "data": {
      "text/plain": [
       "177.0"
      ]
     },
     "execution_count": 11,
     "metadata": {},
     "output_type": "execute_result"
    }
   ],
   "source": [
    "np.median(b)"
   ]
  },
  {
   "cell_type": "markdown",
   "id": "164d5cf4-6835-4944-878e-aae153f4c94d",
   "metadata": {},
   "source": [
    "Q4 - Find the standard deviation for the given data:\n",
    "\n",
    "[178,177,176,177,178.2,178,175,179,180,175,178.9,176.2,177,172.5,178,176.5]"
   ]
  },
  {
   "cell_type": "code",
   "execution_count": 5,
   "id": "e6da79a8-b0a0-4174-a942-0ec173767609",
   "metadata": {},
   "outputs": [],
   "source": [
    "a= [178,177,176,177,178.2,178,175,179,180,175,178.9,176.2,177,172.5,178,176.5]"
   ]
  },
  {
   "cell_type": "code",
   "execution_count": 7,
   "id": "2c31b4d0-213c-4ee7-80a9-069c19a1c932",
   "metadata": {},
   "outputs": [],
   "source": [
    "import numpy as np"
   ]
  },
  {
   "cell_type": "code",
   "execution_count": 8,
   "id": "ebe98656-de15-4064-bd0d-afce22ed328f",
   "metadata": {},
   "outputs": [
    {
     "data": {
      "text/plain": [
       "1.7885814036548633"
      ]
     },
     "execution_count": 8,
     "metadata": {},
     "output_type": "execute_result"
    }
   ],
   "source": [
    "np.std(a)"
   ]
  },
  {
   "cell_type": "markdown",
   "id": "d1238a5e-74a5-46d9-ab1a-8b5879c6061e",
   "metadata": {},
   "source": [
    "q5- How are measures of dispersion such as range, variance, and standard deviation used to describe\n",
    "the spread of a dataset? Provide an example."
   ]
  },
  {
   "cell_type": "markdown",
   "id": "5688db8e-0bb6-4ee2-98f4-f0c42d18d005",
   "metadata": {},
   "source": [
    "Measures of dispersion such as range, variance, and standard deviation are used to describe the spread or variability of a dataset.\n",
    "\n",
    "Range is the difference between the largest and smallest values in a dataset. It provides a quick and easy way to measure the spread of a dataset. However, it can be affected by extreme values, and may not accurately represent the variability of the rest of the data.\n",
    "\n",
    "Variance is a measure of the average squared deviation of each value from the mean of the dataset. It is calculated by summing the squared deviations of each value from the mean, and dividing by the number of observations in the dataset. Variance takes into account all values in the dataset and gives a more accurate representation of the spread of the data compared to range.\n",
    "\n",
    "Standard deviation is the square root of the variance. It is used to measure the spread of a dataset in the same units as the original data. A smaller standard deviation indicates that the data is tightly clustered around the mean, while a larger standard deviation indicates that the data is more spread out.\n",
    "\n",
    "For example, let's consider two datasets representing the test scores of two different classes:\n",
    "\n",
    "Class A: [85, 90, 92, 85, 88, 89, 86, 90, 91, 87]\n",
    "\n",
    "Class B: [60, 70, 75, 80, 85, 90, 95, 100, 105, 110]\n",
    "\n",
    "The mean score for both classes is approximately 88. However, the two datasets have different spreads. Class A has scores that are closely clustered around the mean, while Class B has scores that are more spread out.\n",
    "\n",
    "Range for Class A: 92 - 85 = 7\n",
    "Range for Class B: 110 - 60 = 50\n",
    "The range for Class B is much larger, indicating a wider spread of scores.\n",
    "\n",
    "Variance for Class A: 8.1\n",
    "Variance for Class B: 400\n",
    "The variance for Class B is much larger, indicating a wider spread of scores.\n",
    "\n",
    "Standard deviation for Class A: 2.84\n",
    "Standard deviation for Class B: 20\n",
    "The standard deviation for Class B is much larger, indicating a wider spread of scores.\n",
    "\n",
    "Overall, measures of dispersion help to provide more information about the spread of a dataset and give a more complete picture of the data."
   ]
  },
  {
   "cell_type": "markdown",
   "id": "ecb05f95-d998-4d11-99ec-dffa18e2b866",
   "metadata": {},
   "source": [
    "q7- What is a Venn diagram?"
   ]
  },
  {
   "cell_type": "markdown",
   "id": "162475ad-d117-4975-8235-68e85acf32a5",
   "metadata": {},
   "source": [
    "ANS- A Venn diagram typically consists of multiple circles, each representing a set or category, and the overlapping regions of the circles represent the intersections of these sets. The diagram is divided into different regions, each corresponding to a unique combination of the sets.\n",
    "\n",
    "Venn diagrams are often used in statistics and data analysis to illustrate the relationships between different groups or categories of data. They can help to visually identify similarities and differences between sets, and to identify common elements or factors that exist across multiple sets."
   ]
  },
  {
   "cell_type": "markdown",
   "id": "890387c1-f68f-4dec-8dae-57d17418b7a4",
   "metadata": {},
   "source": [
    "Q8- For the two given sets A = (2,3,4,5,6,7) & B = (0,2,6,8,10). Find:\n",
    "(i) A B\n",
    "(ii) A ⋃ B"
   ]
  },
  {
   "cell_type": "markdown",
   "id": "209b147d-04cf-4089-be24-972e3fb9377e",
   "metadata": {},
   "source": [
    "ANS- (i) A B represents the set of elements that are in set A but not in set B.\n",
    "\n",
    "Therefore, A B = {3, 4, 5, 7}\n",
    "\n",
    "(ii) A ⋃ B represents the union of set A and set B, which is the set of all elements that are in either set A or set B or both.\n",
    "\n",
    "Therefore, A ⋃ B = {0, 2, 3, 4, 5, 6, 7, 8, 10}"
   ]
  },
  {
   "cell_type": "markdown",
   "id": "012300fa-d78b-425d-9f49-9fd37ef80a10",
   "metadata": {},
   "source": [
    "Q8- What do you understand about skewness in data?"
   ]
  },
  {
   "cell_type": "markdown",
   "id": "9e8e6b4f-b81b-40d9-9483-c757aa17bce4",
   "metadata": {},
   "source": [
    "ANS- Skewness is a measure of the asymmetry of a probability distribution or a dataset. It indicates whether a distribution is symmetric or skewed to one side.\n",
    "\n",
    "In a symmetric distribution, the mean, median, and mode are all equal, and the distribution is evenly distributed around these measures of central tendency. In contrast, in a skewed distribution, the mean, median, and mode are not equal, and the distribution is biased towards one side or the other.\n",
    "\n",
    "Positive skewness occurs when the tail of the distribution is longer on the right side, and negative skewness occurs when the tail of the distribution is longer on the left side. Skewness can be measured using different statistical measures such as the skewness coefficient, which quantifies the degree of skewness.\n",
    "\n",
    "Skewness can have important implications for statistical analysis. For example, in a positively skewed distribution, the mean is usually larger than the median, and in a negatively skewed distribution, the mean is usually smaller than the median. This can affect how we interpret and analyze data, and it may require us to use different statistical methods or measures of central tendency depending on the skewness of the data."
   ]
  },
  {
   "cell_type": "markdown",
   "id": "3508401b-ff5f-46a7-9e43-6e74e5becff3",
   "metadata": {},
   "source": [
    "Q9- If a data is right skewed then what will be the position of median with respect to mean?"
   ]
  },
  {
   "cell_type": "markdown",
   "id": "56b0c3f7-5dcb-4503-9e7d-0bbefcda73b6",
   "metadata": {},
   "source": [
    "ANS- If a data is right skewed, then the median will be less than the mean.\n",
    "\n",
    "This is because in a right-skewed distribution, the tail of the distribution is longer on the right side, which means that there are more extreme values on the right side of the distribution. This can cause the mean to be pulled towards the right side of the distribution, while the median remains closer to the center of the distribution.\n",
    "\n",
    "Therefore, in a right-skewed distribution, the median will be smaller than the mean, and they will be located at different positions along the distribution."
   ]
  },
  {
   "cell_type": "markdown",
   "id": "d76ea18e-33e1-4e5b-9a53-4627339549b4",
   "metadata": {},
   "source": [
    "Q10. Explain the difference between covariance and correlation. How are these measures used in\n",
    "statistical analysis?"
   ]
  },
  {
   "cell_type": "markdown",
   "id": "07992ef0-14ae-4a85-91e7-baf9d9213759",
   "metadata": {},
   "source": [
    "ANS- Covariance and correlation are two measures of the relationship between two variables in statistical analysis. Although they are related, they have some important differences.\n",
    "\n",
    "Covariance measures the degree to which two variables vary together. It is calculated as the average of the products of the deviations of each value from their respective means. A positive covariance indicates that two variables tend to move in the same direction, while a negative covariance indicates that they tend to move in opposite directions. However, the magnitude of the covariance is not standardized, which makes it difficult to compare across different datasets.\n",
    "\n",
    "Correlation, on the other hand, measures the strength and direction of the linear relationship between two variables. It is a standardized measure, meaning it falls within the range of -1 to +1, where -1 indicates a perfect negative correlation, +1 indicates a perfect positive correlation, and 0 indicates no correlation. Correlation is calculated by dividing the covariance by the product of the standard deviations of the two variables. Correlation is a more useful measure than covariance because it allows us to compare the strength of the relationship between two variables across different datasets.\n",
    "\n",
    "Covariance and correlation are used in statistical analysis to explore the relationship between two variables, to identify patterns and trends in the data, and to make predictions about future outcomes. They can be used to test hypotheses about the relationship between variables, to identify outliers or influential observations, and to guide decisions in various fields such as finance, economics, and social sciences.\n",
    "\n",
    "\n",
    "\n"
   ]
  },
  {
   "cell_type": "markdown",
   "id": "a8249591-67e7-43f5-9927-bd4ed6790916",
   "metadata": {},
   "source": [
    "Q11- Q11. What is the formula for calculating the sample mean? Provide an example calculation for a\n",
    "dataset."
   ]
  },
  {
   "cell_type": "markdown",
   "id": "b22246c0-1ee3-40a5-9805-c7ba121acbc8",
   "metadata": {},
   "source": [
    "ANS- The formula for calculating the sample mean is:\n",
    "\n",
    "x̄ = (Σx) / n\n",
    "\n",
    "where x̄ is the sample mean, Σx is the sum of all the values in the sample, and n is the sample size.\n",
    "\n",
    "For example, let's say we have the following dataset of 10 test scores:\n",
    "\n",
    "{75, 80, 85, 90, 95, 70, 85, 80, 75, 90}\n",
    "\n",
    "To calculate the sample mean, we add up all the scores and divide by the sample size:\n",
    "\n",
    "x̄ = (75 + 80 + 85 + 90 + 95 + 70 + 85 + 80 + 75 + 90) / 10\n",
    "x̄ = 845 / 10\n",
    "x̄ = 84.5\n",
    "\n",
    "Therefore, the sample mean for this dataset is 84.5."
   ]
  },
  {
   "cell_type": "code",
   "execution_count": null,
   "id": "7134b084-4854-4ded-9dbf-ff23f4a8a62d",
   "metadata": {},
   "outputs": [],
   "source": [
    "Q12- For a normal distribution data what is the relationship between its measure of central tendency?"
   ]
  },
  {
   "cell_type": "markdown",
   "id": "95877143-7b31-49f8-bf61-ac423b5073ba",
   "metadata": {},
   "source": [
    "ANS - For a normal distribution data, the mean, median, and mode are all equal. This is because the normal distribution is a symmetric bell-shaped curve, with the peak at the mean, and the median also being at the same point. The mode, which is the value that occurs most frequently in the dataset, also coincides with the peak of the normal distribution curve.\n",
    "\n",
    "Therefore, in a normal distribution, the mean, median, and mode are all measures of central tendency that provide the same information about the location of the center of the distribution."
   ]
  },
  {
   "cell_type": "markdown",
   "id": "8ba76c84-816e-4a39-ac64-2b2f53fc90fd",
   "metadata": {},
   "source": [
    "Q13- How is covariance different from correlation?"
   ]
  },
  {
   "cell_type": "markdown",
   "id": "b5fb1523-9e88-475e-a784-116fa050bc74",
   "metadata": {},
   "source": [
    "ANS - Covariance and correlation are both measures of the relationship between two variables, but they differ in their interpretation and scale.\n",
    "\n",
    "Covariance is a measure of the extent to which two variables vary together. It measures how much two variables change together, and whether they have a positive or negative relationship. The formula for covariance is:\n",
    "\n",
    "cov(X,Y) = E[(X - E[X])(Y - E[Y])]\n",
    "\n",
    "where X and Y are two random variables, E[X] and E[Y] are their respective expected values, and cov(X,Y) is the covariance between X and Y. A positive covariance indicates a positive relationship, while a negative covariance indicates a negative relationship. However, covariance does not have a standardized scale, so it is difficult to compare covariances between different pairs of variables.\n",
    "\n",
    "Correlation, on the other hand, measures the strength and direction of the linear relationship between two variables. It is a standardized measure, ranging from -1 to 1, where a correlation of -1 indicates a perfect negative linear relationship, a correlation of 0 indicates no linear relationship, and a correlation of 1 indicates a perfect positive linear relationship. The formula for correlation is:\n",
    "\n",
    "corr(X,Y) = cov(X,Y) / (SD[X] * SD[Y])\n",
    "\n",
    "where SD[X] and SD[Y] are the standard deviations of X and Y, respectively. Correlation is more interpretable and useful for comparing the strength of relationships between different pairs of variables."
   ]
  },
  {
   "cell_type": "markdown",
   "id": "5d7f86d2-6397-4bb6-b29d-0cf00aa837f5",
   "metadata": {},
   "source": [
    "Q14. How do outliers affect measures of central tendency and dispersion? Provide an example."
   ]
  },
  {
   "cell_type": "markdown",
   "id": "b3b4370f-6566-46eb-8ceb-5f71221d590e",
   "metadata": {},
   "source": [
    "ANS- Outliers can have a significant impact on measures of central tendency and dispersion. An outlier is a data point that is significantly different from other data points in the dataset. Outliers can occur due to measurement error, data entry errors, or simply because the data point is a legitimate anomaly.\n",
    "\n",
    "When there are outliers in a dataset, the measures of central tendency, such as the mean and median, can be skewed. This is because the outliers can pull the mean towards them, causing it to be higher or lower than it would be without the outlier. On the other hand, the median is not affected by outliers as it is based on the middle value, and thus it can be a more robust measure of central tendency when there are outliers.\n",
    "\n",
    "For example, let's consider the heights of a group of people: 165cm, 170cm, 172cm, 174cm, 175cm, 176cm, 180cm, and 200cm. The outlier here is the height of 200cm, which is significantly higher than the other heights. If we calculate the mean, it will be affected by this outlier and will be higher than the expected value. On the other hand, the median will not be affected and will be equal to 175cm, which is a better representation of the central tendency of the dataset in the presence of an outlier. Similarly, the range and standard deviation will also be affected by the outlier and will give a higher value than expected."
   ]
  },
  {
   "cell_type": "code",
   "execution_count": null,
   "id": "9e8c91f2-30cd-47f6-825b-8803d77a4fae",
   "metadata": {},
   "outputs": [],
   "source": []
  }
 ],
 "metadata": {
  "kernelspec": {
   "display_name": "Python 3 (ipykernel)",
   "language": "python",
   "name": "python3"
  },
  "language_info": {
   "codemirror_mode": {
    "name": "ipython",
    "version": 3
   },
   "file_extension": ".py",
   "mimetype": "text/x-python",
   "name": "python",
   "nbconvert_exporter": "python",
   "pygments_lexer": "ipython3",
   "version": "3.10.8"
  }
 },
 "nbformat": 4,
 "nbformat_minor": 5
}
