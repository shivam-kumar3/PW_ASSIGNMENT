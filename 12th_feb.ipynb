{
 "cells": [
  {
   "cell_type": "raw",
   "id": "7c0d8fa4-dd8f-44a9-b6a0-010101b9911e",
   "metadata": {},
   "source": [
    "Q1. What is an Exception in python? Write the difference between Exceptions and Syntax errors.\n",
    "Ans :\n",
    "\n",
    "Exceptions: Exceptions are raised when the program is syntactically correct, but the code resulted in an error.\n",
    "Syntax Error : As the name suggests this error is caused by the wrong syntax in the code. It leads to the termination/block of the program."
   ]
  },
  {
   "cell_type": "raw",
   "id": "8108c7a3-cf93-4586-aa7b-482a8dac3eb1",
   "metadata": {},
   "source": [
    "Q2. What happens when an exception is not handled? Explain with an example.\n",
    "Ans : Stop code to execute."
   ]
  },
  {
   "cell_type": "code",
   "execution_count": null,
   "id": "b9881fbf-fd73-47b4-9848-d3ff45956151",
   "metadata": {},
   "outputs": [],
   "source": [
    "# without exception handling\n",
    "num = 20\n",
    "num2 = num/0\n",
    "print(num2)"
   ]
  },
  {
   "cell_type": "code",
   "execution_count": 2,
   "id": "7502f228-623f-4a60-ab71-cf8eedc3b893",
   "metadata": {},
   "outputs": [
    {
     "name": "stdout",
     "output_type": "stream",
     "text": [
      "Error type is : division by zero\n"
     ]
    }
   ],
   "source": [
    "# with exception handling\n",
    "try:\n",
    "    num = 20\n",
    "    num1 = num/0\n",
    "    print(num1)\n",
    "except ZeroDivisionError as e:\n",
    "    print(f'Error type is : {e}')"
   ]
  },
  {
   "cell_type": "raw",
   "id": "f9cc2b85-5588-4610-aa09-79390f3a2b32",
   "metadata": {},
   "source": [
    "Q3. Which Python statements are used to catch and handle exceptions? Explain with an example."
   ]
  },
  {
   "cell_type": "code",
   "execution_count": null,
   "id": "027b28b3-a9cc-49d9-8c7e-43f837cd6821",
   "metadata": {},
   "outputs": [],
   "source": [
    "try:\n",
    "    statement(s)\n",
    "except ErrorType as e:\n",
    "    statement(s)\n",
    "else:\n",
    "    statement(s)\n",
    "finally:\n",
    "    statement(s)"
   ]
  },
  {
   "cell_type": "code",
   "execution_count": 5,
   "id": "05558321-88d6-4eaf-af05-cc142a480ff3",
   "metadata": {},
   "outputs": [
    {
     "name": "stdout",
     "output_type": "stream",
     "text": [
      "Error type is : not writable\n",
      "This is finally block\n"
     ]
    }
   ],
   "source": [
    "try:\n",
    "    with open('test1.txt','r') as file:\n",
    "        file.write(\"This file open in read mode\")\n",
    "except Exception as e:\n",
    "    print(f\"Error type is : {e}\")\n",
    "else:\n",
    "    print(\"This is else block run with try block\")\n",
    "finally:\n",
    "    print('This is finally block')"
   ]
  },
  {
   "cell_type": "raw",
   "id": "8a785adc-8ed0-4efb-bde7-bbb33bf50eee",
   "metadata": {},
   "source": [
    "Q4. Explain with an example:\n",
    "Ans :\n",
    "\n",
    "a. try and else : eles execute after try execution, without try block, else block does not execute\n",
    "b. finally : finally block execute in every time,\n",
    "c. raise : raise is a keyword that is used to raise an exception manually by using Exception or any error class."
   ]
  },
  {
   "cell_type": "code",
   "execution_count": 6,
   "id": "0313026c-1452-46e8-9a13-c9f96bd41ea7",
   "metadata": {},
   "outputs": [
    {
     "name": "stdout",
     "output_type": "stream",
     "text": [
      "can only concatenate list (not \"tuple\") to list\n"
     ]
    }
   ],
   "source": [
    "try:\n",
    "    print([2,5,6,8]+(4,5.6))\n",
    "except TypeError as e:\n",
    "    print(e)\n",
    "else:\n",
    "    print('This will execute with try block')"
   ]
  },
  {
   "cell_type": "code",
   "execution_count": 7,
   "id": "a69fb216-da70-42f0-b0da-27aaa06bc007",
   "metadata": {},
   "outputs": [
    {
     "name": "stdout",
     "output_type": "stream",
     "text": [
      "unsupported operand type(s) for +: 'int' and 'str'\n",
      "This is finally block\n"
     ]
    }
   ],
   "source": [
    "try:\n",
    "    print(90+'hello')\n",
    "except TypeError as e:\n",
    "    print(e)\n",
    "finally:\n",
    "    print(\"This is finally block\")"
   ]
  },
  {
   "cell_type": "code",
   "execution_count": 8,
   "id": "876ad2e0-dc85-4e9d-b5df-44f9632cdece",
   "metadata": {},
   "outputs": [
    {
     "name": "stdin",
     "output_type": "stream",
     "text": [
      "Enter your age :  24\n"
     ]
    }
   ],
   "source": [
    "#raise example\n",
    "class getError(Exception):\n",
    "    pass\n",
    "try:\n",
    "    age = int(input(\"Enter your age : \"))\n",
    "    if age<0:\n",
    "        raise getError('Age must be grater than 0')\n",
    "except getError as e:\n",
    "    print(e)"
   ]
  },
  {
   "cell_type": "code",
   "execution_count": 9,
   "id": "3a08b612-00db-46b5-815e-444d50f63308",
   "metadata": {},
   "outputs": [
    {
     "name": "stdout",
     "output_type": "stream",
     "text": [
      "division by zero\n"
     ]
    }
   ],
   "source": [
    "try:\n",
    "    num = 10/0\n",
    "except Exception as e:\n",
    "    print(e)"
   ]
  },
  {
   "cell_type": "raw",
   "id": "2b6728a0-7d8f-4d3b-8a8e-cdd1803937a3",
   "metadata": {},
   "source": [
    "Q5. What are Custom Exceptions in python? Why do we need Custom Exceptions? Explain with an example.\n",
    "Ans:\n",
    "\n",
    "Python provide some classes to handle error manually or by user define, It is called custom exception.\n",
    "In Python, we can define custom exceptions by creating a new class that is derived from the built-in Exception class.\n",
    "When we are writing a large number of code in Python, it is a good practice to place all the user-defined exceptions that our program raises in a separate file.\n",
    "Many standard modules define their exceptions separately as exceptions.py or errors.py.\n",
    "When as exeception occurs, the program terminates suddenly.\n",
    "Suddenly termination of program may corrupt the program\n",
    "Execption may cause data loss form the database or a file."
   ]
  },
  {
   "cell_type": "code",
   "execution_count": null,
   "id": "fa0db76e-9c8c-45f5-9e3e-474bf0f06880",
   "metadata": {},
   "outputs": [],
   "source": [
    "class CustomError(Exception):\n",
    "    statement(.........)\n",
    "try:\n",
    "   statemtn(...........)\n",
    "except CustomError:\n",
    "    statement(.........)"
   ]
  },
  {
   "cell_type": "code",
   "execution_count": 11,
   "id": "4dc60c22-cf15-4d52-89f0-62602791d9e3",
   "metadata": {},
   "outputs": [
    {
     "name": "stdin",
     "output_type": "stream",
     "text": [
      "Enter your amount :  2500\n"
     ]
    },
    {
     "name": "stdout",
     "output_type": "stream",
     "text": [
      "You are not eligible to withdraw this amount.\n"
     ]
    }
   ],
   "source": [
    "import logging\n",
    "logging.basicConfig(filename = 'test1.log', level = logging.DEBUG)\n",
    "\n",
    "class bankbalanceError(Exception):\n",
    "    \"\"\" my custom exception class \"\"\"\n",
    "try:\n",
    "    balance = 2300\n",
    "    withdraw = int(input(\"Enter your amount : \"))\n",
    "    if balance - withdraw <= 2000:\n",
    "        raise bankbalanceError('You are not eligible to withdraw this amount.')\n",
    "    else:\n",
    "        logging.info(balance - withdraw)\n",
    "except bankbalanceError as e:\n",
    "    print(e)"
   ]
  },
  {
   "cell_type": "raw",
   "id": "2d94004a-703d-4dbc-92ae-817e42e46eb8",
   "metadata": {},
   "source": [
    "Q6. Create a custom exception class. Use this class to handle an exception."
   ]
  },
  {
   "cell_type": "code",
   "execution_count": 12,
   "id": "35dd9a73-d59b-4047-86ab-ab1acfb163e6",
   "metadata": {},
   "outputs": [
    {
     "name": "stdin",
     "output_type": "stream",
     "text": [
      "Enter a your age :  24\n"
     ]
    }
   ],
   "source": [
    "import logging\n",
    "logging.basicConfig(filename = 'test2.log', level = logging.DEBUG)\n",
    "\n",
    "class InvalidAge(Exception):\n",
    "    \"Raised when the input value is less than 18\"\n",
    "    pass\n",
    "\n",
    "\n",
    "age = 18\n",
    "try:\n",
    "    input_age = int(input(\"Enter a your age : \"))\n",
    "    if input_age < age:\n",
    "        raise InvalidAge\n",
    "    else:\n",
    "        logging.info(\"Eligible to Vote\")\n",
    "        \n",
    "except InvalidAge:\n",
    "    logging.warning(\"Exception occurred: Invalid Age\")"
   ]
  },
  {
   "cell_type": "code",
   "execution_count": null,
   "id": "d6772cec-dc05-4097-8d23-d7edafe853c9",
   "metadata": {},
   "outputs": [],
   "source": []
  },
  {
   "cell_type": "code",
   "execution_count": null,
   "id": "6696e675-a0b1-4026-9d08-34e02666bb6a",
   "metadata": {},
   "outputs": [],
   "source": []
  }
 ],
 "metadata": {
  "kernelspec": {
   "display_name": "Python 3 (ipykernel)",
   "language": "python",
   "name": "python3"
  },
  "language_info": {
   "codemirror_mode": {
    "name": "ipython",
    "version": 3
   },
   "file_extension": ".py",
   "mimetype": "text/x-python",
   "name": "python",
   "nbconvert_exporter": "python",
   "pygments_lexer": "ipython3",
   "version": "3.10.8"
  }
 },
 "nbformat": 4,
 "nbformat_minor": 5
}
