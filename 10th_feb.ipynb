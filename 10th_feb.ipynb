{
 "cells": [
  {
   "cell_type": "raw",
   "id": "55bc3022-589d-424f-bd41-a64e60b2e196",
   "metadata": {},
   "source": [
    "Q1. Which function is used to open a file? What are the different modes of opening a file? Explain each mode of file opening.\n",
    "Ans :"
   ]
  },
  {
   "cell_type": "raw",
   "id": "5dc12943-b721-4283-98f6-ed3bdfc66009",
   "metadata": {},
   "source": [
    "open() function used to open a file\n",
    "'r' open for reading, you cant write in this mode\n",
    "'w' open for writing, remove the file first, you cant read file in this write mode\n",
    "'x' create a new file and open it for writing\n",
    "'a' open for writing, appending/add to the end of the file if it exists\n",
    "'b' binary mode(binary files like image, audio, video .etc)"
   ]
  },
  {
   "cell_type": "raw",
   "id": "b14ba045-7bbc-4e12-92a4-53694fbaacb7",
   "metadata": {},
   "source": [
    "Q2. Why close() function is used? Why is it important to close a file?\n",
    "Ans :\n",
    "\n",
    "filename.close() : used to close current open file, If you dont do this, you are not able do other pperformance with file.\n",
    "exp\n",
    "If you open your file in write mode and now you want to read you existing file so you have to do first of all close() and then open your file in read mode and read your file"
   ]
  },
  {
   "cell_type": "raw",
   "id": "b1de8538-fe67-40ee-a437-efcd86f259d5",
   "metadata": {},
   "source": [
    "Q3. Write a python program to create a text file. Write 'I want to become a Data Scientist' in that file. Then close the file. Open this file and read the content of the file."
   ]
  },
  {
   "cell_type": "code",
   "execution_count": 2,
   "id": "08ce6744-fc1b-40eb-be47-3b25bd6dec2b",
   "metadata": {},
   "outputs": [],
   "source": [
    "file = open('test.txt','w')\n",
    "file.write(\"I want to become a Data Scientist\")\n",
    "file.close()"
   ]
  },
  {
   "cell_type": "code",
   "execution_count": 3,
   "id": "0bbb938c-9575-419a-8e1b-bfc87016ae12",
   "metadata": {},
   "outputs": [
    {
     "name": "stdout",
     "output_type": "stream",
     "text": [
      "I want to become a Data Scientist\n"
     ]
    }
   ],
   "source": [
    "with open('test.txt','r') as file:\n",
    "    print(file.read())"
   ]
  },
  {
   "cell_type": "code",
   "execution_count": null,
   "id": "36017866-3ac3-49a3-878d-4eb671474412",
   "metadata": {},
   "outputs": [],
   "source": [
    "Q4. Explain the following with python code: read(), readline() and readlines().\n"
   ]
  },
  {
   "cell_type": "code",
   "execution_count": 8,
   "id": "e3af9430-2f30-406f-8f6a-9f358b89963a",
   "metadata": {},
   "outputs": [],
   "source": [
    "file = open('test1.txt','w')\n",
    "file.write(\"\"\"April. And the air dry\n",
    "As the shoulders of a water buffalo.\n",
    "Grasshoppers scratch at the dirt,\n",
    "rub their wings with thin legs\n",
    "flaring out in front of the soldiers\n",
    "in low arcing flights, wings a blur.\n",
    "The soldiers don’t notice anymore,\n",
    "seeing only the wreckage of the streets,\n",
    "bodies draped with sheets, and the sun,\n",
    "how bright it is, how hard and flat and white\\n.\n",
    "It will take many nails from the coffinmakers\n",
    "to shut out this light, which reflects off everything:\n",
    "the calloused feet of the dead, their bony hands, \n",
    "their pale foreheads so cold, brilliant in the sun. \"\"\")\n",
    "file.close()"
   ]
  },
  {
   "cell_type": "code",
   "execution_count": 9,
   "id": "669683e9-9cc1-4227-b150-2d0ddfe89e0a",
   "metadata": {},
   "outputs": [
    {
     "name": "stdout",
     "output_type": "stream",
     "text": [
      "------------read()---------------------\n",
      "April. And the air dry\n",
      "As the shoulders of a water buffalo.\n",
      "Grasshoppers scratch at the dirt,\n",
      "rub their wings with thin legs\n",
      "flaring out in front of the soldiers\n",
      "in low arcing flights, wings a blur.\n",
      "The soldiers don’t notice anymore,\n",
      "seeing only the wreckage of the streets,\n",
      "bodies draped with sheets, and the sun,\n",
      "how bright it is, how hard and flat and white\n",
      ".\n",
      "It will take many nails from the coffinmakers\n",
      "to shut out this light, which reflects off everything:\n",
      "the calloused feet of the dead, their bony hands, \n",
      "their pale foreheads so cold, brilliant in the sun. \n",
      "------------readline()---------------------\n",
      "April. And the air dry\n",
      "\n",
      "------------readlines()---------------------\n",
      "['April. And the air dry\\n', 'As the shoulders of a water buffalo.\\n', 'Grasshoppers scratch at the dirt,\\n', 'rub their wings with thin legs\\n', 'flaring out in front of the soldiers\\n', 'in low arcing flights, wings a blur.\\n', 'The soldiers don’t notice anymore,\\n', 'seeing only the wreckage of the streets,\\n', 'bodies draped with sheets, and the sun,\\n', 'how bright it is, how hard and flat and white\\n', '.\\n', 'It will take many nails from the coffinmakers\\n', 'to shut out this light, which reflects off everything:\\n', 'the calloused feet of the dead, their bony hands, \\n', 'their pale foreheads so cold, brilliant in the sun. ']\n"
     ]
    }
   ],
   "source": [
    "with open('test1.txt','r') as file:\n",
    "    print(\"------------read()---------------------\")\n",
    "    print(file.read())\n",
    "    print(\"------------readline()---------------------\")\n",
    "    file.seek(0)\n",
    "    print(file.readline())\n",
    "    print(\"------------readlines()---------------------\")\n",
    "    file.seek(0)\n",
    "    print(file.readlines())"
   ]
  },
  {
   "cell_type": "raw",
   "id": "d3504a6d-e305-4705-8bb1-9cb822584e1b",
   "metadata": {},
   "source": [
    "Q5. Explain why with statement is used with open (). What is the advantage of using with statement and open () together?\n",
    "Ans :\n",
    "\n",
    "If we are using with key-word then dont worry about close() file function\n",
    "with key-word handle your file close() problem\n",
    "we dont have to use close() function anywhere"
   ]
  },
  {
   "cell_type": "raw",
   "id": "a1425f62-919f-4669-94e4-30522a0289b9",
   "metadata": {},
   "source": [
    "6. Explain the write () and writelines () functions. Give a suitable example.\n",
    "Ans :\n",
    "\n",
    "write() : Returns the number of characters written (which is always equal to the which you are writting).\n",
    "writelines() : Returns None when we go to print."
   ]
  },
  {
   "cell_type": "code",
   "execution_count": 11,
   "id": "ac525c88-6367-4763-a837-e6aaa3f7b507",
   "metadata": {},
   "outputs": [
    {
     "name": "stdout",
     "output_type": "stream",
     "text": [
      "24\n"
     ]
    }
   ],
   "source": [
    "data = 'There is read() function'\n",
    "with open('test3.txt','w') as file:\n",
    "    print(file.write(data))"
   ]
  },
  {
   "cell_type": "code",
   "execution_count": 12,
   "id": "823ee6c8-b563-458e-b82e-b2477b7bf1aa",
   "metadata": {},
   "outputs": [
    {
     "name": "stdout",
     "output_type": "stream",
     "text": [
      "There is read() function\n"
     ]
    }
   ],
   "source": [
    "with open('test3.txt','r') as file:\n",
    "    print(file.read())"
   ]
  },
  {
   "cell_type": "code",
   "execution_count": 13,
   "id": "8f672d13-ec07-4f25-ae3e-2171b8e9e602",
   "metadata": {},
   "outputs": [
    {
     "name": "stdout",
     "output_type": "stream",
     "text": [
      "None\n"
     ]
    }
   ],
   "source": [
    "lines = [\"line1\\n\", \"line2\\n\", \"line3\\n\"]\n",
    "with open(\"file5.txt\", \"w\") as file:\n",
    "    print(file.writelines(lines))"
   ]
  },
  {
   "cell_type": "code",
   "execution_count": 14,
   "id": "b4f5032c-734f-48b7-9668-fab068a8738d",
   "metadata": {},
   "outputs": [
    {
     "name": "stdout",
     "output_type": "stream",
     "text": [
      "line1\n",
      "line2\n",
      "line3\n",
      "\n"
     ]
    }
   ],
   "source": [
    "with open(\"file5.txt\", \"r\") as file:\n",
    "    print(file.read())"
   ]
  },
  {
   "cell_type": "code",
   "execution_count": null,
   "id": "2506cccd-654c-44fc-841d-f7cdcfda4b5c",
   "metadata": {},
   "outputs": [],
   "source": []
  }
 ],
 "metadata": {
  "kernelspec": {
   "display_name": "Python 3 (ipykernel)",
   "language": "python",
   "name": "python3"
  },
  "language_info": {
   "codemirror_mode": {
    "name": "ipython",
    "version": 3
   },
   "file_extension": ".py",
   "mimetype": "text/x-python",
   "name": "python",
   "nbconvert_exporter": "python",
   "pygments_lexer": "ipython3",
   "version": "3.10.8"
  }
 },
 "nbformat": 4,
 "nbformat_minor": 5
}
