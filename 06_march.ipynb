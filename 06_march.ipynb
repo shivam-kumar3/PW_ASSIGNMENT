{
 "cells": [
  {
   "cell_type": "markdown",
   "id": "2c61b05d-c352-4c79-8068-f26a127cd23a",
   "metadata": {},
   "source": [
    "Q1- What is Statistics?"
   ]
  },
  {
   "cell_type": "markdown",
   "id": "4ed562ce-6d70-459d-a1aa-c651de6d7ded",
   "metadata": {},
   "source": [
    "ANS- Statistics is the branch of mathematics that deals with the collection, analysis, interpretation, presentation, and organization of data. It provides tools and methods for describing, summarizing, and analyzing data to make meaningful conclusions and decisions."
   ]
  },
  {
   "cell_type": "markdown",
   "id": "249a7051-b064-4e4b-addf-cb862a82420b",
   "metadata": {},
   "source": [
    "Q2-Define the different types of statistics and give an example of when each type might be used."
   ]
  },
  {
   "cell_type": "markdown",
   "id": "1a99a27b-fe39-42f2-bce3-ab5c987f6aaf",
   "metadata": {},
   "source": [
    "There are two main types of statistics: descriptive statistics and inferential statistics.\n",
    "\n",
    "Descriptive Statistics:\n",
    "Descriptive statistics are used to summarize and describe the main features of a dataset. This type of statistics is used to provide insights into the dataset, such as measures of central tendency, dispersion, and shape. Examples of descriptive statistics include mean, median, mode, range, variance, and standard deviation.\n",
    "Example: A study of 100 students’ grades in a class, where the researcher presents the mean, standard deviation, and frequency distribution of grades to get an overall understanding of how the students performed.\n",
    "\n",
    "Inferential Statistics:\n",
    "Inferential statistics are used to draw conclusions about a population based on a sample. This type of statistics is used to make predictions, test hypotheses, and estimate parameters of a population based on the data collected from a sample. Examples of inferential statistics include t-tests, ANOVA, correlation, regression, and chi-square tests.\n",
    "Example: A pharmaceutical company wants to know whether a new drug reduces the symptoms of a particular disease. They conduct a clinical trial on a sample of patients and use inferential statistics to determine whether the observed effects in the sample can be generalized to the larger population of patients with the disease."
   ]
  },
  {
   "cell_type": "markdown",
   "id": "50203ee3-f65f-4ab8-8743-2255ef772a47",
   "metadata": {},
   "source": [
    "Q3-What are the different types of data and how do they differ from each other? Provide an example of\n",
    "each type of data."
   ]
  },
  {
   "cell_type": "markdown",
   "id": "b4d2fbb7-9d25-45d6-b83a-0b8f7ff5fc85",
   "metadata": {},
   "source": [
    "ANS- There are four main types of data: nominal, ordinal, interval, and ratio.\n",
    "\n",
    "Nominal Data:\n",
    "Nominal data are categorical data that have no natural order or hierarchy. Nominal data are typically represented using labels or names, and they cannot be measured or ranked. Examples of nominal data include gender, ethnicity, and hair color.\n",
    "Example: Classifying students by their favorite color.\n",
    "\n",
    "Ordinal Data:\n",
    "Ordinal data are categorical data that can be ordered or ranked. Ordinal data represent the relative size or magnitude of the values, but the differences between them are not necessarily equal. Examples of ordinal data include rankings, ratings, and Likert scales.\n",
    "Example: Ranking the preferences of different types of ice cream flavors.\n",
    "\n",
    "Interval Data:\n",
    "Interval data are numerical data that have equal intervals between values, but they do not have a true zero point. Interval data can be added, subtracted, and averaged, but they cannot be multiplied or divided. Examples of interval data include temperature and time.\n",
    "Example: Measuring temperature in degrees Celsius or Fahrenheit.\n",
    "\n",
    "Ratio Data:\n",
    "Ratio data are numerical data that have a true zero point, where zero represents the complete absence of the variable being measured. Ratio data can be added, subtracted, multiplied, and divided, and they allow for meaningful ratios and percentages. Examples of ratio data include weight, height, and age.\n",
    "Example: Measuring the weight of different types of fruit in grams or pounds.\n",
    "\n",
    "\n",
    "\n"
   ]
  },
  {
   "cell_type": "markdown",
   "id": "1e47c17f-291b-4ffd-8b8f-7e727b789916",
   "metadata": {},
   "source": [
    "Q4- Categorise the following datasets with respect to quantitative and qualitative data types:\n",
    "(i) Grading in exam: A+, A, B+, B, C+, C, D, E\n",
    "(ii) Colour of mangoes: yellow, green, orange, red\n",
    "(iii) Height data of a class: [178.9, 179, 179.5, 176, 177.2, 178.3, 175.8,...]\n",
    "(iv) Number of mangoes exported by a farm: [500, 600, 478, 672, ...]"
   ]
  },
  {
   "cell_type": "markdown",
   "id": "26bc45db-acce-43a3-a175-ffad47e883ef",
   "metadata": {},
   "source": [
    "ANS- (i) Grading in exam: Qualitative \n",
    "(ii) Colour of mangoes: Qualitative \n",
    "(iii) Height data of a class: Quantitative \n",
    "(iv) Number of mangoes exported by a farm: Quantitative "
   ]
  },
  {
   "cell_type": "markdown",
   "id": "9fec51bb-2126-4829-9603-da3c96d9b80e",
   "metadata": {},
   "source": [
    "Q5. Explain the concept of levels of measurement and give an example of a variable for each level."
   ]
  },
  {
   "cell_type": "markdown",
   "id": "d22b72b4-b70f-422d-8e93-c23f95d29cb2",
   "metadata": {},
   "source": [
    "ANS-Levels of measurement, also known as scales of measurement, are ways of categorizing variables based on the nature of their values. There are four levels of measurement: nominal, ordinal, interval, and ratio.\n",
    "Examples:\n",
    "\n",
    "Nominal level of measurement: Religion (Christianity, Islam, Judaism, Buddhism, etc.)\n",
    "\n",
    "Ordinal level of measurement: Job satisfaction (Very satisfied, Somewhat satisfied, Neutral, Somewhat dissatisfied, Very dissatisfied)\n",
    "\n",
    "Interval level of measurement: Temperature in Celsius (20°C, 25°C, 30°C, etc.)\n",
    "\n",
    "Ratio level of measurement: Height (170cm, 180cm, 190cm, etc.)"
   ]
  },
  {
   "cell_type": "markdown",
   "id": "fca1acd8-9a14-475e-9898-dea00b1adc8c",
   "metadata": {},
   "source": [
    "Q6- Why is it important to understand the level of measurement when analyzing data? Provide an\n",
    "example to illustrate your answer."
   ]
  },
  {
   "cell_type": "markdown",
   "id": "ef95f80a-3898-4d00-b0a8-f70e0fbe47c3",
   "metadata": {},
   "source": [
    "ANS- Understanding the level of measurement is important in data analysis because it determines the types of statistical analyses that can be performed on the data, as well as the appropriate visualizations and summary statistics. Using inappropriate statistical techniques can lead to incorrect conclusions, misinterpretation of data, and faulty predictions.\n",
    "\n",
    "For example, using the mean to summarize ordinal data or the mode to summarize interval data can be misleading because these summary statistics do not account for the order or magnitude of the data. Similarly, applying parametric tests to non-normal data can result in unreliable and inaccurate results.\n",
    "\n",
    "Another example is when analyzing nominal data. The mode is the only appropriate summary statistic for nominal data, as there is no inherent order or numerical value to the categories. Any other summary statistics, such as the mean or median, would be meaningless.\n",
    "\n",
    "Therefore, understanding the level of measurement is crucial in selecting the appropriate statistical methods to analyze the data and making accurate interpretations and conclusions."
   ]
  },
  {
   "cell_type": "markdown",
   "id": "20e0de5f-06f4-42cd-b1b3-24f2b91ef3df",
   "metadata": {},
   "source": [
    "Q7- How nominal data type is different from ordinal data type."
   ]
  },
  {
   "cell_type": "markdown",
   "id": "d22eee98-9798-4ed2-ae5f-d63d8e465196",
   "metadata": {},
   "source": [
    "ANS- Nominal and ordinal are two different levels of measurement for variables.\n",
    "\n",
    "Nominal variables are variables that have values that are categorical in nature and cannot be ordered or ranked. Examples of nominal variables include gender (male or female), ethnicity (Asian, African, European, etc.), and marital status (single, married, divorced, widowed). In nominal data, the categories or labels are used to differentiate the values. Nominal data cannot be arranged in any meaningful order or sequence.\n",
    "\n",
    "Ordinal variables, on the other hand, have values that can be ranked or ordered, but the differences between the values are not necessarily equal or measurable. Examples of ordinal variables include socioeconomic status (low, medium, high), education level (primary, secondary, tertiary), and letter grades (A, B, C, D, F). In ordinal data, the categories have a meaningful order or sequence, but the differences between the values cannot be measured."
   ]
  },
  {
   "cell_type": "markdown",
   "id": "64a55b4b-64e2-465e-a3fb-2417f1fe2f62",
   "metadata": {},
   "source": [
    "Q8- Which type of plot can be used to display data in terms of range?"
   ]
  },
  {
   "cell_type": "markdown",
   "id": "702f8d97-731d-4285-ac24-be6130bfca21",
   "metadata": {},
   "source": [
    "The box plot provides a visual summary of the distribution of the data, showing the spread and skewness of the data, as well as any outliers. It can also be used to compare the distribution of data between different groups or categories."
   ]
  },
  {
   "cell_type": "markdown",
   "id": "4ef5c4ba-bed7-48dd-91bf-e0e3bf60f065",
   "metadata": {},
   "source": [
    "Q9- Describe the difference between descriptive and inferential statistics. Give an example of each\n",
    "type of statistics and explain how they are used."
   ]
  },
  {
   "cell_type": "markdown",
   "id": "80cc706f-252b-48da-865f-dd6e822623d0",
   "metadata": {},
   "source": [
    "ANS- The box plot provides a visual summary of the distribution of the data, showing the spread and skewness of the data, as well as any outliers. It can also be used to compare the distribution of data between different groups or categories."
   ]
  },
  {
   "cell_type": "markdown",
   "id": "9d57b1ac-90c1-4626-bec5-f972abe7007b",
   "metadata": {},
   "source": [
    "Q10. What are some common measures of central tendency and variability used in statistics? Explain\n",
    "how each measure can be used to describe a dataset."
   ]
  },
  {
   "cell_type": "markdown",
   "id": "6cd9cacc-5814-4369-be48-c4975c87d741",
   "metadata": {},
   "source": [
    "Some common measures of central tendency and variability used in statistics include mean, median, mode, range, variance, and standard deviation.\n",
    "Mean: The mean is the sum of all values in a dataset divided by the total number of values. It provides a measure of the \"average\" value of the data. The mean is sensitive to extreme values, known as outliers, and can be skewed by them.\n",
    "\n",
    "Median: The median is the middle value in a dataset when the values are ordered from smallest to largest. It provides a measure of the \"typical\" value of the data and is more robust to outliers than the mean.\n",
    "\n",
    "Mode: The mode is the most frequently occurring value in a dataset. It provides a measure of the most common value or category in the data.\n",
    "\n",
    "Range: The range is the difference between the maximum and minimum values in a dataset. It provides a measure of the spread or variability of the data.\n",
    "\n",
    "Variance: The variance is the average of the squared differences between each value and the mean of the data. It provides a measure of how far the data points are from the mean and is used in calculating the standard deviation.\n",
    "\n",
    "Standard deviation: The standard deviation is the square root of the variance. It provides a measure of the typical distance that each data point is from the mean and is commonly used as a measure of variability."
   ]
  }
 ],
 "metadata": {
  "kernelspec": {
   "display_name": "Python 3 (ipykernel)",
   "language": "python",
   "name": "python3"
  },
  "language_info": {
   "codemirror_mode": {
    "name": "ipython",
    "version": 3
   },
   "file_extension": ".py",
   "mimetype": "text/x-python",
   "name": "python",
   "nbconvert_exporter": "python",
   "pygments_lexer": "ipython3",
   "version": "3.10.8"
  }
 },
 "nbformat": 4,
 "nbformat_minor": 5
}
