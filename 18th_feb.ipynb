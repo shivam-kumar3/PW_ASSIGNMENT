{
 "cells": [
  {
   "cell_type": "raw",
   "id": "30897c10-e933-49c0-9150-3f175d4d3dcd",
   "metadata": {},
   "source": [
    "Q1. What is an API? Give an example, where an API is used in real life.\n",
    "Ans:\n",
    "API (application programming interface) is a way for two or more computer programs, web application, or apps to communicate with each other.\n",
    "\n",
    "Ex. G Pay It is a google application, which is used to communicate betwee bank to Account holder. When account holder wants to send money his friend then go to GPay and put friend's account details and then send money by using it. And GPay go to bank server and check your account balance and then successful transection or deny this request.\n",
    "\n",
    "WhatsApp, PePhone, Google, .etc"
   ]
  },
  {
   "cell_type": "raw",
   "id": "2882dc01-2560-41c8-b5c1-a0a17c84254d",
   "metadata": {},
   "source": [
    "Q2- Give advantages and disadvantages of using API.\n",
    "Advantages\t\n",
    "Interpretation of real objects\t\n",
    "Identification of complex patterns and complex situations\t\n",
    "Ability to include or ignore features intelli- gently\t\n",
    "Multi-scale representation\t\n",
    "Use of shape, context, neighbourhood relationships\t\n",
    "\n",
    "\n",
    "Disadvantages\n",
    "Imprecise boundary delineation\n",
    "Subjective\n",
    "Time consuming\n",
    "A fixed scale is necessary\n",
    "Inconsistency in the use of a steady scale to the whole image Human error"
   ]
  },
  {
   "cell_type": "raw",
   "id": "b2319c41-897d-4119-9d49-c92bdbedf411",
   "metadata": {},
   "source": [
    "Q3. What is a Web API? Differentiate between API and Web API.\n",
    "Ans:\n",
    "\n",
    "Web API is an application programming interface for the Web.\n",
    "\n",
    "Web API is a subset of API\n",
    "It is specily designed for webpage"
   ]
  },
  {
   "cell_type": "raw",
   "id": "1084d6d2-80a3-468f-b073-394cda7d570e",
   "metadata": {},
   "source": [
    "                          APIs\t                                                             Web APIs\n",
    "Protocol\t    TCP, FTP, or SMTP to communicate\t                                       HTTP protocol\n",
    "Platform\t    used for creating any type of application\t                         specifically for web-based applications\n",
    "Data formats\tsupport various data formats like as XML, JSON, or CSV,\t           support JSON or XML formats\n",
    "Security\t    variety of security mechanisms\t                                  standard web security protocols such as OAuth or API keys  "
   ]
  },
  {
   "cell_type": "raw",
   "id": "c41a544d-97b9-46eb-ad48-5c57b63507e2",
   "metadata": {},
   "source": [
    "Q4. Explain REST and SOAP Architecture. Mention shortcomings of SOAP.\n",
    "Ans:\n",
    "\n",
    "REST stands for REpresentational State Transfer and API stands for Application Program Interface. REST is a software architectural style that defines the set of rules to be used for creating web services.\n",
    "A Restful system consists of a:\n",
    "\n",
    "client who requests for the resources.\n",
    "server who has the resources.\n",
    "\n",
    "\n",
    "SOAP (formerly a backronym for Simple Object Access Protocol) is a messaging protocol specification for exchanging structured information in the implementation of web services\n",
    "SOAP messaging structure\n",
    "\n",
    "Envelope\n",
    "Header (optional)\n",
    "Body includes the request or response.\n",
    "Fault\n",
    "Shortcomings of SOAP\n",
    "\n",
    "Complexity in code and understanding\n",
    "Performance slower than other web service protocols\n",
    "Developers facing Tooling problems"
   ]
  },
  {
   "cell_type": "raw",
   "id": "0dfedf1a-a070-44ad-b831-51821635d80e",
   "metadata": {},
   "source": [
    "Q5. Differentiate between REST and SOAP.\n",
    "Ans:\n",
    "\n",
    "                                                REST\t             SOAP\n",
    "Protocol\t                                    HTTP\t           Messaging\n",
    "Performance\t                                    Faster\t           Slower\n",
    "Scalability\t                                    Scalable\t       Defcault to scale\n",
    "Caching\t                                        Available\t       Not available\n",
    "Statelessness\t                                Stateless\t       Maintain state"
   ]
  },
  {
   "cell_type": "code",
   "execution_count": null,
   "id": "76905e7c-42a1-4d96-9c4d-0c432593c3e4",
   "metadata": {},
   "outputs": [],
   "source": []
  },
  {
   "cell_type": "code",
   "execution_count": null,
   "id": "6ebb194f-f9a3-41ae-8ca0-1b390731def5",
   "metadata": {},
   "outputs": [],
   "source": []
  }
 ],
 "metadata": {
  "kernelspec": {
   "display_name": "Python 3 (ipykernel)",
   "language": "python",
   "name": "python3"
  },
  "language_info": {
   "codemirror_mode": {
    "name": "ipython",
    "version": 3
   },
   "file_extension": ".py",
   "mimetype": "text/x-python",
   "name": "python",
   "nbconvert_exporter": "python",
   "pygments_lexer": "ipython3",
   "version": "3.10.8"
  }
 },
 "nbformat": 4,
 "nbformat_minor": 5
}
