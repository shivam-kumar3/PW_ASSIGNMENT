{
 "cells": [
  {
   "cell_type": "raw",
   "id": "16ea88f2-99d4-4c1e-a8ad-a2e92fcbbfb8",
   "metadata": {},
   "source": [
    "Q1. What is MongoDB? Explain non-relational databases in short. In which scenarios it is preferred to use MongoDB over SQL databases?\n",
    "MongoDB is a NoSql database\n",
    "\n",
    "non-relational databases support unstructured or semi-structured data also.\n",
    "non-relational databases no need to predefine schema\n",
    "non-relational databases is a best option for memory management\n",
    "When you know your data may be unstructured or semi-structured, and you also need a flexible schema"
   ]
  },
  {
   "cell_type": "raw",
   "id": "a48d9ebe-d3f0-4b59-8b5f-5aa2a1d1016c",
   "metadata": {},
   "source": [
    "Q2. State and Explain the features of MongoDB.\n",
    "Ans :\n",
    "\n",
    "This is a Schema-less Database\n",
    "This is Document Oriented or key-value\n",
    "This allows Dynamic Queries (no need schema)\n",
    "Power full Aggregation for filtering, sorting, etc."
   ]
  },
  {
   "cell_type": "raw",
   "id": "680efe36-3da2-47cb-a7f6-00b9512f01f4",
   "metadata": {},
   "source": [
    "Q3. Write a code to connect MongoDB to Python. Also, create a database and a collection in MongoDB."
   ]
  },
  {
   "cell_type": "code",
   "execution_count": null,
   "id": "9608097f-d6ba-4410-8d29-103311a3459c",
   "metadata": {},
   "outputs": [],
   "source": [
    "#connect MongoDB to Python\n",
    "import pymongo\n",
    "client = pymongo.MongoClient(\"mongodb+srv://<username>:<passeord>@cluster0.m6yagtd.mongodb.net/?retryWrites=true&w=majority\")\n",
    "db = client.test"
   ]
  },
  {
   "cell_type": "code",
   "execution_count": null,
   "id": "1871705a-079b-4ef0-ae83-4643e1ee9866",
   "metadata": {},
   "outputs": [],
   "source": [
    "# create a database\n",
    "db = client['TestDatabase']  "
   ]
  },
  {
   "cell_type": "code",
   "execution_count": null,
   "id": "433e80cd-bee1-4923-9b75-3ee5b56277cd",
   "metadata": {},
   "outputs": [],
   "source": [
    "# collection in MongoDB\n",
    "data = {\"name\" : \"Akram\" , \n",
    "        \"class\" :\"data science masters \" ,\n",
    "        \"time\" : \"flexi\"}\n",
    "test_collection = db[\"my_record\"]\n",
    "test_collection.insert_one(data1)"
   ]
  },
  {
   "cell_type": "raw",
   "id": "04cb1273-a298-4ed5-aac1-91dbbb9d3ead",
   "metadata": {},
   "source": [
    "Q4. Using the database and the collection created in question number 3, write a code to insert one record, and insert many records. Use the find() and find_one() methods to print the inserted record."
   ]
  },
  {
   "cell_type": "code",
   "execution_count": null,
   "id": "f7e5f57e-35da-4a84-b348-7b6047e60f07",
   "metadata": {},
   "outputs": [],
   "source": [
    "#connect MongoDB to Python\n",
    "import pymongo\n",
    "client = pymongo.MongoClient(\"mongodb+srv://<username>:<passeord>@cluster0.m6yagtd.mongodb.net/?retryWrites=true&w=majority\")\n",
    "db = client.test\n",
    "db = client['TestDatabase']  \n",
    "data = {\"name\" : \"Akram\" , \n",
    "        \"class\" :\"data science masters \" ,\n",
    "        \"time\" : \"flexi\"}\n",
    "test_collection = db[\"my_record\"]\n",
    "test_collection.insert_one(data1)\n",
    "\n",
    " data2 = [\n",
    "  { \"name\": \"Amy\", \"address\": \"Apple st 652\" },\n",
    "  { \"name\": \"Hannah\", \"address\": \"Mountain 21\" },\n",
    "  { \"name\": \"Chuck\", \"address\": \"Main Road 989\" },\n",
    "  { \"name\": \"Viola\", \"address\": \"Sideway 1633\" }\n",
    "]\n",
    "test_collection.insert_many(data2)  "
   ]
  },
  {
   "cell_type": "code",
   "execution_count": null,
   "id": "c996ccaf-c736-42b7-a48a-00daba30d8f3",
   "metadata": {},
   "outputs": [],
   "source": [
    "test_collection.find_one() "
   ]
  },
  {
   "cell_type": "code",
   "execution_count": null,
   "id": "52f73253-dcb5-460e-a04f-f6b3dbffd692",
   "metadata": {},
   "outputs": [],
   "source": [
    "for i in test_collection.find():         # find all document from collection/table\n",
    "    print(i)"
   ]
  },
  {
   "cell_type": "raw",
   "id": "5fe6d49b-6cf9-436f-955a-d18d4c8ac4f1",
   "metadata": {},
   "source": [
    "Q5. Explain how you can use the find() method to query the MongoDB database. Write a simple code to demonstrate this.\n",
    "find(): This function used to query and retrieve data from a MongoDB collection."
   ]
  },
  {
   "cell_type": "code",
   "execution_count": null,
   "id": "5d1efefe-c0bf-490b-b9e2-3db24ef150ed",
   "metadata": {},
   "outputs": [],
   "source": [
    "for i in test_collection.find({'name': 'Chuck'}): \n",
    "    print(i)"
   ]
  },
  {
   "cell_type": "code",
   "execution_count": null,
   "id": "b08bf611-8011-4037-8780-1700922435cb",
   "metadata": {},
   "outputs": [],
   "source": [
    "for i in test_collection.find({\"_id\" :{\"$lt\" : '5'}}):  \n",
    "    print(i) "
   ]
  },
  {
   "cell_type": "raw",
   "id": "941447bc-5adb-4f7b-b272-aa60a5995010",
   "metadata": {},
   "source": [
    "Q6. Explain the sort() method. Give an example to demonstrate sorting in MongoDB.\n",
    "sort(): It is used to sort result quety"
   ]
  },
  {
   "cell_type": "code",
   "execution_count": null,
   "id": "e41e0f15-7851-4cb1-8199-8591afa7bb18",
   "metadata": {},
   "outputs": [],
   "source": [
    "# sort rutern data in order to name\n",
    "for i in test_collection.find().sort(\"name\"):\n",
    "    print(i)"
   ]
  },
  {
   "cell_type": "code",
   "execution_count": null,
   "id": "9df7358c-cc05-4fc7-8d2b-c8447e869518",
   "metadata": {},
   "outputs": [],
   "source": [
    "#sort in descending order\n",
    "for i in test_collection.find().sort(\"name\",-1):\n",
    "    print(i)"
   ]
  },
  {
   "cell_type": "raw",
   "id": "f988ae32-4c6c-4c95-bfef-cf9a0d9f202e",
   "metadata": {},
   "source": [
    "Q7. Explain why delete_one(), delete_many(), and drop() is used.\n",
    "delete_one(): It is used to delete single document from collection"
   ]
  },
  {
   "cell_type": "code",
   "execution_count": null,
   "id": "36b862a9-3431-478f-a396-d9223ebfaff0",
   "metadata": {},
   "outputs": [],
   "source": [
    "test_collection.delete_one({'name': 'Chuck'})"
   ]
  },
  {
   "cell_type": "raw",
   "id": "6d38e4e9-747b-46fc-a283-29986145ff11",
   "metadata": {},
   "source": [
    "delete_many(): It is used to delete all data according to condition"
   ]
  },
  {
   "cell_type": "code",
   "execution_count": null,
   "id": "67b5e5a5-b8a8-4671-87e5-36928a7e24b3",
   "metadata": {},
   "outputs": [],
   "source": [
    "test_collection.delete_many({\"address\": { \"$regex\": \"^S\" }})"
   ]
  },
  {
   "cell_type": "raw",
   "id": "6d0ac036-22bc-496e-a72f-06dc964abe18",
   "metadata": {},
   "source": [
    "drop(): It is used to drop/delete collection from MongoDB database"
   ]
  },
  {
   "cell_type": "code",
   "execution_count": null,
   "id": "0e2adcf3-7a21-4a46-8b15-ace8e7a95443",
   "metadata": {},
   "outputs": [],
   "source": [
    "mycol = db[\"TestDatabase\"]                 # Create collection\n",
    "mycol.drop()                               #drop collection"
   ]
  },
  {
   "cell_type": "code",
   "execution_count": null,
   "id": "24ce246c-2b8c-44de-a423-8797764443b2",
   "metadata": {},
   "outputs": [],
   "source": []
  }
 ],
 "metadata": {
  "kernelspec": {
   "display_name": "Python 3 (ipykernel)",
   "language": "python",
   "name": "python3"
  },
  "language_info": {
   "codemirror_mode": {
    "name": "ipython",
    "version": 3
   },
   "file_extension": ".py",
   "mimetype": "text/x-python",
   "name": "python",
   "nbconvert_exporter": "python",
   "pygments_lexer": "ipython3",
   "version": "3.10.8"
  }
 },
 "nbformat": 4,
 "nbformat_minor": 5
}
