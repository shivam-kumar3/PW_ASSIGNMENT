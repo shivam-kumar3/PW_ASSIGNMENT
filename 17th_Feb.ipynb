{
 "cells": [
  {
   "cell_type": "code",
   "execution_count": null,
   "id": "0c5a7b09-6156-4b56-850b-3091abbcd915",
   "metadata": {},
   "outputs": [],
   "source": [
    "Q1. What is MongoDB? Explain non-relational databases in short. In which scenarios it is preferred to use MongoDB over SQL databases?\n",
    "MongoDB is a NoSql database\n",
    "\n",
    "non-relational databases support unstructured or semi-structured data also.\n",
    "non-relational databases no need to predefine schema\n",
    "non-relational databases is a best option for memory management\n",
    "When you know your data may be unstructured or semi-structured, and you also need a flexible schema"
   ]
  },
  {
   "cell_type": "code",
   "execution_count": null,
   "id": "e84e47d1-4033-422a-86c7-276c1f296892",
   "metadata": {},
   "outputs": [],
   "source": [
    "Q2. State and Explain the features of MongoDB.\n",
    "Ans :\n",
    "\n",
    "This is a Schema-less Database\n",
    "This is Document Oriented or key-value\n",
    "This allows Dynamic Queries (no need schema)\n",
    "Power full Aggregation for filtering, sorting, etc."
   ]
  },
  {
   "cell_type": "code",
   "execution_count": null,
   "id": "961a8c7c-8fc7-411f-95ae-f95788115128",
   "metadata": {},
   "outputs": [],
   "source": [
    "Q3. Write a code to connect MongoDB to Python. Also, create a database and a collection in MongoDB."
   ]
  },
  {
   "cell_type": "code",
   "execution_count": null,
   "id": "9608097f-d6ba-4410-8d29-103311a3459c",
   "metadata": {},
   "outputs": [],
   "source": [
    "#connect MongoDB to Python\n",
    "import pymongo\n",
    "client = pymongo.MongoClient(\"mongodb+srv://<username>:<passeord>@cluster0.m6yagtd.mongodb.net/?retryWrites=true&w=majority\")\n",
    "db = client.test"
   ]
  },
  {
   "cell_type": "code",
   "execution_count": null,
   "id": "1871705a-079b-4ef0-ae83-4643e1ee9866",
   "metadata": {},
   "outputs": [],
   "source": [
    "# create a database\n",
    "db = client['TestDatabase']  "
   ]
  },
  {
   "cell_type": "code",
   "execution_count": null,
   "id": "433e80cd-bee1-4923-9b75-3ee5b56277cd",
   "metadata": {},
   "outputs": [],
   "source": [
    "# collection in MongoDB\n",
    "data = {\"name\" : \"Akram\" , \n",
    "        \"class\" :\"data science masters \" ,\n",
    "        \"time\" : \"flexi\"}\n",
    "test_collection = db[\"my_record\"]\n",
    "test_collection.insert_one(data1)"
   ]
  },
  {
   "cell_type": "code",
   "execution_count": null,
   "id": "75b91325-3443-4389-80ec-ad7d9462530b",
   "metadata": {},
   "outputs": [],
   "source": [
    "Q4. Using the database and the collection created in question number 3, write a code to insert one record, and insert many records. Use the find() and find_one() methods to print the inserted record."
   ]
  },
  {
   "cell_type": "code",
   "execution_count": null,
   "id": "f7e5f57e-35da-4a84-b348-7b6047e60f07",
   "metadata": {},
   "outputs": [],
   "source": [
    "#connect MongoDB to Python\n",
    "import pymongo\n",
    "client = pymongo.MongoClient(\"mongodb+srv://<username>:<passeord>@cluster0.m6yagtd.mongodb.net/?retryWrites=true&w=majority\")\n",
    "db = client.test\n",
    "db = client['TestDatabase']  \n",
    "data = {\"name\" : \"Akram\" , \n",
    "        \"class\" :\"data science masters \" ,\n",
    "        \"time\" : \"flexi\"}\n",
    "test_collection = db[\"my_record\"]\n",
    "test_collection.insert_one(data1)\n",
    "\n",
    " data2 = [\n",
    "  { \"name\": \"Amy\", \"address\": \"Apple st 652\" },\n",
    "  { \"name\": \"Hannah\", \"address\": \"Mountain 21\" },\n",
    "  { \"name\": \"Chuck\", \"address\": \"Main Road 989\" },\n",
    "  { \"name\": \"Viola\", \"address\": \"Sideway 1633\" }\n",
    "]\n",
    "test_collection.insert_many(data2)  "
   ]
  },
  {
   "cell_type": "code",
   "execution_count": null,
   "id": "c996ccaf-c736-42b7-a48a-00daba30d8f3",
   "metadata": {},
   "outputs": [],
   "source": [
    "test_collection.find_one() "
   ]
  },
  {
   "cell_type": "code",
   "execution_count": null,
   "id": "52f73253-dcb5-460e-a04f-f6b3dbffd692",
   "metadata": {},
   "outputs": [],
   "source": [
    "for i in test_collection.find():         # find all document from collection/table\n",
    "    print(i)"
   ]
  },
  {
   "cell_type": "code",
   "execution_count": null,
   "id": "c33233be-014c-4206-8631-d54838072440",
   "metadata": {},
   "outputs": [],
   "source": [
    "Q5. Explain how you can use the find() method to query the MongoDB database. Write a simple code to demonstrate this.\n",
    "find(): This function used to query and retrieve data from a MongoDB collection."
   ]
  },
  {
   "cell_type": "code",
   "execution_count": null,
   "id": "5d1efefe-c0bf-490b-b9e2-3db24ef150ed",
   "metadata": {},
   "outputs": [],
   "source": [
    "for i in test_collection.find({'name': 'Chuck'}): \n",
    "    print(i)"
   ]
  },
  {
   "cell_type": "code",
   "execution_count": null,
   "id": "b08bf611-8011-4037-8780-1700922435cb",
   "metadata": {},
   "outputs": [],
   "source": [
    "for i in test_collection.find({\"_id\" :{\"$lt\" : '5'}}):  \n",
    "    print(i) "
   ]
  },
  {
   "cell_type": "code",
   "execution_count": null,
   "id": "a7317ef3-0fa9-487e-a6e7-00d7035b8b87",
   "metadata": {},
   "outputs": [],
   "source": [
    "Q6. Explain the sort() method. Give an example to demonstrate sorting in MongoDB.\n",
    "sort(): It is used to sort result quety"
   ]
  },
  {
   "cell_type": "code",
   "execution_count": null,
   "id": "e41e0f15-7851-4cb1-8199-8591afa7bb18",
   "metadata": {},
   "outputs": [],
   "source": [
    "# sort rutern data in order to name\n",
    "for i in test_collection.find().sort(\"name\"):\n",
    "    print(i)"
   ]
  },
  {
   "cell_type": "code",
   "execution_count": null,
   "id": "9df7358c-cc05-4fc7-8d2b-c8447e869518",
   "metadata": {},
   "outputs": [],
   "source": [
    "#sort in descending order\n",
    "for i in test_collection.find().sort(\"name\",-1):\n",
    "    print(i)"
   ]
  },
  {
   "cell_type": "code",
   "execution_count": null,
   "id": "d617ab92-15fd-4c23-80c4-6d6369c826c6",
   "metadata": {},
   "outputs": [],
   "source": [
    "Q7. Explain why delete_one(), delete_many(), and drop() is used.\n",
    "delete_one(): It is used to delete single document from collection"
   ]
  },
  {
   "cell_type": "code",
   "execution_count": null,
   "id": "36b862a9-3431-478f-a396-d9223ebfaff0",
   "metadata": {},
   "outputs": [],
   "source": [
    "test_collection.delete_one({'name': 'Chuck'})"
   ]
  },
  {
   "cell_type": "code",
   "execution_count": null,
   "id": "cae0c519-9923-4392-a2b6-091ecf94da96",
   "metadata": {},
   "outputs": [],
   "source": [
    "delete_many(): It is used to delete all data according to condition"
   ]
  },
  {
   "cell_type": "code",
   "execution_count": null,
   "id": "67b5e5a5-b8a8-4671-87e5-36928a7e24b3",
   "metadata": {},
   "outputs": [],
   "source": [
    "test_collection.delete_many({\"address\": { \"$regex\": \"^S\" }})"
   ]
  },
  {
   "cell_type": "code",
   "execution_count": null,
   "id": "da219ca1-86ab-4ee9-a0e8-dc6d43c03736",
   "metadata": {},
   "outputs": [],
   "source": [
    "drop(): It is used to drop/delete collection from MongoDB database"
   ]
  },
  {
   "cell_type": "code",
   "execution_count": null,
   "id": "0e2adcf3-7a21-4a46-8b15-ace8e7a95443",
   "metadata": {},
   "outputs": [],
   "source": [
    "mycol = db[\"TestDatabase\"]                 # Create collection\n",
    "mycol.drop()                               #drop collection"
   ]
  },
  {
   "cell_type": "code",
   "execution_count": null,
   "id": "24ce246c-2b8c-44de-a423-8797764443b2",
   "metadata": {},
   "outputs": [],
   "source": []
  }
 ],
 "metadata": {
  "kernelspec": {
   "display_name": "Python 3 (ipykernel)",
   "language": "python",
   "name": "python3"
  },
  "language_info": {
   "codemirror_mode": {
    "name": "ipython",
    "version": 3
   },
   "file_extension": ".py",
   "mimetype": "text/x-python",
   "name": "python",
   "nbconvert_exporter": "python",
   "pygments_lexer": "ipython3",
   "version": "3.10.8"
  }
 },
 "nbformat": 4,
 "nbformat_minor": 5
}
