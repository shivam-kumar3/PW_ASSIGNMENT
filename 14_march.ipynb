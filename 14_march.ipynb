{
 "cells": [
  {
   "cell_type": "markdown",
   "id": "f7eb6517-25d6-4f13-ac1d-f7e73f147db9",
   "metadata": {},
   "source": [
    "Q1. Write a Python function that takes in two arrays of data and calculates the F-value for a variance ratio\n",
    "test. The function should return the F-value and the corresponding p-value for the test."
   ]
  },
  {
   "cell_type": "code",
   "execution_count": 1,
   "id": "29fc824c-e3ac-4426-b578-317f04af2685",
   "metadata": {},
   "outputs": [],
   "source": [
    "import numpy as np\n",
    "from scipy.stats import f_oneway\n",
    "\n",
    "def variance_ratio_test(data1, data2):\n",
    "    # Calculate the F-value and p-value for a variance ratio test\n",
    "    f_value, p_value = f_oneway(data1, data2)\n",
    "\n",
    "    # Return the F-value and p-value\n",
    "    return f_value, p_value\n"
   ]
  },
  {
   "cell_type": "code",
   "execution_count": 2,
   "id": "7b7349a2-8f18-4161-8f67-8cf3b84e9fb0",
   "metadata": {},
   "outputs": [],
   "source": [
    "data1 = np.array([1, 2, 3, 4, 5])\n",
    "data2 = np.array([2, 4, 6, 8, 10])\n"
   ]
  },
  {
   "cell_type": "code",
   "execution_count": 3,
   "id": "b0e1d3ae-c527-47cf-9bd0-b9f50fc8e03b",
   "metadata": {},
   "outputs": [
    {
     "name": "stdout",
     "output_type": "stream",
     "text": [
      "F-value: 3.6\n",
      "p-value: 0.0943497728424377\n"
     ]
    }
   ],
   "source": [
    "f_value, p_value = variance_ratio_test(data1, data2)\n",
    "print(\"F-value:\", f_value)\n",
    "print(\"p-value:\", p_value)\n"
   ]
  },
  {
   "cell_type": "markdown",
   "id": "9eaf433c-73ae-47e4-bcbe-3dc26bc6e543",
   "metadata": {},
   "source": [
    "Q2. Given a significance level of 0.05 and the degrees of freedom for the numerator and denominator of an\n",
    "F-distribution, write a Python function that returns the critical F-value for a two-tailed test."
   ]
  },
  {
   "cell_type": "code",
   "execution_count": 4,
   "id": "99bb50bc-1880-4558-b610-e7c78fa4293b",
   "metadata": {},
   "outputs": [],
   "source": [
    "from scipy.stats import f\n",
    "\n",
    "def critical_f_value(alpha, dfn, dfd):\n",
    "    \"\"\"\n",
    "    Returns the critical F-value for a two-tailed test given a significance level (alpha) and degrees of\n",
    "    freedom for the numerator (dfn) and denominator (dfd) of an F-distribution.\n",
    "    \"\"\"\n",
    "    return f.ppf(1 - alpha / 2, dfn, dfd)\n"
   ]
  },
  {
   "cell_type": "code",
   "execution_count": 5,
   "id": "57236b4d-b6c8-482e-91b6-39801b7acfa1",
   "metadata": {},
   "outputs": [
    {
     "name": "stdout",
     "output_type": "stream",
     "text": [
      "Critical F-value: 4.07682306196248\n"
     ]
    }
   ],
   "source": [
    "alpha = 0.05\n",
    "dfn = 3\n",
    "dfd = 16\n",
    "\n",
    "critical_f = critical_f_value(alpha, dfn, dfd)\n",
    "\n",
    "print(\"Critical F-value:\", critical_f)\n"
   ]
  },
  {
   "cell_type": "markdown",
   "id": "c486eaba-2bd8-406c-99fe-fb223d99b567",
   "metadata": {},
   "source": [
    "Q3. Write a Python program that generates random samples from two normal distributions with known\n",
    "\n",
    "variances and uses an F-test to determine if the variances are equal. The program should output the F-\n",
    "value, degrees of freedom, and p-value for the test."
   ]
  },
  {
   "cell_type": "code",
   "execution_count": 7,
   "id": "709b6574-b0f7-4960-b5a9-a25b8161d7c5",
   "metadata": {},
   "outputs": [
    {
     "name": "stdout",
     "output_type": "stream",
     "text": [
      "F-value: 0.626047447123898\n",
      "Degrees of freedom (numerator, denominator): 49 49\n",
      "p-value: 1.895514734860215\n"
     ]
    }
   ],
   "source": [
    "import numpy as np\n",
    "from scipy.stats import f\n",
    "\n",
    "# Set seed for reproducibility\n",
    "np.random.seed(123)\n",
    "\n",
    "# Generate random samples from two normal distributions with known variances\n",
    "n1 = 50\n",
    "n2 = 50\n",
    "mean1 = 0\n",
    "mean2 = 0\n",
    "var1 = 1\n",
    "var2 = 2\n",
    "sample1 = np.random.normal(mean1, np.sqrt(var1), n1)\n",
    "sample2 = np.random.normal(mean2, np.sqrt(var2), n2)\n",
    "\n",
    "# Calculate F-value, degrees of freedom, and p-value for F-test\n",
    "f_value = np.var(sample1, ddof=1) / np.var(sample2, ddof=1)\n",
    "df_num = n1 - 1\n",
    "df_denom = n2 - 1\n",
    "p_value = 2 * (1 - f.cdf(f_value, df_num, df_denom))\n",
    "\n",
    "# Output results\n",
    "print(\"F-value:\", f_value)\n",
    "print(\"Degrees of freedom (numerator, denominator):\", df_num, df_denom)\n",
    "print(\"p-value:\", p_value)\n"
   ]
  },
  {
   "cell_type": "markdown",
   "id": "7ee6e487-4460-4050-93aa-54892a8588cb",
   "metadata": {},
   "source": [
    "Q4.The variances of two populations are known to be 10 and 15. A sample of 12 observations is taken from\n",
    "each population. Conduct an F-test at the 5% significance level to determine if the variances are\n",
    "significantly different."
   ]
  },
  {
   "cell_type": "markdown",
   "id": "143bf4e1-ae9d-4c67-b351-6ed1bd55e63b",
   "metadata": {},
   "source": [
    "we need to set up our null and alternative hypotheses. The null hypothesis is that the variances of the two populations are equal, while the alternative hypothesis is that they are not equal. Mathematically, we can write:\n",
    "\n",
    "H0: σ1^2 = σ2^2\n",
    "Ha: σ1^2 ≠ σ2^2\n",
    "\n",
    "Next, we need to calculate the F-statistic using the formula:\n",
    "\n",
    "F = s1^2 / s2^2\n",
    "\n",
    "where s1^2 and s2^2 are the sample variances of the two populations. In this case, we don't actually have the sample data, but we do know the sample sizes (n1 = n2 = 12) and the population variances (σ1^2 = 10 and σ2^2 = 15). We can use the chi-squared distribution to find the sample variances:\n",
    "\n",
    "χ1^2 ~ Χ^2(n1-1)\n",
    "χ2^2 ~ Χ^2(n2-1)\n",
    "\n",
    "We can then use the sample variances to calculate the F-statistic:\n",
    "\n",
    "F = (χ1^2 / (n1 - 1)) / (χ2^2 / (n2 - 1))\n",
    "\n",
    "Plugging in the numbers, we get:\n",
    "\n",
    "F = (χ1^2 / 11) / (χ2^2 / 11)\n",
    "F = (10χ1^2) / (15χ2^2)\n",
    "\n",
    "We can then use the F-distribution to find the p-value associated with this F-statistic. Since we're conducting a two-tailed test, we need to find the area in both tails of the F-distribution that corresponds to a significance level of 0.05. We can use Python to find the critical F-value using the scipy.stats.f function:"
   ]
  },
  {
   "cell_type": "code",
   "execution_count": 8,
   "id": "ab88e217-b469-496c-b062-e40a82b95b99",
   "metadata": {},
   "outputs": [],
   "source": [
    "from scipy.stats import f\n",
    "\n",
    "alpha = 0.05\n",
    "df1 = 11\n",
    "df2 = 11\n",
    "\n",
    "critical_F = f.ppf(alpha/2, df1, df2, loc=0, scale=1)\n"
   ]
  },
  {
   "cell_type": "code",
   "execution_count": 9,
   "id": "245505af-58f8-4c7c-8875-e9d75346b18a",
   "metadata": {},
   "outputs": [
    {
     "name": "stdout",
     "output_type": "stream",
     "text": [
      "F-statistic:  5.29382142232668\n",
      "p-value:  0.01019922667441129\n"
     ]
    }
   ],
   "source": [
    "F_statistic = (10 * f.ppf(0.95, 11, 11)) / (15 * f.ppf(0.05, 11, 11))\n",
    "p_value = 2 * f.sf(F_statistic, 11, 11)\n",
    "\n",
    "print(\"F-statistic: \", F_statistic)\n",
    "print(\"p-value: \", p_value)\n"
   ]
  },
  {
   "cell_type": "markdown",
   "id": "39e87b07-4f08-4af5-b3f5-98c119779088",
   "metadata": {},
   "source": [
    "Q5. A manufacturer claims that the variance of the diameter of a certain product is 0.005. A sample of 25\n",
    "products is taken, and the sample variance is found to be 0.006. Conduct an F-test at the 1% significance\n",
    "level to determine if the claim is justified."
   ]
  },
  {
   "cell_type": "markdown",
   "id": "b8af1eaa-5bf3-4f5a-b938-9527311b09c9",
   "metadata": {},
   "source": [
    "To test whether the claim is justified, we need to conduct an F-test where the null hypothesis is that the population variance is equal to the claimed variance of 0.005 and the alternative hypothesis is that the population variance is greater than 0.005.\n",
    "\n",
    "The F-statistic is calculated as:\n",
    "\n",
    "F = s<sup>2</sup> / σ<sup>2</sup>\n",
    "\n",
    "where s<sup>2</sup> is the sample variance and σ<sup>2</sup> is the claimed population variance.\n",
    "\n",
    "Under the null hypothesis, the F-statistic follows an F-distribution with degrees of freedom (n-1) for the numerator and (n-1) for the denominator, where n is the sample size.\n",
    "\n",
    "Let's set the significance level at 1% (α = 0.01) and determine the critical value of F for a one-tailed test with (n-1) = 24 degrees of freedom in the numerator and (n-1) = 24 degrees of freedom in the denominator. Using a table or a calculator, we find that the critical F-value is 2.82.\n",
    "\n",
    "Now we can calculate the F-value for our sample:\n",
    "\n",
    "F = 0.006 / 0.005 = 1.2\n",
    "\n",
    "Since our calculated F-value is less than the critical value of 2.82, we fail to reject the null hypothesis. Therefore, we do not have enough evidence to conclude that the population variance is greater than 0.005. The claim made by the manufacturer is not contradicted by our sample data at the 1% significance level."
   ]
  },
  {
   "cell_type": "markdown",
   "id": "acc75c62-e19c-40a1-ae16-12c83fe97e71",
   "metadata": {},
   "source": [
    "Q6. Write a Python function that takes in the degrees of freedom for the numerator and denominator of an\n",
    "F-distribution and calculates the mean and variance of the distribution. The function should return the\n",
    "mean and variance as a tuple."
   ]
  },
  {
   "cell_type": "code",
   "execution_count": 10,
   "id": "810eb99e-3355-44e8-8b3f-a243a990c064",
   "metadata": {},
   "outputs": [],
   "source": [
    "import math\n",
    "\n",
    "def f_distribution_mean_var(df_numerator, df_denominator):\n",
    "    \"\"\"\n",
    "    Calculate the mean and variance of an F-distribution given the degrees of freedom\n",
    "    for the numerator and denominator.\n",
    "\n",
    "    Parameters:\n",
    "    df_numerator (int): Degrees of freedom for the numerator\n",
    "    df_denominator (int): Degrees of freedom for the denominator\n",
    "\n",
    "    Returns:\n",
    "    tuple: A tuple containing the mean and variance of the F-distribution\n",
    "    \"\"\"\n",
    "    if df_numerator <= 0 or df_denominator <= 0:\n",
    "        raise ValueError(\"Degrees of freedom must be greater than zero.\")\n",
    "    \n",
    "    mean = df_denominator / (df_denominator - 2)\n",
    "    variance = (2 * df_denominator**2 * (df_numerator + df_denominator - 2)) / \\\n",
    "               (df_numerator * (df_denominator - 2)**2 * (df_denominator - 4))\n",
    "    \n",
    "    return mean, variance\n"
   ]
  },
  {
   "cell_type": "markdown",
   "id": "78702ca8-0c38-469c-8aba-073bd35acf39",
   "metadata": {},
   "source": [
    "Q7. A random sample of 10 measurements is taken from a normal population with unknown variance. The\n",
    "sample variance is found to be 25. Another random sample of 15 measurements is taken from another\n",
    "normal population with unknown variance, and the sample variance is found to be 20. Conduct an F-test\n",
    "at the 10% significance level to determine if the variances are significantly different."
   ]
  },
  {
   "cell_type": "markdown",
   "id": "3e9d8e02-d0f6-4950-9ed1-de79373a103d",
   "metadata": {},
   "source": [
    "ans- To conduct the F-test to determine if the variances are significantly different, we need to follow the following steps:\n",
    "\n",
    "Define the null hypothesis and alternative hypothesis:\n",
    "H0: The variances of the two populations are equal.\n",
    "Ha: The variances of the two populations are not equal.\n",
    "Determine the significance level (alpha) and degrees of freedom for the two samples.\n",
    "alpha = 0.10\n",
    "df1 = n1 - 1 = 10 - 1 = 9\n",
    "df2 = n2 - 1 = 15 - 1 = 14\n",
    "Calculate the F-statistic:\n",
    "F = s1^2 / s2^2, where s1^2 is the larger sample variance.\n",
    "F = 25 / 20 = 1.25\n",
    "Calculate the critical F-value using the degrees of freedom and significance level:\n",
    "From an F-table or using the scipy.stats module:\n",
    "F_critical = 2.70 (df1=9, df2=14) at alpha=0.10.\n",
    "Compare the calculated F-statistic to the critical F-value:\n",
    "If F_statistic > F_critical, reject the null hypothesis.\n",
    "If F_statistic <= F_critical, fail to reject the null hypothesis.\n",
    "Since 1.25 < 2.70, we fail to reject the null hypothesis. Therefore, we do not have sufficient evidence to conclude that the variances of the two populations are significantly different at the 10% significance level."
   ]
  },
  {
   "cell_type": "markdown",
   "id": "4d4b2ae2-6139-42d0-9df1-537b1dd1e59e",
   "metadata": {},
   "source": [
    "Q8. The following data represent the waiting times in minutes at two different restaurants on a Saturday\n",
    "night: Restaurant A: 24, 25, 28, 23, 22, 20, 27; Restaurant B: 31, 33, 35, 30, 32, 36. Conduct an F-test at the 5%\n",
    "significance level to determine if the variances are significantly different."
   ]
  },
  {
   "cell_type": "code",
   "execution_count": 11,
   "id": "8e33c637-69bd-40ee-9f93-55b14deb27cf",
   "metadata": {},
   "outputs": [
    {
     "name": "stdout",
     "output_type": "stream",
     "text": [
      "F-value: 1.4551907719609583\n",
      "p-value: 0.6512592126031258\n"
     ]
    }
   ],
   "source": [
    "import numpy as np\n",
    "from scipy.stats import f\n",
    "\n",
    "# Sample data\n",
    "a = [24, 25, 28, 23, 22, 20, 27]\n",
    "b = [31, 33, 35, 30, 32, 36]\n",
    "\n",
    "# Calculate the variances and degrees of freedom\n",
    "var_a = np.var(a, ddof=1)\n",
    "var_b = np.var(b, ddof=1)\n",
    "df_a = len(a) - 1\n",
    "df_b = len(b) - 1\n",
    "\n",
    "# Calculate the F-value and p-value\n",
    "f_value = var_a / var_b\n",
    "p_value = f.cdf(f_value, df_a, df_b)\n",
    "\n",
    "# Print the results\n",
    "print(\"F-value:\", f_value)\n",
    "print(\"p-value:\", p_value)\n"
   ]
  },
  {
   "cell_type": "markdown",
   "id": "a91ddfc8-2b4d-46f3-9349-745a0f80dc99",
   "metadata": {},
   "source": [
    "Q9. The following data represent the test scores of two groups of students: Group A: 80, 85, 90, 92, 87, 83;\n",
    "Group B: 75, 78, 82, 79, 81, 84. Conduct an F-test at the 1% significance level to determine if the variances\n",
    "are significantly different."
   ]
  },
  {
   "cell_type": "code",
   "execution_count": 12,
   "id": "e5820dba-1ee7-4ae0-be13-929b72ed1ee7",
   "metadata": {},
   "outputs": [
    {
     "name": "stdout",
     "output_type": "stream",
     "text": [
      "Levene test p-value: 0.40103438967134647\n",
      "Equal variances assumed\n",
      "F-test p-value: 0.017684171924487787\n",
      "Variances are not significantly different\n"
     ]
    }
   ],
   "source": [
    "import numpy as np\n",
    "from scipy.stats import f_oneway, levene\n",
    "\n",
    "group_a = np.array([80, 85, 90, 92, 87, 83])\n",
    "group_b = np.array([75, 78, 82, 79, 81, 84])\n",
    "\n",
    "# perform Levene test for equality of variances\n",
    "stat, p = levene(group_a, group_b)\n",
    "alpha = 0.01\n",
    "print(f'Levene test p-value: {p}')\n",
    "if p > alpha:\n",
    "    print('Equal variances assumed')\n",
    "else:\n",
    "    print('Equal variances not assumed')\n",
    "\n",
    "# perform F-test for equality of means\n",
    "stat, p = f_oneway(group_a, group_b)\n",
    "alpha = 0.01\n",
    "print(f'F-test p-value: {p}')\n",
    "if p > alpha:\n",
    "    print('Variances are not significantly different')\n",
    "else:\n",
    "    print('Variances are significantly different')\n"
   ]
  },
  {
   "cell_type": "code",
   "execution_count": null,
   "id": "4f6a51cb-1208-4a6c-82bd-b6155aad85fe",
   "metadata": {},
   "outputs": [],
   "source": []
  }
 ],
 "metadata": {
  "kernelspec": {
   "display_name": "Python 3 (ipykernel)",
   "language": "python",
   "name": "python3"
  },
  "language_info": {
   "codemirror_mode": {
    "name": "ipython",
    "version": 3
   },
   "file_extension": ".py",
   "mimetype": "text/x-python",
   "name": "python",
   "nbconvert_exporter": "python",
   "pygments_lexer": "ipython3",
   "version": "3.10.8"
  }
 },
 "nbformat": 4,
 "nbformat_minor": 5
}
